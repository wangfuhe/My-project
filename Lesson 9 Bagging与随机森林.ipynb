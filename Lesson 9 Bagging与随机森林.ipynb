{
 "cells": [
  {
   "cell_type": "markdown",
   "metadata": {},
   "source": [
    "# 集成学习"
   ]
  },
  {
   "cell_type": "code",
   "execution_count": 2,
   "metadata": {},
   "outputs": [],
   "source": [
    "import numpy as np\n",
    "import pandas as pd\n",
    "import sklearn\n",
    "import matplotlib as mlp\n",
    "import seaborn as sns\n",
    "import re, pip, conda"
   ]
  },
  {
   "cell_type": "code",
   "execution_count": 2,
   "metadata": {},
   "outputs": [
    {
     "name": "stdout",
     "output_type": "stream",
     "text": [
      "sklearn 1.0.1\n",
      "matplotlib 3.4.3\n",
      "numpy 1.20.3\n",
      "pandas 1.3.4\n",
      "seaborn 0.11.2\n",
      "pip 21.3.1\n",
      "conda 4.10.3\n"
     ]
    }
   ],
   "source": [
    "for package in [sklearn,mlp,np,pd,sns,pip,conda]:\n",
    "    print(re.findall(\"([^']*)\",str(package))[2],package.__version__)"
   ]
  },
  {
   "cell_type": "code",
   "execution_count": 3,
   "metadata": {},
   "outputs": [],
   "source": [
    "#pip install --upgrade scikit-learn\n",
    "#conda update scikit-learn"
   ]
  },
  {
   "cell_type": "markdown",
   "metadata": {},
   "source": [
    "**目录**\n",
    "\n",
    "一 集成学习的三大关键领域<br>\n",
    "二 Bagging方法的基本思想<br>\n",
    "三 随机森林RandomForest<br>\n",
    "&emsp; 1 RamdomForestRegressor的实现<br>\n",
    "&emsp; 2 随机森林回归器的参数<br>\n",
    "&emsp;&emsp; 2.1 弱分类器结构<br>\n",
    "&emsp;&emsp; 2.2 弱分类器数量<br>\n",
    "&emsp;&emsp; 2.3 弱分类器训练的数据<br>\n",
    "&emsp;&emsp; 2.4 其他参数<br>\n",
    "四 增量学习：随机森林处理巨量数据<br>\n",
    "&emsp; 1 普通学习vs增量学习<br>\n",
    "&emsp; 2 增量学习在Kaggle数据上的应用<br>\n",
    "五 原理进阶：Bagging方法6大面试热点问题<br>\n",
    "六 随机森林的参数空间与自动优化"
   ]
  },
  {
   "cell_type": "markdown",
   "metadata": {},
   "source": [
    "# 一 集成学习的三大关键领域"
   ]
  },
  {
   "cell_type": "markdown",
   "metadata": {},
   "source": [
    "集成学习（Ensemble learning）是机器学习中最先进、最有效、最具研究价值的领域之一，这类方法会训练多个弱评估器（base estimators）、并将它们输出的结果以某种方式结合起来解决一个问题。\n",
    "\n",
    "在过去十年中，人工智能相关产业蓬勃发展，计算机视觉、自然语言处理、语音识别等领域不断推陈出新、硕果累累，但热闹是深度学习的，机器学习好似什么也没有。2012年之后，传统机器学习占据的搜索、推荐、翻译、各类预测领域都被深度学习替代或入侵，在招聘岗位中，69%的岗位明确要求深度学习技能，传统机器学习算法在这一场轰轰烈烈的人工智能热潮当中似乎有些被冷落了。\n",
    "\n",
    "在人工智能大热的背后，集成学习就如同裂缝中的一道阳光，凭借其先进的思想、优异的性能杀出了一条血路，成为当代机器学习领域中最受学术界和产业界青睐的领域。\n",
    "\n",
    "从今天的眼光来看，集成学习是：\n",
    "\n",
    "- **当代工业应用中，唯一能与深度学习算法分庭抗礼的算法**<br><br>\n",
    "- **数据竞赛高分榜统治者，KDDcup、Kaggle、天池、DC冠军队御用算法**<br><br>\n",
    "- **在搜索、推荐、广告等众多领域，事实上的工业标准和基准模型**<br><br>\n",
    "- **任何机器学习/深度学习工作者都必须掌握其原理、熟读其思想的领域**<br>"
   ]
  },
  {
   "cell_type": "markdown",
   "metadata": {},
   "source": [
    "在集成学习的发展历程中，集成的思想以及方法启发了众多深度学习和机器学习方面的工作，在学术界和工业界都取得了巨大的成功。今天，集成学习可以被分为三个主要研究领域：\n",
    "\n",
    "- **模型融合**<br>\n",
    "    模型融合在最初的时候被称为“分类器结合”，这个领域主要关注强评估器，试图设计出强大的规则来融合强分类器的结果、以获取更好的融合结果。这个领域的手段主要包括了投票法Voting、堆叠法Stacking、混合法Blending等，且被融合的模型需要是强分类器。*模型融合技巧是机器学习/深度学习竞赛中最为可靠的提分手段之一，常言道：当你做了一切尝试都无效，试试模型融合。*<br><br>\n",
    "- **弱分类器集成**<br>\n",
    "    弱分类器集成主要专注于对传统机器学习算法的集成，这个领域覆盖了大部分我们熟悉的集成算法和集成手段，如装袋法bagging，提升法boosting。这个领域试图设计强大的集成算法、来将多个弱学习器提升成为强学习器。<br><br>\n",
    "- **混合专家模型**（mixture of experts）<br>\n",
    "    混合专家模型常常出现在深度学习（神经网络）的领域。在其他集成领域当中，不同的学习器是针对同一任务、甚至在同一数据上进行训练，但在混合专家模型中，我们将一个复杂的任务拆解成几个相对简单且更小的子任务，然后针对不同的子任务训练个体学习器（专家），然后再结合这些个体学习器的结果得出最终的输出。"
   ]
  },
  {
   "cell_type": "markdown",
   "metadata": {},
   "source": [
    "在课程当中，我们将对弱分类器集成与模型融合两部分进行详细的说明，混合专家模型我们将会在案例中有专门的讲解。"
   ]
  },
  {
   "cell_type": "markdown",
   "metadata": {},
   "source": [
    "# 二 Bagging方法的基本思想"
   ]
  },
  {
   "cell_type": "markdown",
   "metadata": {},
   "source": [
    "Bagging又称为“装袋法”，它是所有集成学习方法当中最为著名、最为简单、也最为有效的操作之一。\n",
    "\n",
    "在Bagging集成当中，我们并行建立多个弱评估器（通常是决策树，也可以是其他非线性算法），并综合多个弱评估器的结果进行输出。当集成算法目标是回归任务时，集成算法的输出结果是弱评估器输出的结果的平均值，当集成算法的目标是分类任务时，集成算法的输出结果是弱评估器输出的结果少数服从多数。\n",
    "\n",
    "举例来说，假设现在一个bagging集成算法当中有7个弱评估器，对任意一个样本而言，输出的结果如下："
   ]
  },
  {
   "cell_type": "code",
   "execution_count": 4,
   "metadata": {},
   "outputs": [],
   "source": [
    "#分类的情况：输出7个弱评估器上的分类结果（0，1，2）\n",
    "r_clf = np.array([0,2,1,1,2,1,0])"
   ]
  },
  {
   "cell_type": "code",
   "execution_count": 5,
   "metadata": {},
   "outputs": [],
   "source": [
    "b_result_clf = np.argmax(np.bincount(r_clf))"
   ]
  },
  {
   "cell_type": "code",
   "execution_count": 6,
   "metadata": {},
   "outputs": [
    {
     "data": {
      "text/plain": [
       "1"
      ]
     },
     "execution_count": 6,
     "metadata": {},
     "output_type": "execute_result"
    }
   ],
   "source": [
    "b_result_clf #集成算法在现在的样本上应该输出的类别"
   ]
  },
  {
   "cell_type": "markdown",
   "metadata": {},
   "source": [
    "- bincount会先将array由小到大进行排序，然后对每个数值进行计数，并返回计数结果的函数。需要注意的是，bincount函数不能接受负数输入。\n",
    "- argmax是找到array中最大值，并返回最大值索引的函数"
   ]
  },
  {
   "cell_type": "code",
   "execution_count": 7,
   "metadata": {},
   "outputs": [
    {
     "data": {
      "text/plain": [
       "array([2, 3, 2], dtype=int64)"
      ]
     },
     "execution_count": 7,
     "metadata": {},
     "output_type": "execute_result"
    }
   ],
   "source": [
    "np.bincount(r_clf) #0类2个，1类3个，2类2个"
   ]
  },
  {
   "cell_type": "code",
   "execution_count": 8,
   "metadata": {},
   "outputs": [
    {
     "data": {
      "text/plain": [
       "array([2, 3, 2, 1], dtype=int64)"
      ]
     },
     "execution_count": 8,
     "metadata": {},
     "output_type": "execute_result"
    }
   ],
   "source": [
    "np.bincount([3,0,2,1,1,2,1,0]) #0类2个，1类3个，2类2个，3类1个"
   ]
  },
  {
   "cell_type": "code",
   "execution_count": 9,
   "metadata": {},
   "outputs": [
    {
     "data": {
      "text/plain": [
       "1"
      ]
     },
     "execution_count": 9,
     "metadata": {},
     "output_type": "execute_result"
    }
   ],
   "source": [
    "np.argmax(np.array([2, 3, 2]))\n",
    "#不难发现，其返回的就是少数服从多数后数量最多的类别"
   ]
  },
  {
   "cell_type": "code",
   "execution_count": 10,
   "metadata": {},
   "outputs": [],
   "source": [
    "#如果是二分类，涉及到有一些负数类别的，可以使用如下代码\n",
    "r_clf = np.array([1,1,1,-1,-1,-1,-1])"
   ]
  },
  {
   "cell_type": "code",
   "execution_count": 11,
   "metadata": {},
   "outputs": [
    {
     "data": {
      "text/plain": [
       "3"
      ]
     },
     "execution_count": 11,
     "metadata": {},
     "output_type": "execute_result"
    }
   ],
   "source": [
    "(r_clf == 1).sum() #整个集成算法当中，输出为1的弱分类器的数量"
   ]
  },
  {
   "cell_type": "code",
   "execution_count": 12,
   "metadata": {},
   "outputs": [
    {
     "data": {
      "text/plain": [
       "4"
      ]
     },
     "execution_count": 12,
     "metadata": {},
     "output_type": "execute_result"
    }
   ],
   "source": [
    "(r_clf == -1).sum()"
   ]
  },
  {
   "cell_type": "code",
   "execution_count": 13,
   "metadata": {},
   "outputs": [],
   "source": [
    "b_result_clf = 1 if (r_clf == 1).sum() > (r_clf != 1).sum() else -1"
   ]
  },
  {
   "cell_type": "code",
   "execution_count": 14,
   "metadata": {},
   "outputs": [
    {
     "data": {
      "text/plain": [
       "-1"
      ]
     },
     "execution_count": 14,
     "metadata": {},
     "output_type": "execute_result"
    }
   ],
   "source": [
    "b_result_clf"
   ]
  },
  {
   "cell_type": "code",
   "execution_count": 15,
   "metadata": {},
   "outputs": [],
   "source": [
    "#如果评估器的数量是偶数，而少数和多数刚好一致怎么办？\n",
    "r_clf = np.array([1,1,1,0,0,0,2,2])"
   ]
  },
  {
   "cell_type": "markdown",
   "metadata": {},
   "source": [
    "- 从数量一致的类别中随机返回一个类别（需要进行随机设置）\n",
    "- 从数量一致的类别中，返回编码数字更小的类别（如果使用argmax函数）"
   ]
  },
  {
   "cell_type": "code",
   "execution_count": 16,
   "metadata": {},
   "outputs": [],
   "source": [
    "#回归的情况：输出7个弱评估器上的回归结果\n",
    "r_reg = np.array([-2.082, -0.601, -1.686, -1.001, -2.037, 0.1284, 0.8500])"
   ]
  },
  {
   "cell_type": "code",
   "execution_count": 17,
   "metadata": {},
   "outputs": [],
   "source": [
    "b_result_reg = r_reg.mean()"
   ]
  },
  {
   "cell_type": "code",
   "execution_count": 18,
   "metadata": {},
   "outputs": [
    {
     "data": {
      "text/plain": [
       "-0.9183714285714285"
      ]
     },
     "execution_count": 18,
     "metadata": {},
     "output_type": "execute_result"
    }
   ],
   "source": [
    "b_result_reg"
   ]
  },
  {
   "cell_type": "markdown",
   "metadata": {},
   "source": [
    "在sklearn当中，我们可以接触到两个Bagging集成算法，一个是随机森林（RandomForest），另一个是极端随机树（ExtraTrees），他们都是以决策树为弱评估器的有监督算法，可以被用于分类、回归、排序等各种任务。同时，我们还可以使用bagging的思路对其他算法进行集成，比如使用装袋法分类的类BaggingClassifier对支持向量机或逻辑回归进行集成。在课程当中，我们将重点介绍随机森林的原理与用法。"
   ]
  },
  {
   "cell_type": "markdown",
   "metadata": {},
   "source": [
    "|Bagging算法|集成类|\n",
    "|:--:|:--:|\n",
    "|随机森林分类|RandmForestClassifier|\n",
    "|随机森林回归|RandomForestRegressor|\n",
    "|极端随机树分类|ExtraTreesClassifier|\n",
    "|极端随机树回归|ExtraTreesRegressor|\n",
    "|装袋法分类|BaggingClassifier|\n",
    "|装袋法回归|BaggingRegressor|"
   ]
  },
  {
   "cell_type": "markdown",
   "metadata": {},
   "source": [
    "# 三 随机森林RandomForest"
   ]
  },
  {
   "cell_type": "markdown",
   "metadata": {},
   "source": [
    "随机森林是机器学习领域最常用的算法之一，其算法构筑过程非常简单：**从提供的数据中随机抽样出不同的子集，用于建立多棵不同的决策树，并按照Bagging的规则对单棵决策树的结果进行集成（回归则平均，分类则少数服从多数）**。只要你充分掌握了决策树的各项属性和参数，随机森林的大部分内容都相当容易理解。\n",
    "\n",
    "虽然原理上很简单，但随机森林的学习能力异常强大、算法复杂度高、又具备一定的抗过拟合能力，是从根本上来说比单棵决策树更优越的算法。即便在深入了解机器学习的各种技巧之后，它依然是我们能够使用的最强大的算法之一。原理如此简单、还如此强大的算法在机器学习的世界中是不常见的。**在机器学习竞赛当中，随机森林往往是我们在中小型数据上会尝试的第一个算法**。"
   ]
  },
  {
   "cell_type": "markdown",
   "metadata": {},
   "source": [
    "在sklearn中，随机森林可以实现回归也可以实现分类。随机森林回归器由类`sklearn.ensemble.RandomForestRegressor`实现，随机森林分类器则有类`sklearn.ensemble.RandomForestClassifier`实现。我们可以像调用逻辑回归、决策树等其他sklearn中的算法一样，使用“实例化、fit、predict/score”三部曲来使用随机森林，同时我们也可以使用sklearn中的交叉验证方法来实现随机森林。其中回归森林的默认评估指标为R2，分类森林的默认评估指标为准确率。\n",
    "\n",
    "*class* `sklearn.ensemble.RandomForestRegressor`(n_estimators=100, *, criterion='squared_error', max_depth=None, min_samples_split=2, min_samples_leaf=1, min_weight_fraction_leaf=0.0, max_features='auto', max_leaf_nodes=None, min_impurity_decrease=0.0, bootstrap=True, oob_score=False, n_jobs=None, random_state=None, verbose=0, warm_start=False, ccp_alpha=0.0, max_samples=None)\n",
    "\n",
    "*class* `sklearn.ensemble.RandomForestClassifier`(n_estimators=100, *, criterion='gini', max_depth=None, min_samples_split=2, min_samples_leaf=1, min_weight_fraction_leaf=0.0, max_features='auto', max_leaf_nodes=None, min_impurity_decrease=0.0, bootstrap=True, oob_score=False, n_jobs=None, random_state=None, verbose=0, warm_start=False, class_weight=None, ccp_alpha=0.0, max_samples=None)\n",
    "\n",
    "不难发现，随机森林回归器和分类器的参数高度一致，因此我们只需要讲解其中一个类即可。**任意集成算法在发源时都是回归类算法，因此我们的重点将会放在回归类算法上**。随机森林有大量的参数，幸运的是，随机森林中所有参数都有默认值，因此即便我们不学习任何参数，也可以调用随机森林算法。我们先来建一片森林看看吧："
   ]
  },
  {
   "cell_type": "markdown",
   "metadata": {},
   "source": [
    "## 1 RandomForestRegressor的实现"
   ]
  },
  {
   "cell_type": "code",
   "execution_count": 3,
   "metadata": {
    "tags": []
   },
   "outputs": [],
   "source": [
    "import matplotlib.pyplot as plt\n",
    "from sklearn.ensemble import RandomForestRegressor as RFR\n",
    "from sklearn.tree import DecisionTreeRegressor as DTR\n",
    "from sklearn.model_selection import cross_validate, KFold\n",
    "#这里我们不再使用cross_val_score，转而使用能够输出训练集分数的cross_validate\n",
    "#决策树本身就是非常容易过拟合的算法，而集成模型的参数量/复杂度很难支持大规模网格搜索\n",
    "#因此对于随机森林来说，一定要关注算法的过拟合情况"
   ]
  },
  {
   "cell_type": "code",
   "execution_count": 5,
   "metadata": {},
   "outputs": [],
   "source": [
    "data = pd.read_csv(r\"D:\\Pythonwork\\2021ML\\PART 2 Ensembles\\datasets\\House Price\\train_encode.csv\",index_col=0)"
   ]
  },
  {
   "cell_type": "code",
   "execution_count": 6,
   "metadata": {},
   "outputs": [
    {
     "data": {
      "text/html": [
       "<div>\n",
       "<style scoped>\n",
       "    .dataframe tbody tr th:only-of-type {\n",
       "        vertical-align: middle;\n",
       "    }\n",
       "\n",
       "    .dataframe tbody tr th {\n",
       "        vertical-align: top;\n",
       "    }\n",
       "\n",
       "    .dataframe thead th {\n",
       "        text-align: right;\n",
       "    }\n",
       "</style>\n",
       "<table border=\"1\" class=\"dataframe\">\n",
       "  <thead>\n",
       "    <tr style=\"text-align: right;\">\n",
       "      <th></th>\n",
       "      <th>Id</th>\n",
       "      <th>住宅类型</th>\n",
       "      <th>住宅区域</th>\n",
       "      <th>街道接触面积(英尺)</th>\n",
       "      <th>住宅面积</th>\n",
       "      <th>街道路面状况</th>\n",
       "      <th>巷子路面状况</th>\n",
       "      <th>住宅形状(大概)</th>\n",
       "      <th>住宅现状</th>\n",
       "      <th>水电气</th>\n",
       "      <th>...</th>\n",
       "      <th>泳池面积</th>\n",
       "      <th>泳池质量</th>\n",
       "      <th>篱笆质量</th>\n",
       "      <th>其他配置</th>\n",
       "      <th>其他配置的价值</th>\n",
       "      <th>销售月份</th>\n",
       "      <th>销售年份</th>\n",
       "      <th>销售类型</th>\n",
       "      <th>销售状态</th>\n",
       "      <th>SalePrice</th>\n",
       "    </tr>\n",
       "  </thead>\n",
       "  <tbody>\n",
       "    <tr>\n",
       "      <th>0</th>\n",
       "      <td>0.0</td>\n",
       "      <td>5.0</td>\n",
       "      <td>3.0</td>\n",
       "      <td>36.0</td>\n",
       "      <td>327.0</td>\n",
       "      <td>1.0</td>\n",
       "      <td>0.0</td>\n",
       "      <td>3.0</td>\n",
       "      <td>3.0</td>\n",
       "      <td>0.0</td>\n",
       "      <td>...</td>\n",
       "      <td>0.0</td>\n",
       "      <td>0.0</td>\n",
       "      <td>0.0</td>\n",
       "      <td>0.0</td>\n",
       "      <td>0.0</td>\n",
       "      <td>1.0</td>\n",
       "      <td>2.0</td>\n",
       "      <td>8.0</td>\n",
       "      <td>4.0</td>\n",
       "      <td>208500</td>\n",
       "    </tr>\n",
       "    <tr>\n",
       "      <th>1</th>\n",
       "      <td>1.0</td>\n",
       "      <td>0.0</td>\n",
       "      <td>3.0</td>\n",
       "      <td>51.0</td>\n",
       "      <td>498.0</td>\n",
       "      <td>1.0</td>\n",
       "      <td>0.0</td>\n",
       "      <td>3.0</td>\n",
       "      <td>3.0</td>\n",
       "      <td>0.0</td>\n",
       "      <td>...</td>\n",
       "      <td>0.0</td>\n",
       "      <td>0.0</td>\n",
       "      <td>0.0</td>\n",
       "      <td>0.0</td>\n",
       "      <td>0.0</td>\n",
       "      <td>4.0</td>\n",
       "      <td>1.0</td>\n",
       "      <td>8.0</td>\n",
       "      <td>4.0</td>\n",
       "      <td>181500</td>\n",
       "    </tr>\n",
       "    <tr>\n",
       "      <th>2</th>\n",
       "      <td>2.0</td>\n",
       "      <td>5.0</td>\n",
       "      <td>3.0</td>\n",
       "      <td>39.0</td>\n",
       "      <td>702.0</td>\n",
       "      <td>1.0</td>\n",
       "      <td>0.0</td>\n",
       "      <td>0.0</td>\n",
       "      <td>3.0</td>\n",
       "      <td>0.0</td>\n",
       "      <td>...</td>\n",
       "      <td>0.0</td>\n",
       "      <td>0.0</td>\n",
       "      <td>0.0</td>\n",
       "      <td>0.0</td>\n",
       "      <td>0.0</td>\n",
       "      <td>8.0</td>\n",
       "      <td>2.0</td>\n",
       "      <td>8.0</td>\n",
       "      <td>4.0</td>\n",
       "      <td>223500</td>\n",
       "    </tr>\n",
       "    <tr>\n",
       "      <th>3</th>\n",
       "      <td>3.0</td>\n",
       "      <td>6.0</td>\n",
       "      <td>3.0</td>\n",
       "      <td>31.0</td>\n",
       "      <td>489.0</td>\n",
       "      <td>1.0</td>\n",
       "      <td>0.0</td>\n",
       "      <td>0.0</td>\n",
       "      <td>3.0</td>\n",
       "      <td>0.0</td>\n",
       "      <td>...</td>\n",
       "      <td>0.0</td>\n",
       "      <td>0.0</td>\n",
       "      <td>0.0</td>\n",
       "      <td>0.0</td>\n",
       "      <td>0.0</td>\n",
       "      <td>1.0</td>\n",
       "      <td>0.0</td>\n",
       "      <td>8.0</td>\n",
       "      <td>0.0</td>\n",
       "      <td>140000</td>\n",
       "    </tr>\n",
       "    <tr>\n",
       "      <th>4</th>\n",
       "      <td>4.0</td>\n",
       "      <td>5.0</td>\n",
       "      <td>3.0</td>\n",
       "      <td>55.0</td>\n",
       "      <td>925.0</td>\n",
       "      <td>1.0</td>\n",
       "      <td>0.0</td>\n",
       "      <td>0.0</td>\n",
       "      <td>3.0</td>\n",
       "      <td>0.0</td>\n",
       "      <td>...</td>\n",
       "      <td>0.0</td>\n",
       "      <td>0.0</td>\n",
       "      <td>0.0</td>\n",
       "      <td>0.0</td>\n",
       "      <td>0.0</td>\n",
       "      <td>11.0</td>\n",
       "      <td>2.0</td>\n",
       "      <td>8.0</td>\n",
       "      <td>4.0</td>\n",
       "      <td>250000</td>\n",
       "    </tr>\n",
       "  </tbody>\n",
       "</table>\n",
       "<p>5 rows × 81 columns</p>\n",
       "</div>"
      ],
      "text/plain": [
       "    Id  住宅类型  住宅区域  街道接触面积(英尺)   住宅面积  街道路面状况  巷子路面状况  住宅形状(大概)  住宅现状  水电气  \\\n",
       "0  0.0   5.0   3.0        36.0  327.0     1.0     0.0       3.0   3.0  0.0   \n",
       "1  1.0   0.0   3.0        51.0  498.0     1.0     0.0       3.0   3.0  0.0   \n",
       "2  2.0   5.0   3.0        39.0  702.0     1.0     0.0       0.0   3.0  0.0   \n",
       "3  3.0   6.0   3.0        31.0  489.0     1.0     0.0       0.0   3.0  0.0   \n",
       "4  4.0   5.0   3.0        55.0  925.0     1.0     0.0       0.0   3.0  0.0   \n",
       "\n",
       "   ...  泳池面积  泳池质量  篱笆质量  其他配置  其他配置的价值  销售月份  销售年份  销售类型  销售状态  SalePrice  \n",
       "0  ...   0.0   0.0   0.0   0.0      0.0   1.0   2.0   8.0   4.0     208500  \n",
       "1  ...   0.0   0.0   0.0   0.0      0.0   4.0   1.0   8.0   4.0     181500  \n",
       "2  ...   0.0   0.0   0.0   0.0      0.0   8.0   2.0   8.0   4.0     223500  \n",
       "3  ...   0.0   0.0   0.0   0.0      0.0   1.0   0.0   8.0   0.0     140000  \n",
       "4  ...   0.0   0.0   0.0   0.0      0.0  11.0   2.0   8.0   4.0     250000  \n",
       "\n",
       "[5 rows x 81 columns]"
      ]
     },
     "execution_count": 6,
     "metadata": {},
     "output_type": "execute_result"
    }
   ],
   "source": [
    "data.head()"
   ]
  },
  {
   "cell_type": "code",
   "execution_count": 7,
   "metadata": {},
   "outputs": [
    {
     "data": {
      "text/plain": [
       "(1460, 81)"
      ]
     },
     "execution_count": 7,
     "metadata": {},
     "output_type": "execute_result"
    }
   ],
   "source": [
    "data.shape"
   ]
  },
  {
   "cell_type": "code",
   "execution_count": 8,
   "metadata": {},
   "outputs": [],
   "source": [
    "X = data.iloc[:,:-1]\n",
    "y = data.iloc[:,-1]"
   ]
  },
  {
   "cell_type": "code",
   "execution_count": 7,
   "metadata": {},
   "outputs": [
    {
     "data": {
      "text/plain": [
       "0       208500\n",
       "1       181500\n",
       "2       223500\n",
       "3       140000\n",
       "4       250000\n",
       "         ...  \n",
       "1455    175000\n",
       "1456    210000\n",
       "1457    266500\n",
       "1458    142125\n",
       "1459    147500\n",
       "Name: SalePrice, Length: 1460, dtype: int64"
      ]
     },
     "execution_count": 7,
     "metadata": {},
     "output_type": "execute_result"
    }
   ],
   "source": [
    "y #注意，y的类型是整数型，并且y的均值很大，可想而知整体的MSE一定会很大"
   ]
  },
  {
   "cell_type": "code",
   "execution_count": 25,
   "metadata": {},
   "outputs": [
    {
     "data": {
      "text/plain": [
       "180921.19589041095"
      ]
     },
     "execution_count": 25,
     "metadata": {},
     "output_type": "execute_result"
    }
   ],
   "source": [
    "y.mean()"
   ]
  },
  {
   "cell_type": "code",
   "execution_count": 26,
   "metadata": {},
   "outputs": [
    {
     "data": {
      "text/plain": [
       "(1460, 80)"
      ]
     },
     "execution_count": 26,
     "metadata": {},
     "output_type": "execute_result"
    }
   ],
   "source": [
    "X.shape"
   ]
  },
  {
   "cell_type": "code",
   "execution_count": 27,
   "metadata": {},
   "outputs": [
    {
     "data": {
      "text/plain": [
       "['Id',\n",
       " '住宅类型',\n",
       " '住宅区域',\n",
       " '街道接触面积(英尺)',\n",
       " '住宅面积',\n",
       " '街道路面状况',\n",
       " '巷子路面状况',\n",
       " '住宅形状(大概)',\n",
       " '住宅现状',\n",
       " '水电气',\n",
       " '住宅配置',\n",
       " '住宅视野',\n",
       " '社区',\n",
       " '住宅周边1',\n",
       " '住宅周边2',\n",
       " '适用家庭',\n",
       " '住宅房型',\n",
       " '装修质量',\n",
       " '整体质量',\n",
       " '建造年份',\n",
       " '法律拆除年份',\n",
       " '天花板类型',\n",
       " '天花板材料',\n",
       " '户外装饰1',\n",
       " '户外装饰2',\n",
       " '砖墙类型',\n",
       " '砖墙面积',\n",
       " '户外材料质量',\n",
       " '户外装修质量',\n",
       " '地下室类型',\n",
       " '地下室深度',\n",
       " '地下室质量',\n",
       " '花园外墙',\n",
       " '地下室现状1',\n",
       " '地下室一层标准面积',\n",
       " '地下室现状2',\n",
       " '地下室二层标准面积',\n",
       " '地下室建造现状',\n",
       " '整体地下室面积',\n",
       " '暖气类型',\n",
       " '暖气质量',\n",
       " '中央空调',\n",
       " '电力系统',\n",
       " '二楼面积',\n",
       " '三楼面积',\n",
       " '全低质量面积',\n",
       " '户外活动空间面积',\n",
       " '全卫地下室',\n",
       " '半卫地下室',\n",
       " '全卫及以上',\n",
       " '半卫及以上',\n",
       " '卧室及以上',\n",
       " '厨房及以上',\n",
       " '厨房质量',\n",
       " '总房间量',\n",
       " '住宅性能',\n",
       " '壁炉数量',\n",
       " '壁炉质量',\n",
       " '车库类型',\n",
       " '车库建造时间',\n",
       " '车库装修现状',\n",
       " '车位数量',\n",
       " '车库面积',\n",
       " '车库质量',\n",
       " '车库现状',\n",
       " '石板路',\n",
       " '木板面积',\n",
       " '开放式门廊面积',\n",
       " '关闭式门廊面积',\n",
       " '三季门廊面积',\n",
       " '半开放式门廊面积',\n",
       " '泳池面积',\n",
       " '泳池质量',\n",
       " '篱笆质量',\n",
       " '其他配置',\n",
       " '其他配置的价值',\n",
       " '销售月份',\n",
       " '销售年份',\n",
       " '销售类型',\n",
       " '销售状态']"
      ]
     },
     "execution_count": 27,
     "metadata": {},
     "output_type": "execute_result"
    }
   ],
   "source": [
    "X.columns.tolist()"
   ]
  },
  {
   "cell_type": "code",
   "execution_count": 28,
   "metadata": {},
   "outputs": [],
   "source": [
    "reg_f = RFR() #实例化随机森林\n",
    "reg_t = DTR() #实例化决策树\n",
    "cv = KFold(n_splits=5,shuffle=True,random_state=1412) #实例化交叉验证方式"
   ]
  },
  {
   "cell_type": "markdown",
   "metadata": {},
   "source": [
    "与sklearn中其他回归算法一样，随机森林的默认评估指标是R2，但在机器学习竞赛、甚至实际使用时，我们很少使用损失以外的指标对回归类算法进行评估。对回归类算法而言，最常见的损失就是MSE。"
   ]
  },
  {
   "cell_type": "markdown",
   "metadata": {},
   "source": [
    "|cross_validate|参数|\n",
    "|---|---|\n",
    "|n_jobs|允许该程序调用的线程数|\n",
    "|verbose|是否打印进度|"
   ]
  },
  {
   "cell_type": "code",
   "execution_count": 29,
   "metadata": {},
   "outputs": [
    {
     "name": "stderr",
     "output_type": "stream",
     "text": [
      "[Parallel(n_jobs=-1)]: Using backend LokyBackend with 16 concurrent workers.\n",
      "[Parallel(n_jobs=-1)]: Done   5 out of   5 | elapsed:    1.2s finished\n"
     ]
    }
   ],
   "source": [
    "result_t = cross_validate(reg_t #要进行交叉验证的评估器\n",
    "                          ,X,y #数据\n",
    "                          ,cv=cv #交叉验证模式\n",
    "                          ,scoring=\"neg_mean_squared_error\" #评估指标\n",
    "                          ,return_train_score=True #是否返回训练分数\n",
    "                          ,verbose=True #是否打印进程\n",
    "                          ,n_jobs=-1 #线程数\n",
    "                         )"
   ]
  },
  {
   "cell_type": "markdown",
   "metadata": {},
   "source": [
    "你知道如何查看自己计算机的线程数吗？"
   ]
  },
  {
   "cell_type": "code",
   "execution_count": 30,
   "metadata": {},
   "outputs": [
    {
     "name": "stderr",
     "output_type": "stream",
     "text": [
      "[Parallel(n_jobs=-1)]: Using backend LokyBackend with 16 concurrent workers.\n",
      "[Parallel(n_jobs=-1)]: Done   5 out of   5 | elapsed:    2.1s finished\n"
     ]
    }
   ],
   "source": [
    "result_f = cross_validate(reg_f,X,y,cv=cv,scoring=\"neg_mean_squared_error\"\n",
    "                          ,return_train_score=True\n",
    "                          ,verbose=True\n",
    "                          ,n_jobs=-1)"
   ]
  },
  {
   "cell_type": "code",
   "execution_count": 31,
   "metadata": {},
   "outputs": [
    {
     "data": {
      "text/plain": [
       "{'fit_time': array([0.0220046 , 0.0220046 , 0.0220046 , 0.02100563, 0.02100468]),\n",
       " 'score_time': array([0.00199962, 0.00199938, 0.00199938, 0.00199914, 0.00200129]),\n",
       " 'test_score': array([-1.13534182e+09, -3.41485921e+09, -1.67088861e+09, -1.67895115e+09,\n",
       "        -1.59034213e+09]),\n",
       " 'train_score': array([-0., -0., -0., -0., -0.])}"
      ]
     },
     "execution_count": 31,
     "metadata": {},
     "output_type": "execute_result"
    }
   ],
   "source": [
    "result_t #超级过拟合"
   ]
  },
  {
   "cell_type": "code",
   "execution_count": 32,
   "metadata": {},
   "outputs": [
    {
     "data": {
      "text/plain": [
       "{'fit_time': array([1.31684232, 1.19581604, 1.27883458, 1.29583764, 1.21081877]),\n",
       " 'score_time': array([0.01100278, 0.01100206, 0.01100206, 0.01100278, 0.0110023 ]),\n",
       " 'test_score': array([-7.66379839e+08, -2.01798504e+09, -7.66327398e+08, -4.90163166e+08,\n",
       "        -9.88309425e+08]),\n",
       " 'train_score': array([-1.27164348e+08, -1.09165780e+08, -1.34679785e+08, -1.39727005e+08,\n",
       "        -1.19699899e+08])}"
      ]
     },
     "execution_count": 32,
     "metadata": {},
     "output_type": "execute_result"
    }
   ],
   "source": [
    "result_f #训练集和测试在交叉验证上的分数差异更小，因此森林的过拟合程度没有决策树高"
   ]
  },
  {
   "cell_type": "markdown",
   "metadata": {},
   "source": [
    "**在集成学习中，我们衡量回归类算法的指标一般是RMSE（根均方误差），也就是MSE开根号后的结果**。现实数据的标签往往数字巨大、数据量庞杂，MSE作为平方结果会放大现实数据上的误差（例如随机森林结果中得到的，$7*10^8$等结果），因此我们会对平房结果开根号，让回归类算法的评估指标在数值上不要过于夸张。同样的，方差作为平方结果，在现实数据上也会太大，因此如果可以，我们使用标准差进行模型稳定性的衡量。"
   ]
  },
  {
   "cell_type": "code",
   "execution_count": 33,
   "metadata": {},
   "outputs": [],
   "source": [
    "trainRMSE_f = abs(result_f[\"train_score\"])**0.5\n",
    "testRMSE_f = abs(result_f[\"test_score\"])**0.5\n",
    "trainRMSE_t = abs(result_t[\"train_score\"])**0.5\n",
    "testRMSE_t = abs(result_t[\"test_score\"])**0.5"
   ]
  },
  {
   "cell_type": "code",
   "execution_count": 34,
   "metadata": {},
   "outputs": [
    {
     "data": {
      "text/plain": [
       "11218.296933940535"
      ]
     },
     "execution_count": 34,
     "metadata": {},
     "output_type": "execute_result"
    }
   ],
   "source": [
    "trainRMSE_f.mean()"
   ]
  },
  {
   "cell_type": "code",
   "execution_count": 35,
   "metadata": {},
   "outputs": [
    {
     "data": {
      "text/plain": [
       "30773.03828921106"
      ]
     },
     "execution_count": 35,
     "metadata": {},
     "output_type": "execute_result"
    }
   ],
   "source": [
    "testRMSE_f.mean()"
   ]
  },
  {
   "cell_type": "code",
   "execution_count": 36,
   "metadata": {},
   "outputs": [
    {
     "data": {
      "text/plain": [
       "487.0084587022606"
      ]
     },
     "execution_count": 36,
     "metadata": {},
     "output_type": "execute_result"
    }
   ],
   "source": [
    "trainRMSE_f.std() #方差数额太大，使用标准差"
   ]
  },
  {
   "cell_type": "code",
   "execution_count": 37,
   "metadata": {},
   "outputs": [
    {
     "data": {
      "image/png": "[encoded data removed]",
      "text/plain": [
       "<Figure size 640x480 with 1 Axes>"
      ]
     },
     "metadata": {
      "needs_background": "light"
     },
     "output_type": "display_data"
    }
   ],
   "source": [
    "#默认值下随机森林的RMSE与标准差std\n",
    "xaxis = range(1,6)\n",
    "plt.figure(figsize=(8,6),dpi=80)\n",
    "#RMSE\n",
    "plt.plot(xaxis,trainRMSE_f,color=\"green\",label = \"RandomForestTrain\")\n",
    "plt.plot(xaxis,testRMSE_f,color=\"green\",linestyle=\"--\",label = \"RandomForestTest\")\n",
    "plt.plot(xaxis,trainRMSE_t,color=\"orange\",label = \"DecisionTreeTrain\")\n",
    "plt.plot(xaxis,testRMSE_t,color=\"orange\",linestyle=\"--\",label = \"DecisionTreeTest\")\n",
    "plt.xticks([1,2,3,4,5])\n",
    "plt.xlabel(\"CVcounts\",fontsize=16)\n",
    "plt.ylabel(\"RMSE\",fontsize=16)\n",
    "plt.legend()\n",
    "plt.show()"
   ]
  },
  {
   "cell_type": "markdown",
   "metadata": {},
   "source": [
    "- 横坐标：交叉验证次数\n",
    "- 纵坐标：RMSE数值"
   ]
  },
  {
   "cell_type": "markdown",
   "metadata": {},
   "source": [
    "从图像来看，森林与决策树都处于过拟合状态，不过森林的过拟合程度较轻，决策树的过拟合程度较强。两个算法在训练集上的结果都比较优秀，决策树的可以完美学习训练集上的内容，达到RMSE=0的程度，而随机森林在训练集上的RMSE大约在1w上下徘徊，测试集上的结果则是随机森林更占优。**可见，与填写的参数无关，随机森林天生就是比决策树更不容易过拟合、泛化能力更强的**。"
   ]
  },
  {
   "cell_type": "markdown",
   "metadata": {},
   "source": [
    "   "
   ]
  },
  {
   "cell_type": "markdown",
   "metadata": {},
   "source": [
    "## 2 随机森林回归器的参数"
   ]
  },
  {
   "cell_type": "markdown",
   "metadata": {},
   "source": [
    "当填写参数之后，随机森林可以变得更强大。比起经典机器学习算法逻辑回归、岭回归等，随机森林回归器的参数数量较多，因此我们可以将随机森林类的参数分为如下4大类别，其中标注为绿色的是我们从未学过的、只与集成算法相关的参数：\n",
    "\n",
    "|类型|参数|\n",
    "|---|---|\n",
    "|**弱分类器数量**|**<font color=\"green\">n_estimators</font>**|\n",
    "|**弱分类器的训练数据**|**<font color=\"green\">bootstrap, oob_score, max_samples</font>**, max_features, random_state|\n",
    "|**弱分类器结构**|criterion, max_depth, min_samples_split, <br>min_samples_leaf, min_weight_fraction_leaf, max_leaf_nodes,<br>min_impurity_decrease|\n",
    "|**其他**|n_jobs, verbose, ccp_alpha|"
   ]
  },
  {
   "cell_type": "markdown",
   "metadata": {},
   "source": [
    "   "
   ]
  },
  {
   "cell_type": "markdown",
   "metadata": {
    "tags": []
   },
   "source": [
    "### 2.1 弱分类器结构\n",
    "\n",
    "**在集成算法当中，控制单个弱评估器的结构是一个重要的课题，因为单个弱评估器的复杂度/结果都会影响全局**，其中单棵决策树的结构越复杂，集成算法的整体复杂度会更高，计算会更加缓慢、模型也会更加容易过拟合，因此集成算法中的弱评估器也需要被剪枝。随机森林回归器的弱评估器是回归树，因此集成评估器中有大量的参数都与弱评估器回归树中的参数重合：\n",
    "\n",
    "|类型|参数|\n",
    "|----|----|\n",
    "|**弱分类器结构**|criterion：弱评估器分枝时的不纯度衡量指标<br><br>max_depth：弱评估器被允许的最大深度，默认None<br><br>min_samples_split：弱评估器分枝时，父节点上最少要拥有的样本个数<br><br>min_samples_leaf：弱评估器的叶子节点上最少要拥有的样本个数<br><br>min_weight_fraction_leaf：当样本权重被调整时，叶子节点上最少要拥有的样本权重<br><br>max_leaf_nodes：弱评估器上最多可以有的叶子节点数量<br><br>min_impurity_decrease：弱评估器分枝时允许的最小不纯度下降量|\n",
    "\n",
    "这些参数在随机森林中的**用法与默认值**与决策树类`DecisionTreeRegressor`中完全一致，专门用于对决策树进行剪枝、控制单个弱评估器的结构，考虑到大家在决策树中已经充分掌握这些参数，我们不再对这些参数一一进行详细说明了。在这里，我们重点复习一下以下两部分参数："
   ]
  },
  {
   "cell_type": "markdown",
   "metadata": {},
   "source": [
    "- 分枝标准与特征重要性\n",
    "\n",
    "> criterion与feature_importances_\n",
    "\n",
    "与分类树中的信息熵/基尼系数不同，回归树中的criterion可以选择\"squared_error\"（平方误差），\"absolute_error\"（绝对误差）以及\"poisson\"（泊松偏差）。对任意样本$i$而言，$y_i$为真实标签，$\\hat{y_i}$为预测标签，则各个criterion的表达式为：\n",
    "\n",
    "平方误差：$\\sum{(y_i - \\hat{y_i})^2}$<br><br>\n",
    "绝对误差：$\\sum{|y_i - \\hat{y_i}|}$<br><br>\n",
    "泊松偏差：$2\\sum{(y_ilog(\\frac{y_i}{\\hat{y_i}})-(y_i - \\hat{y_i}))}$\n",
    "\n",
    "其中平方误差与绝对误差是大家非常熟悉的概念，作为分枝标准，平方误差比绝对误差更敏感（类似于信息熵比基尼系数更敏感），并且在计算上平方误差比绝对误差快很多。泊松偏差则是适用于一个特殊场景的：当需要预测的标签全部为正整数时，标签的分布可以被认为是类似于泊松分布的。正整数预测在实际应用中非常常见，比如预测点击量、预测客户/离职人数、预测销售量等。我们现在正在使用的数据（房价预测），也可能比较适合于泊松偏差。\n",
    "\n",
    "另外，当我们选择不同的criterion之后，决策树的feature_importances_也会随之变化，因为在sklearn当中，feature_importances_是特征对criterion下降量的总贡献量，因此不同的criterion可能得到不同的特征重要性。\n",
    "\n",
    "对我们来说，选择criterion的唯一指标就是最终的交叉验证结果——无论理论是如何说明的，我们只取令随机森林的预测结果最好的criterion。"
   ]
  },
  {
   "cell_type": "markdown",
   "metadata": {},
   "source": [
    "- 调节树结构来控制过拟合\n",
    "\n",
    "> max_depth\n",
    "\n",
    "最粗犷的剪枝方式，从树结构层面来看，对随机森林抗过拟合能力影响最大的参数。max_depth的默认值为None，也就是不限深度。因此当随机森林表现为过拟合时，选择一个小的max_depth会很有效。\n",
    "\n",
    "> max_leaf_nodes与min_sample_split\n",
    "\n",
    "比max_depth更精细的减枝方式，但限制叶子数量和分枝，既可以实现微调，也可以实现大刀阔斧的剪枝。max_leaf_nodes的默认值为None，即不限叶子数量。min_sample_split的默认值为2，等同于不限制分枝。\n",
    "\n",
    "> min_impurity_decrease\n",
    "\n",
    "最精细的减枝方式，可以根据不纯度下降的程度减掉相应的叶子。默认值为0，因此是个相当有空间的参数。"
   ]
  },
  {
   "cell_type": "markdown",
   "metadata": {},
   "source": [
    "   "
   ]
  },
  {
   "cell_type": "markdown",
   "metadata": {},
   "source": [
    "### 2.2 弱分类器数量\n",
    "\n",
    "> n_estimators\n",
    "\n",
    "n_estimators是森林中树木的数量，即弱评估器的数量，在sklearn中默认100，它是唯一一个对随机森林而言必填的参数。**n_estimators对随机森林模型的精确程度、复杂度、学习能力、过拟合情况、需要的计算量和计算时间都有很大的影响，因此n_estimators往往是我们在调整随机森林时第一个需要确认的参数**。对单一决策树而言，模型复杂度由树结构（树深、树宽、树上的叶子数量等）与数据量（样本量、特征量）决定，而对随机森林而言，模型复杂度由森林中树的数量、树结构与数据量决定，其中树的数量越多，模型越复杂。\n",
    "\n",
    "还记得讲解决策树与逻辑回归时我们绘制的这张图像么？当模型复杂度上升时，模型的泛化能力会先增加再下降（相对的泛化误差会先下降再上升），我们需要找到模型泛化能力最佳的复杂度。**在实际进行训练时，最佳复杂度往往是一个比较明显的转折点**，当复杂度高于最佳复杂度时，模型的泛化误差要么开始上升，要么不再下降。\n",
    "\n",
    "<img src=\"https://tva1.sinaimg.cn/large/008i3skNly1gs3wqah1w2j30pu0iaadu.jpg\" alt=\"1\" style=\"zoom:33%;\" />\n",
    "\n",
    "对随机森林而言，该图像的横坐标可以被无缝切换为参数n_estimators上的值。当n_estimators越大时：\n",
    "- 模型的复杂程度上升，泛化能先增强再减弱（或不变）\n",
    "- 模型的学习能力越来越强，在训练集上的分数可能越来越高，过拟合风险越来越高\n",
    "- 模型需要的算力和内存越来越多\n",
    "- 模型训练的时间会越来越长\n",
    "\n",
    "因此在调整n_estimators时，**我们总是渴望在模型效果与训练难度之间取得平衡**，同时我们还需要使用交叉验证来随时关注模型过拟合的情况。在sklearn现在的版本中，n_estimators的默认值为100，个人电脑能够容忍的n_estimators数量大约在200~1000左右。"
   ]
  },
  {
   "cell_type": "code",
   "execution_count": 13,
   "metadata": {},
   "outputs": [],
   "source": [
    "def RMSE(cvresult,key):\n",
    "    return (abs(cvresult[key])**0.5).mean()"
   ]
  },
  {
   "cell_type": "code",
   "execution_count": 39,
   "metadata": {},
   "outputs": [
    {
     "name": "stderr",
     "output_type": "stream",
     "text": [
      "[Parallel(n_jobs=-1)]: Using backend LokyBackend with 16 concurrent workers.\n",
      "[Parallel(n_jobs=-1)]: Done   5 out of   5 | elapsed:    0.8s finished\n"
     ]
    }
   ],
   "source": [
    "reg_f = RFR(n_estimators=3)\n",
    "cv = KFold(n_splits=5,shuffle=True,random_state=1412)\n",
    "result_f = cross_validate(reg_f,X,y,cv=cv,scoring=\"neg_mean_squared_error\"\n",
    "                          ,return_train_score=True\n",
    "                          ,verbose=True\n",
    "                          ,n_jobs=-1)"
   ]
  },
  {
   "cell_type": "code",
   "execution_count": 40,
   "metadata": {},
   "outputs": [
    {
     "data": {
      "text/plain": [
       "36398.0444570051"
      ]
     },
     "execution_count": 40,
     "metadata": {},
     "output_type": "execute_result"
    }
   ],
   "source": [
    "RMSE(result_f,\"test_score\")"
   ]
  },
  {
   "cell_type": "code",
   "execution_count": 42,
   "metadata": {},
   "outputs": [
    {
     "name": "stderr",
     "output_type": "stream",
     "text": [
      "[Parallel(n_jobs=-1)]: Using backend LokyBackend with 16 concurrent workers.\n",
      "[Parallel(n_jobs=-1)]: Done   5 out of   5 | elapsed:    1.9s finished\n"
     ]
    }
   ],
   "source": [
    "reg_f = RFR(n_estimators=100)\n",
    "cv = KFold(n_splits=5,shuffle=True,random_state=1412)\n",
    "result_f = cross_validate(reg_f,X,y,cv=cv,scoring=\"neg_mean_squared_error\"\n",
    "                          ,return_train_score=True\n",
    "                          ,verbose=True\n",
    "                          ,n_jobs=-1)"
   ]
  },
  {
   "cell_type": "code",
   "execution_count": 43,
   "metadata": {},
   "outputs": [
    {
     "data": {
      "text/plain": [
       "30156.835268943938"
      ]
     },
     "execution_count": 43,
     "metadata": {},
     "output_type": "execute_result"
    }
   ],
   "source": [
    "RMSE(result_f,\"test_score\")"
   ]
  },
  {
   "cell_type": "code",
   "execution_count": 15,
   "metadata": {},
   "outputs": [
    {
     "name": "stderr",
     "output_type": "stream",
     "text": [
      "[Parallel(n_jobs=-1)]: Using backend LokyBackend with 16 concurrent workers.\n",
      "[Parallel(n_jobs=-1)]: Done   5 out of   5 | elapsed:    7.1s finished\n"
     ]
    }
   ],
   "source": [
    "reg_f = RFR(n_estimators=500)\n",
    "cv = KFold(n_splits=5,shuffle=True,random_state=1412)\n",
    "result_f = cross_validate(reg_f,X,y,cv=cv,scoring=\"neg_mean_squared_error\"\n",
    "                          ,return_train_score=True\n",
    "                          ,verbose=True\n",
    "                          ,n_jobs=-1)"
   ]
  },
  {
   "cell_type": "code",
   "execution_count": 16,
   "metadata": {},
   "outputs": [
    {
     "data": {
      "text/plain": [
       "30305.720408696703"
      ]
     },
     "execution_count": 16,
     "metadata": {},
     "output_type": "execute_result"
    }
   ],
   "source": [
    "RMSE(result_f,\"test_score\")"
   ]
  },
  {
   "cell_type": "markdown",
   "metadata": {},
   "source": [
    "总结：\n",
    "\n",
    "|类型|参数|\n",
    "|---|---|\n",
    "|**弱分类器数量**|<font color=\"green\">**n_estimators**</font>：弱评估器的数量|"
   ]
  },
  {
   "cell_type": "markdown",
   "metadata": {},
   "source": [
    "### 2.3 弱分类器训练的数据"
   ]
  },
  {
   "cell_type": "markdown",
   "metadata": {},
   "source": [
    "还记得决策树是如何分枝的吗？对每个特征决策树都会找到不纯度下降程度最大的节点进行分枝，因此原则上来说，只要给出数据一致、并且不对决策树进行减枝的话，决策树的结构一定是完全相同的。对集成算法来说，平均多棵相同的决策树的结果并没有意义，因此集成算法中每棵树必然是不同的树，Bagging算法是依赖于随机抽样数据来实现这一点的。\n",
    "\n",
    "随机森林会**从提供的数据中随机抽样出不同的子集，用于建立多棵不同的决策树**，最终再按照Bagging的规则对众多决策树的结果进行集成。因此在随机森林回归器的参数当中，有数个关于数据随机抽样的参数。"
   ]
  },
  {
   "cell_type": "markdown",
   "metadata": {},
   "source": [
    "- 样本的随机抽样\n",
    "> bootstrap，oob_score，max_samples"
   ]
  },
  {
   "cell_type": "markdown",
   "metadata": {},
   "source": [
    "**bootstrap参数的输入为布尔值，默认True，控制是否在每次建立决策树之前对数据进行随机抽样**。如果设置为False，则表示每次都使用全部样本进行建树，如果为True，则随机抽样建树。从语言的意义上来看，`bootstrap`可以指代任意类型的随机抽样，但在随机森林中它特指**有放回随机抽样技术**。\n",
    "\n",
    "如下图所示，在一个含有m个样本的原始训练集中，我们进行随机采样。每次采样一个样本，并在抽取下一个样本之前将**该样本放回原始训练集**，也就是说下次采样时这个样本依然可能被采集到，这样采集`max_samples`次，最终得到`max_samples`个样本组成的自助集。\n",
    "\n",
    "![RF3](https://pictes.oss-cn-beijing.aliyuncs.com/%E5%BE%AE%E8%AF%BE%20-%20sklearn/RFC/RF3.png)\n",
    "\n",
    "**通常来说，max_samples是等于m的（行业惯例），也就是抽样数据集的大小与原始数据集一致，但是如果原始数据集太大、或者太小，我们也可以自由调整`max_samples`的大小**。由于是随机采样，这样每次的自助集和原始数据集不同，和其他的采样集也是不同的。这样我们就可以自由创造取之不尽用之不竭，并且互不相同的自助集，用这些自助集来训练我们的弱分类器，我们的弱分类器自然也就各不相同了。\n",
    "\n",
    "然而有放回抽样也会有自己的问题。由于是有放回，一些样本可能在同一个自助集中出现多次，而其他一些却可能被忽略。**当抽样次数足够多、且原始数据集足够大时**，自助集大约平均会包含全数据的63%，这个数字是有数学依据的。因为在max_samples次抽样中，一个样本被抽到某个自助集中的概率为：\n",
    "\n",
    "$$\n",
    "1-(1-\\frac{1}{m})^{max\\_samples}\n",
    "$$"
   ]
  },
  {
   "cell_type": "markdown",
   "metadata": {},
   "source": [
    "这个式子是怎么来的呢？对于任意一个样本而言：<br><br>\n",
    "一次抽样时抽到该样本的概率为$\\frac{1}{m}$<br><br>\n",
    "一次抽样时抽不到该样本的概率为$1-\\frac{1}{m}$<br><br>\n",
    "总共抽样`max_samples`次，一次也没有抽到该样本的概率就是$(1-\\frac{1}{m})^{max\\_samples}$<br><br>\n",
    "因此1减去该概率，就是一个样本在抽样中一定会被抽到某个自助集的概率。\n",
    "当m刚好等于`max_samples`时，公式可以被修改为："
   ]
  },
  {
   "cell_type": "markdown",
   "metadata": {},
   "source": [
    "$$\n",
    "1-(1-\\frac{1}{m})^{m}\n",
    "$$"
   ]
  },
  {
   "cell_type": "markdown",
   "metadata": {},
   "source": [
    "这明显是一个经典的极限问题，由洛必达法则（L'Hôpital's rule）我们可知：当m足够大时（接近极限时），这个概率收敛于1-(1/e)，其中e是自然常数，整体概率约等于0.632。因此，会有约37%的训练数据被浪费掉，没有参与建模，这些数据被称为袋外数据(out of bag data，简写为oob)。在实际使用随机森林时，袋外数据常常被我们当做验证集使用，所以我们或许可以不做交叉验证、不分割数据集，而只依赖于袋外数据来测试我们的模型即可。当然，这也不是绝对的，当树的数量`n_estimators`不足，或者`max_samples`太小时，很可能就没有数据掉落在袋外，自然也有无法使用oob数据来作为验证集了。"
   ]
  },
  {
   "cell_type": "markdown",
   "metadata": {},
   "source": [
    "在随机森林回归器中，当boostrap=True时，我们可以使用参数`oob_score`和`max_samples`，其中：\n",
    "\n",
    "**oob_score控制是否使用袋外数据进行验证**，输入为布尔值，默认为False，如果希望使用袋外数据进行验证，修改为True即可。\n",
    "\n",
    "**max_samples表示自助集的大小**，可以输入整数、浮点数或None，默认为None。\n",
    "> 输入整数m，则代表每次从全数据集中有放回抽样m个样本<br>\n",
    "> 输入浮点数f，则表示每次从全数据集中有放回抽样f\\*全数据量个样本<br>\n",
    "> 输入None，则表示每次抽样都抽取与全数据集一致的样本量（X.shape[0]）<br>\n",
    "\n",
    "在使用袋外数据时，我们可以用随机森林的另一个重要属性：`oob_score_`来查看我们的在袋外数据上测试的结果，遗憾的是我们无法调整`oob_score_`输出的评估指标，它默认是R2。"
   ]
  },
  {
   "cell_type": "code",
   "execution_count": 18,
   "metadata": {},
   "outputs": [
    {
     "name": "stderr",
     "output_type": "stream",
     "text": [
      "D:\\ProgramData\\Anaconda3\\lib\\site-packages\\sklearn\\base.py:445: UserWarning: X does not have valid feature names, but RandomForestRegressor was fitted with feature names\n",
      "  warnings.warn(\n"
     ]
    }
   ],
   "source": [
    "reg = RFR(n_estimators=20\n",
    "          , bootstrap=True #进行随机抽样\n",
    "          , oob_score=True #按袋外数据进行验证\n",
    "          , max_samples=500\n",
    "         ).fit(X,y)"
   ]
  },
  {
   "cell_type": "code",
   "execution_count": 39,
   "metadata": {},
   "outputs": [
    {
     "data": {
      "text/plain": [
       "0.8254774869029703"
      ]
     },
     "execution_count": 39,
     "metadata": {},
     "output_type": "execute_result"
    }
   ],
   "source": [
    "#重要属性oob_score_\n",
    "reg.oob_score_ #在袋外数据上的R2为83%"
   ]
  },
  {
   "cell_type": "code",
   "execution_count": 19,
   "metadata": {},
   "outputs": [
    {
     "ename": "ValueError",
     "evalue": "Out of bag estimation only available if bootstrap=True",
     "output_type": "error",
     "traceback": [
      "\u001b[1;31m---------------------------------------------------------------------------\u001b[0m",
      "\u001b[1;31mValueError\u001b[0m                                Traceback (most recent call last)",
      "\u001b[1;32m~\\AppData\\Local\\Temp/ipykernel_22364/1305564753.py\u001b[0m in \u001b[0;36m<module>\u001b[1;34m\u001b[0m\n\u001b[1;32m----> 1\u001b[1;33m reg = RFR(n_estimators=20\n\u001b[0m\u001b[0;32m      2\u001b[0m           \u001b[1;33m,\u001b[0m \u001b[0mbootstrap\u001b[0m\u001b[1;33m=\u001b[0m\u001b[1;32mFalse\u001b[0m\u001b[1;33m\u001b[0m\u001b[1;33m\u001b[0m\u001b[0m\n\u001b[0;32m      3\u001b[0m           \u001b[1;33m,\u001b[0m \u001b[0moob_score\u001b[0m\u001b[1;33m=\u001b[0m\u001b[1;32mTrue\u001b[0m\u001b[1;33m\u001b[0m\u001b[1;33m\u001b[0m\u001b[0m\n\u001b[0;32m      4\u001b[0m           , max_samples=500).fit(X,y) #直接无法运行，因为boostrap=False时oob_score分数根本不存在\n",
      "\u001b[1;32mD:\\ProgramData\\Anaconda3\\lib\\site-packages\\sklearn\\ensemble\\_forest.py\u001b[0m in \u001b[0;36mfit\u001b[1;34m(self, X, y, sample_weight)\u001b[0m\n\u001b[0;32m    401\u001b[0m \u001b[1;33m\u001b[0m\u001b[0m\n\u001b[0;32m    402\u001b[0m         \u001b[1;32mif\u001b[0m \u001b[1;32mnot\u001b[0m \u001b[0mself\u001b[0m\u001b[1;33m.\u001b[0m\u001b[0mbootstrap\u001b[0m \u001b[1;32mand\u001b[0m \u001b[0mself\u001b[0m\u001b[1;33m.\u001b[0m\u001b[0moob_score\u001b[0m\u001b[1;33m:\u001b[0m\u001b[1;33m\u001b[0m\u001b[1;33m\u001b[0m\u001b[0m\n\u001b[1;32m--> 403\u001b[1;33m             \u001b[1;32mraise\u001b[0m \u001b[0mValueError\u001b[0m\u001b[1;33m(\u001b[0m\u001b[1;34m\"Out of bag estimation only available if bootstrap=True\"\u001b[0m\u001b[1;33m)\u001b[0m\u001b[1;33m\u001b[0m\u001b[1;33m\u001b[0m\u001b[0m\n\u001b[0m\u001b[0;32m    404\u001b[0m \u001b[1;33m\u001b[0m\u001b[0m\n\u001b[0;32m    405\u001b[0m         \u001b[0mrandom_state\u001b[0m \u001b[1;33m=\u001b[0m \u001b[0mcheck_random_state\u001b[0m\u001b[1;33m(\u001b[0m\u001b[0mself\u001b[0m\u001b[1;33m.\u001b[0m\u001b[0mrandom_state\u001b[0m\u001b[1;33m)\u001b[0m\u001b[1;33m\u001b[0m\u001b[1;33m\u001b[0m\u001b[0m\n",
      "\u001b[1;31mValueError\u001b[0m: Out of bag estimation only available if bootstrap=True"
     ]
    }
   ],
   "source": [
    "reg = RFR(n_estimators=20\n",
    "          , bootstrap=False\n",
    "          , oob_score=True\n",
    "          , max_samples=500).fit(X,y) #直接无法运行，因为boostrap=False时oob_score分数根本不存在"
   ]
  },
  {
   "cell_type": "code",
   "execution_count": 20,
   "metadata": {},
   "outputs": [],
   "source": [
    "reg = RFR(n_estimators=20\n",
    "          , bootstrap=True #允许抽样\n",
    "          , oob_score=False #但不进行计算\n",
    "          , max_samples=500).fit(X,y)"
   ]
  },
  {
   "cell_type": "code",
   "execution_count": 21,
   "metadata": {},
   "outputs": [
    {
     "ename": "AttributeError",
     "evalue": "'RandomForestRegressor' object has no attribute 'oob_score_'",
     "output_type": "error",
     "traceback": [
      "\u001b[1;31m---------------------------------------------------------------------------\u001b[0m",
      "\u001b[1;31mAttributeError\u001b[0m                            Traceback (most recent call last)",
      "\u001b[1;32m~\\AppData\\Local\\Temp/ipykernel_22364/3186389665.py\u001b[0m in \u001b[0;36m<module>\u001b[1;34m\u001b[0m\n\u001b[1;32m----> 1\u001b[1;33m \u001b[0mreg\u001b[0m\u001b[1;33m.\u001b[0m\u001b[0moob_score_\u001b[0m \u001b[1;31m#虽然可以训练，但oob_score无法被调用\u001b[0m\u001b[1;33m\u001b[0m\u001b[1;33m\u001b[0m\u001b[0m\n\u001b[0m",
      "\u001b[1;31mAttributeError\u001b[0m: 'RandomForestRegressor' object has no attribute 'oob_score_'"
     ]
    }
   ],
   "source": [
    "reg.oob_score_ #虽然可以训练，但oob_score无法被调用"
   ]
  },
  {
   "cell_type": "markdown",
   "metadata": {},
   "source": [
    "- 特征的随机抽样\n",
    "> max_features"
   ]
  },
  {
   "cell_type": "markdown",
   "metadata": {},
   "source": [
    "数据抽样还有另一个维度：对特征的抽样。在学习决策树时，我们已经学习过对特征进行抽样的参数max_features，在随机森林中max_features的用法与决策树中完全一致，其输入也与决策树完全一致：\n",
    "\n",
    "> 输入整数，表示每次分枝时随机抽取max_features个特征<br>\n",
    "> 输入浮点数，表示每次分枝时抽取round(max_features * n_features)个特征<br>\n",
    "> 输入\"auto\"或者None，表示每次分枝时使用全部特征n_features<br>\n",
    "> 输入\"sqrt\"，表示每次分枝时使用sqrt(n_features)<br>\n",
    "> 输入\"log2\"，表示每次分枝时使用log2(n_features)<br>"
   ]
  },
  {
   "cell_type": "code",
   "execution_count": 42,
   "metadata": {
    "jupyter": {
     "source_hidden": true
    },
    "tags": []
   },
   "outputs": [
    {
     "data": {
      "image/png": "[encoded data removed]",
      "text/plain": [
       "<Figure size 640x480 with 1 Axes>"
      ]
     },
     "metadata": {
      "needs_background": "light"
     },
     "output_type": "display_data"
    }
   ],
   "source": [
    "sqrt_ = []\n",
    "log_ = []\n",
    "for n_features in range(1,101,2):\n",
    "    sqrt_.append(np.sqrt(n_features))\n",
    "    log_.append(np.log2(n_features))    \n",
    "xaxis = range(1,101,2)\n",
    "plt.figure(figsize=(8,6),dpi=80)\n",
    "#RMSE\n",
    "plt.plot(xaxis,sqrt_,color=\"green\",label = \"sqrt(n)\")\n",
    "plt.plot(xaxis,log_,color=\"orange\",label = \"log2(n)\")\n",
    "plt.xticks(range(1,101,10))\n",
    "plt.legend()\n",
    "plt.show()"
   ]
  },
  {
   "cell_type": "markdown",
   "metadata": {},
   "source": [
    "不难发现，sqrt(n_features)和log2(n_features)都会返回一个比原始特征量小很多的数，但一般情况下log2返回的值比sqrt返回的值更小，因此如果我们想要树之间的差异更大，我们可以设置模式为log2。在实际使用时，我们往往会先使用上述的文字输入，观察模型的结果，然后再在有效的范围附近进行网格搜索。\n",
    "\n",
    "**需要注意的是，无论对数据进行怎样的抽样，我们能够控制的都只是建立单棵树时的数据而已**。在总数据量有限的情况下，单棵树使用的数据量越大，每一棵树使用的数据就会越相似，每棵树的结构也就会越相似，bagging的效果难以发挥、模型也很容易变得过拟合。因此，当数据量足够时，我们往往会消减单棵树使用的数据量。"
   ]
  },
  {
   "cell_type": "markdown",
   "metadata": {},
   "source": [
    "- 随机抽样的模式\n",
    "> random_state"
   ]
  },
  {
   "cell_type": "code",
   "execution_count": 48,
   "metadata": {
    "jupyter": {
     "source_hidden": true
    },
    "tags": []
   },
   "outputs": [],
   "source": [
    "### 随机模式说明\n",
    "\n",
    "random_state是一个较为抽象的参数，对于刚接触sklearn运作方式的人们来说，random_state可能会比较难以理解。\n",
    "\n",
    "在日常生活中，当我们讨论“随机”时，我们指的是**真正的随机**：\n",
    "- 不可预测\n",
    "- 不可有目的地重复\n",
    "- 实验之间完全相互独立\n",
    "\n",
    "~~比如游戏当中抽卡~~，比如抛硬币，我们无法预料会抛出正面还是反面、并且抛出一次正面自后、无法有目的地再次抛出正面，无论上一次是正面还是反面，都不影响下一次抛硬币的时候的结果。**真正的随机一定伴随着物理实验，是只有自然界才有的现象**。\n",
    "\n",
    "在计算机的世界中，任意的“随机”一定是通过某种计算方式得到和实现的，这种随机是“伪随机”。无论是随机抽样，还是随机打乱数据顺序等等，其实背后都有着计算机的规则在进行控制，**只要我们找到背后的规则，我们就可以有目的地重复随机的结果，而random_state就是在随机过程当中，控制随机规则的参数**。\n",
    "\n",
    "例如，现在我们需要在[1,2,3,4,5]中随机抽取3个数字，我们可以有多种规则：\n",
    "<br><br>\n",
    "0号规则：4,5,1<br>\n",
    "1号规则：2,1,5<br>\n",
    "2号规则：1,5,4<br>\n",
    "3号规则：2,5,4<br>\n",
    "....\n",
    "\n",
    "list_ = [1,2,3,4,5]\n",
    "\n",
    "import random\n",
    "random.sample(list_,k=3) #随机从列表中抽取样本，抽取3个\n",
    "\n",
    "根据排列组合的规则，总共有$A_5^3$=60种选择。每当我们执行抽样的代码时，计算机会在所有规则中选择一个返回给我们。当我们多次执行抽样代码，计算机会返回不同的结果，营造一种“随机”的氛围，但并非真正的在列表中进行了“不可预测、不可重复”的抽样。\n",
    "\n",
    "**只要我们设置随机数种子，我们就可以重复抽样的结果，令本来应该“随机”的过程变成固定过程**。\n",
    "\n",
    "#random.seed是random模块中的随机数种子，等同于sklearn中的random_state\n",
    "random.seed(0) #0号规则\n",
    "random.sample(list_,k=3)\n",
    "\n",
    "random.seed(2)\n",
    "random.sample(list_,k=3)\n",
    "\n",
    "即便只有60种选择，我们的随机数种子也可以设置为任意的数字。当然，无论我们设置怎样的数字，最终计算机都会从这60中选择中挑选一个返回给我们，这也是计算机的规则决定的。无论我们输入了什么数字，只要我们认为当下随机操作返回的结果是可以接受的，就可以持续使用我们设置的数字。\n",
    "\n",
    "random.seed(1412)\n",
    "random.sample(list_,k=3)\n",
    "\n",
    "random.seed(2333)\n",
    "random.sample(list_,k=3)"
   ]
  },
  {
   "cell_type": "markdown",
   "metadata": {},
   "source": [
    "在决策树当中，我们已经学习过控制随机模式的参数`random_state`，这个参数是“随机数种子”，它控制决策树当中多个具有随机性的流程。在sklearn实现的随机森林当中，决策树上也存在众多有随机性的流程：\n",
    "\n",
    "- <font color=red>「强制」随机抽取每棵树建立时分枝用的特征</font>，抽取的数量可由参数max_features决定\n",
    "- <font color=red>「强制」随机排序每棵树分枝时所用的特征</font>\n",
    "- 「可选」随机抽取每棵树建立时训练用的样本，抽取的比例可由参数max_samples决定\n",
    "\n",
    "因此每次使用随机森林类时，我们建立的集成算法都是不同的，在同一个数据集上多次建树自然也会产生不同的模型结果。因此在工程部署和教学当中，我们在建树的第一步总是会先设置随机数种子为一个固定值，让算法固定下来。在设置的时候，需要注意两个问题：\n",
    "\n",
    "**1、不同库中的随机数种子遵循不同的规则，对不同库中的随机数种子给与相同的数字，也不会得到相同的结果**"
   ]
  },
  {
   "cell_type": "code",
   "execution_count": 49,
   "metadata": {},
   "outputs": [
    {
     "data": {
      "text/plain": [
       "0    1\n",
       "1    2\n",
       "2    3\n",
       "3    4\n",
       "4    5\n",
       "dtype: int64"
      ]
     },
     "execution_count": 49,
     "metadata": {},
     "output_type": "execute_result"
    }
   ],
   "source": [
    "import pandas as pd\n",
    "import random\n",
    "\n",
    "list_ = [1,2,3,4,5]\n",
    "list_p = pd.Series(list_)\n",
    "\n",
    "list_p"
   ]
  },
  {
   "cell_type": "code",
   "execution_count": 50,
   "metadata": {},
   "outputs": [
    {
     "data": {
      "text/plain": [
       "[2, 1, 5]"
      ]
     },
     "execution_count": 50,
     "metadata": {},
     "output_type": "execute_result"
    }
   ],
   "source": [
    "#random中的随机抽样\n",
    "random.seed(1)\n",
    "random.sample(list_,k=3)"
   ]
  },
  {
   "cell_type": "code",
   "execution_count": 51,
   "metadata": {},
   "outputs": [
    {
     "data": {
      "text/plain": [
       "array([3, 2, 5], dtype=int64)"
      ]
     },
     "execution_count": 51,
     "metadata": {},
     "output_type": "execute_result"
    }
   ],
   "source": [
    "#pandas中的随机抽样\n",
    "list_p.sample(n=3,random_state=1).values"
   ]
  },
  {
   "cell_type": "markdown",
   "metadata": {},
   "source": [
    "同样的，sklearn中的随机抽样、numpy中的随机抽样、cuda中的随机抽样在相同的随机数种子数值下，都会得到不同的结果。"
   ]
  },
  {
   "cell_type": "markdown",
   "metadata": {},
   "source": [
    "**2、如何选择最佳随机数种子？**\n",
    "\n",
    "当数据样本量足够大的时候（数万），变换随机数种子几乎不会对模型的泛化能力有影响，因此在数据量巨大的情况下，我们可以随意设置任意的数值。\n",
    "\n",
    "**当数据量较小的时候，我们可以把随机数种子当做参数进行调整，但前提是必须依赖于交叉验证的结果**。选择交叉验证结果中均值最高、方差最低的随机数种子，以找到泛化能力最强大的随机模式。"
   ]
  },
  {
   "cell_type": "markdown",
   "metadata": {},
   "source": [
    "|类型|参数|\n",
    "|---|---|\n",
    "|**弱分类器的训练数据**|<font color=\"green\">**bootstrap**</font>：是否对样本进行随机抽样<br><br><font color=\"green\">**oob_score**</font>：如果使用随机抽样，是否使用袋外数据作为验证集<br><br><font color=\"green\">**max_samples**</font>：如果使用随机抽样，每次随机抽样的样本量<br><br>max_features：随机抽取特征的数目<br><br>random_state：控制一切随机模式|"
   ]
  },
  {
   "cell_type": "markdown",
   "metadata": {},
   "source": [
    "### 2.4 其他参数"
   ]
  },
  {
   "cell_type": "markdown",
   "metadata": {},
   "source": [
    "|类型|参数|\n",
    "|---|---|\n",
    "|**其他**|n_jobs：允许调用的线程数<br><br>verbose：打印建树过程<br><br>ccp_alpha：结构风险$|\\widetilde{T}|$上的系数，可用于控制过拟合<br><br>warm_start：支持增量学习|"
   ]
  },
  {
   "cell_type": "markdown",
   "metadata": {},
   "source": [
    "我们已经了解过前三个参数。需要稍微说明一下`verbose`参数。随机森林的`verbose`参数打印的是建树过程，但只有在树的数量众多、建模耗时很长时，`verbose`才会打印建树的具体过程，否则它只会打印出一行两简单的报告。这些参数中需要重点说明的是`warm_start`。`warm_start`是控制增量学习的参数，默认为False，该参数可以帮助随机森林处理巨量数据，解决围绕随机森林的众多关键问题。我们将在之后的章节中重点讲解`warm_start`的应用。"
   ]
  },
  {
   "cell_type": "markdown",
   "metadata": {},
   "source": [
    "   "
   ]
  },
  {
   "cell_type": "markdown",
   "metadata": {},
   "source": [
    "# 四 集成算法的参数空间与网格优化"
   ]
  },
  {
   "cell_type": "markdown",
   "metadata": {},
   "source": [
    "如随机森林中所展示的，集成算法的超参数种类繁多、取值丰富，且参数之间会相互影响、共同作用于算法的最终结果，因此集成算法的调参是一个难度很高的过程。在超参数优化还未盛行的时候，随机森林的调参是基于方差-偏差理论（variance-bias trade-off）和学习曲线完成的，而现在我们可以依赖于网格搜索来完成自动优化。在对任意算法进行网格搜索时，我们需要明确两个基本事实：\n",
    "\n",
    "1、参数对算法结果的影响力大小<br>\n",
    "2、用于进行搜索的参数空间<br>"
   ]
  },
  {
   "cell_type": "markdown",
   "metadata": {},
   "source": [
    "对随机森林来说，我们可以大致如下排列各个参数对算法的影响："
   ]
  },
  {
   "cell_type": "markdown",
   "metadata": {},
   "source": [
    "|影响力|参数|\n",
    "|:-:|:-:|\n",
    "|⭐⭐⭐⭐⭐<br>几乎总是具有巨大影响力|n_estimators（整体学习能力）<br>max_depth（粗剪枝）<br>max_features（随机性）<br>|\n",
    "|⭐⭐⭐⭐<br>大部分时候具有影响力|max_samples（随机性）<br>class_weight（样本均衡）|\n",
    "|⭐⭐<br>可能有大影响力<br>大部分时候影响力不明显|min_samples_split（精剪枝）<br>min_impurity_decrease（精剪枝）<br>max_leaf_nodes（精剪枝）<br>criterion（分枝敏感度）|\n",
    "|⭐<br>当数据量足够大时，几乎无影响|random_state<br>ccp_alpha（结构风险）|"
   ]
  },
  {
   "cell_type": "markdown",
   "metadata": {},
   "source": [
    "随机森林在剪枝方面的空间总是很大的，因为默认参数下树的结构基本没有被影响（也就是几乎没有剪枝），因此当随机森林过拟合的时候，我们可以尝试粗、精、随机等各种方式来影响随机森林。通常在网格搜索当中，我们会考虑所有有巨大影响力的参数、以及1、2个影响力不明显的参数。\n",
    "\n",
    "虽然随机森林调参的空间较大，大部分人在调参过程中依然难以突破，因为**树的集成模型的参数空间非常难以确定**。当没有数据支撑时，人们很难通过感觉或经验来找到正确的参数范围。举例来说，我们也很难直接判断究竟多少棵树对于当前的模型最有效，同时，我们也很难判断不剪枝时一棵决策树究竟有多深、有多少叶子、或者一片叶子上究竟有多少个样本，更不要谈凭经验判断树模型整体的不纯度情况了。可以说，当森林建好之后，我们简直是对森林一无所知。对于网格搜索来说，新增一个潜在的参数可选值，计算量就会指数级增长，因此找到有效的参数空间非常重要。此时我们就要引入两个工具来帮助我们：\n",
    "\n",
    "1、学习曲线<br>\n",
    "2、决策树对象Tree的属性<br>"
   ]
  },
  {
   "cell_type": "markdown",
   "metadata": {},
   "source": [
    "- 学习曲线\n",
    "\n",
    "学习曲线是以参数的不同取值为横坐标，模型的结果为纵坐标的曲线。当模型的参数较少、且参数之间的相互作用较小时，我们可以直接使用学习曲线进行调参。但对于集成算法来说，学习曲线更多是我们探索参数与模型关系的关键手段。许多参数对模型的影响是确定且单调的，例如`n_estimators`，树越多模型的学习能力越强，再比如`ccp_alpha`，该参数值越大模型抗过拟合能力越强，因此我们可能通过学习曲线找到这些参数对模型影响的极限。我们会围绕这些极限点来构筑我们的参数空间。\n",
    "\n",
    "先来看看n_estimators的学习曲线："
   ]
  },
  {
   "cell_type": "code",
   "execution_count": 22,
   "metadata": {},
   "outputs": [],
   "source": [
    "#参数潜在取值，由于现在我们只调整一个参数，因此参数的范围可以取大一些、取值也可以更密集\n",
    "Option = [1,*range(5,101,5)]"
   ]
  },
  {
   "cell_type": "code",
   "execution_count": 45,
   "metadata": {},
   "outputs": [],
   "source": [
    "#生成保存模型结果的arrays\n",
    "trainRMSE = np.array([])\n",
    "testRMSE = np.array([])\n",
    "trainSTD = np.array([])\n",
    "testSTD = np.array([])\n",
    "\n",
    "#在参数取值中进行循环\n",
    "for n_estimators in Option:\n",
    "    \n",
    "    #按照当下的参数，实例化模型\n",
    "    reg_f = RFR(n_estimators=n_estimators,random_state=1412)\n",
    "    \n",
    "    #实例化交叉验证方式，输出交叉验证结果\n",
    "    cv = KFold(n_splits=5,shuffle=True,random_state=1412)\n",
    "    result_f = cross_validate(reg_f,X,y,cv=cv,scoring=\"neg_mean_squared_error\"\n",
    "                              ,return_train_score=True\n",
    "                              ,n_jobs=-1)\n",
    "    \n",
    "    #根据输出的MSE进行RMSE计算\n",
    "    train = abs(result_f[\"train_score\"])**0.5\n",
    "    test = abs(result_f[\"test_score\"])**0.5\n",
    "    \n",
    "    #将本次交叉验证中RMSE的均值、标准差添加到arrays中进行保存\n",
    "    trainRMSE = np.append(trainRMSE,train.mean()) #效果越好\n",
    "    testRMSE = np.append(testRMSE,test.mean())\n",
    "    trainSTD = np.append(trainSTD,train.std()) #模型越稳定\n",
    "    testSTD = np.append(testSTD,test.std())"
   ]
  },
  {
   "cell_type": "code",
   "execution_count": 46,
   "metadata": {},
   "outputs": [],
   "source": [
    "def plotCVresult(Option,trainRMSE,testRMSE,trainSTD,testSTD):\n",
    "    #一次交叉验证下，RMSE的均值与std的绘图\n",
    "    xaxis = Option\n",
    "    plt.figure(figsize=(8,6),dpi=80)\n",
    "\n",
    "    #RMSE\n",
    "    plt.plot(xaxis,trainRMSE,color=\"k\",label = \"RandomForestTrain\")\n",
    "    plt.plot(xaxis,testRMSE,color=\"red\",label = \"RandomForestTest\")\n",
    "\n",
    "    #标准差 - 围绕在RMSE旁形成一个区间\n",
    "    plt.plot(xaxis,trainRMSE+trainSTD,color=\"k\",linestyle=\"dotted\")\n",
    "    plt.plot(xaxis,trainRMSE-trainSTD,color=\"k\",linestyle=\"dotted\")\n",
    "    plt.plot(xaxis,testRMSE+testSTD,color=\"red\",linestyle=\"dotted\")\n",
    "    plt.plot(xaxis,testRMSE-testSTD,color=\"red\",linestyle=\"dotted\")\n",
    "    plt.xticks([*xaxis])\n",
    "    plt.legend(loc=1)\n",
    "    plt.show()"
   ]
  },
  {
   "cell_type": "code",
   "execution_count": 47,
   "metadata": {},
   "outputs": [
    {
     "data": {
      "image/png": "[encoded data removed]",
      "text/plain": [
       "<Figure size 640x480 with 1 Axes>"
      ]
     },
     "metadata": {
      "needs_background": "light"
     },
     "output_type": "display_data"
    }
   ],
   "source": [
    "plotCVresult(Option,trainRMSE,testRMSE,trainSTD,testSTD)"
   ]
  },
  {
   "cell_type": "markdown",
   "metadata": {},
   "source": [
    "当绘制学习曲线时，我们可以很容易找到泛化误差开始上升、或转变为平稳趋势的转折点。因此我们可以选择转折点或转折点附近的n_estimators取值，例如20。然而，n_estimators会受到其他参数的影响，例如：\n",
    "\n",
    "> - 单棵决策树的结构更简单时（依赖剪枝时），可能需要更多的树\n",
    "> - 单棵决策树训练的数据更简单时（依赖随机性时），可能需要更多的树\n",
    "\n",
    "因此n_estimators的参数空间可以被确定为range(20,100,5)，如果你比较保守，甚至可以确认为是range(15,25,5)。"
   ]
  },
  {
   "cell_type": "markdown",
   "metadata": {},
   "source": [
    "- 决策树对象Tree"
   ]
  },
  {
   "cell_type": "markdown",
   "metadata": {},
   "source": [
    "在sklearn中，树模型是单独的一类对象，每个树模型背后都有一套完整的属性供我们调用，包括树的结构、树的规模等众多细节。在之前的课程中，我们曾经使用过树模型的绘图功能plot_tree，除此之外树还有许多有用的属性。随机森林是树组成的算法，因此也可以调用这些属性。我们来举例说明："
   ]
  },
  {
   "cell_type": "code",
   "execution_count": 25,
   "metadata": {},
   "outputs": [],
   "source": [
    "reg_f = RFR(n_estimators=10,random_state=1412)\n",
    "reg_f = reg_f.fit(X,y) #训练一个随机森林"
   ]
  },
  {
   "cell_type": "markdown",
   "metadata": {},
   "source": [
    "> 属性`.estimators_`，查看森林中所有的树"
   ]
  },
  {
   "cell_type": "code",
   "execution_count": 26,
   "metadata": {},
   "outputs": [
    {
     "data": {
      "text/plain": [
       "[DecisionTreeRegressor(max_features='auto', random_state=1630984966),\n",
       " DecisionTreeRegressor(max_features='auto', random_state=472863509),\n",
       " DecisionTreeRegressor(max_features='auto', random_state=1082704530),\n",
       " DecisionTreeRegressor(max_features='auto', random_state=1930362544),\n",
       " DecisionTreeRegressor(max_features='auto', random_state=273973624),\n",
       " DecisionTreeRegressor(max_features='auto', random_state=21991934),\n",
       " DecisionTreeRegressor(max_features='auto', random_state=1886585710),\n",
       " DecisionTreeRegressor(max_features='auto', random_state=63725675),\n",
       " DecisionTreeRegressor(max_features='auto', random_state=1374343434),\n",
       " DecisionTreeRegressor(max_features='auto', random_state=1078007175)]"
      ]
     },
     "execution_count": 26,
     "metadata": {},
     "output_type": "execute_result"
    }
   ],
   "source": [
    "reg_f.estimators_ #一片随机森林中所有的树"
   ]
  },
  {
   "cell_type": "code",
   "execution_count": 29,
   "metadata": {},
   "outputs": [
    {
     "data": {
      "text/plain": [
       "DecisionTreeRegressor(max_features='auto', random_state=1630984966)"
      ]
     },
     "execution_count": 29,
     "metadata": {},
     "output_type": "execute_result"
    }
   ],
   "source": [
    "#可以用索引单独提取一棵树\n",
    "reg_f.estimators_[0]"
   ]
  },
  {
   "cell_type": "code",
   "execution_count": 30,
   "metadata": {},
   "outputs": [
    {
     "data": {
      "text/plain": [
       "<sklearn.tree._tree.Tree at 0x1c070d8e340>"
      ]
     },
     "execution_count": 30,
     "metadata": {},
     "output_type": "execute_result"
    }
   ],
   "source": [
    "#调用这棵树的底层结构\n",
    "reg_f.estimators_[0].tree_"
   ]
  },
  {
   "cell_type": "markdown",
   "metadata": {},
   "source": [
    "> 属性`.max_depth`，查看当前树的实际深度"
   ]
  },
  {
   "cell_type": "code",
   "execution_count": 31,
   "metadata": {},
   "outputs": [
    {
     "data": {
      "text/plain": [
       "19"
      ]
     },
     "execution_count": 31,
     "metadata": {},
     "output_type": "execute_result"
    }
   ],
   "source": [
    "reg_f.estimators_[0].tree_.max_depth #max_depth=None"
   ]
  },
  {
   "cell_type": "code",
   "execution_count": 32,
   "metadata": {},
   "outputs": [
    {
     "name": "stdout",
     "output_type": "stream",
     "text": [
      "19\n",
      "25\n",
      "27\n",
      "20\n",
      "23\n",
      "22\n",
      "22\n",
      "20\n",
      "22\n",
      "24\n"
     ]
    }
   ],
   "source": [
    "#对森林中所有树查看实际深度\n",
    "for t in reg_f.estimators_:\n",
    "    print(t.tree_.max_depth)"
   ]
  },
  {
   "cell_type": "code",
   "execution_count": 33,
   "metadata": {},
   "outputs": [],
   "source": [
    "#如果树的数量较多，也可以查看平均或分布\n",
    "reg_f = RFR(n_estimators=100,random_state=1412)\n",
    "reg_f = reg_f.fit(X,y) #训练一个随机森林\n",
    "d = pd.Series([],dtype=\"int64\")\n",
    "for idx,t in enumerate(reg_f.estimators_):\n",
    "    d[idx] = t.tree_.max_depth"
   ]
  },
  {
   "cell_type": "code",
   "execution_count": 35,
   "metadata": {},
   "outputs": [
    {
     "data": {
      "text/plain": [
       "22.25"
      ]
     },
     "execution_count": 35,
     "metadata": {},
     "output_type": "execute_result"
    }
   ],
   "source": [
    "d.mean()"
   ]
  },
  {
   "cell_type": "code",
   "execution_count": 101,
   "metadata": {},
   "outputs": [
    {
     "data": {
      "text/plain": [
       "count    100.000000\n",
       "mean      22.250000\n",
       "std        1.955954\n",
       "min       19.000000\n",
       "25%       21.000000\n",
       "50%       22.000000\n",
       "75%       23.000000\n",
       "max       30.000000\n",
       "dtype: float64"
      ]
     },
     "execution_count": 101,
     "metadata": {},
     "output_type": "execute_result"
    }
   ],
   "source": [
    "d.describe()"
   ]
  },
  {
   "cell_type": "markdown",
   "metadata": {},
   "source": [
    "假设现在你的随机森林过拟合，max_depth的最大深度范围设置在[15,25]之间就会比较有效，如果我们希望激烈地剪枝，则可以设置在[10,15]之间。\n",
    "\n",
    "相似的，我们也可以调用其他属性来辅助我们调参："
   ]
  },
  {
   "cell_type": "markdown",
   "metadata": {},
   "source": [
    "|参数|参数含义|对应属性|属性含义|\n",
    "|:-:|:-:|:-:|:-:|\n",
    "|n_estimators|树的数量|reg.estimators_|森林中所有树对象|\n",
    "|max_depth|允许的最大深度|.tree_.max_depth|0号树实际的深度|\n",
    "|max_leaf_nodes|允许的最大<br>叶子节点量|.tree_.node_count|0号树实际的总节点量|\n",
    "|min_sample_split|分枝所需最小<br>样本量|.tree_.n_node_samples|0号树每片叶子上实际的样本量|\n",
    "|min_weight_fraction_leaf|分枝所需最小<br>样本权重|tree_.weighted_n_node_samples|0号树每片叶子上实际的样本权重|\n",
    "|min_impurity_decrease|分枝所需最小<br>不纯度下降量|.tree_.impurity<br>.tree_.threshold|0号树每片叶子上的实际不纯度<br>0号树每个节点分枝后不纯度下降量|"
   ]
  },
  {
   "cell_type": "code",
   "execution_count": 36,
   "metadata": {},
   "outputs": [
    {
     "data": {
      "text/plain": [
       "1807"
      ]
     },
     "execution_count": 36,
     "metadata": {},
     "output_type": "execute_result"
    }
   ],
   "source": [
    "#一棵树上的总叶子量\n",
    "reg_f.estimators_[0].tree_.node_count"
   ]
  },
  {
   "cell_type": "code",
   "execution_count": 110,
   "metadata": {},
   "outputs": [
    {
     "name": "stdout",
     "output_type": "stream",
     "text": [
      "1807\n",
      "1777\n",
      "1763\n",
      "1821\n",
      "1777\n",
      "1781\n",
      "1811\n",
      "1771\n",
      "1753\n",
      "1779\n"
     ]
    }
   ],
   "source": [
    "#所有树上的总叶子量\n",
    "for t in reg_f.estimators_:\n",
    "    print(t.tree_.node_count)"
   ]
  },
  {
   "cell_type": "markdown",
   "metadata": {},
   "source": [
    "**根据经验，当决策树不减枝且在训练集上的预测结果不错时，一棵树上的叶子量常常与样本量相当或比样本量更多，算法结果越糟糕，叶子量越少**，如果RMSE很高或者R2很低，则可以考虑使用样本量的一半或3/4作为不减枝时的叶子量的参考。"
   ]
  },
  {
   "cell_type": "code",
   "execution_count": 40,
   "metadata": {
    "tags": []
   },
   "outputs": [
    {
     "data": {
      "text/plain": [
       "[6.5,\n",
       " 5.5,\n",
       " 327.0,\n",
       " 214.0,\n",
       " 0.5,\n",
       " 1.0,\n",
       " 104.0,\n",
       " 0.5,\n",
       " -2.0,\n",
       " -2.0,\n",
       " -2.0,\n",
       " 105.5,\n",
       " 28.5,\n",
       " 0.5,\n",
       " 1.5,\n",
       " -2.0,\n",
       " -2.0,\n",
       " 11.0,\n",
       " 1212.5,\n",
       " 2.5]"
      ]
     },
     "execution_count": 40,
     "metadata": {},
     "output_type": "execute_result"
    }
   ],
   "source": [
    "#每个节点上的不纯度下降量，为-2则表示该节点是叶子节点\n",
    "reg_f.estimators_[0].tree_.threshold.tolist()[:20]"
   ]
  },
  {
   "cell_type": "code",
   "execution_count": 46,
   "metadata": {},
   "outputs": [
    {
     "data": {
      "text/plain": [
       "-2.0       904\n",
       " 0.5        43\n",
       " 1.0        32\n",
       " 1.5        56\n",
       " 2.0        32\n",
       "          ... \n",
       " 1118.5      1\n",
       " 1162.5      1\n",
       " 1212.5      2\n",
       " 1254.5      1\n",
       " 1335.5      1\n",
       "Length: 413, dtype: int64"
      ]
     },
     "execution_count": 46,
     "metadata": {},
     "output_type": "execute_result"
    }
   ],
   "source": [
    "#你怎么知道min_impurity_decrease的范围设置多少会剪掉多少叶子？\n",
    "pd.Series(reg_f.estimators_[0].tree_.threshold).value_counts().sort_index()"
   ]
  },
  {
   "cell_type": "code",
   "execution_count": 63,
   "metadata": {
    "collapsed": true,
    "jupyter": {
     "outputs_hidden": true
    },
    "tags": []
   },
   "outputs": [
    {
     "data": {
      "text/plain": [
       "1.0        32\n",
       "1.5        88\n",
       "2.0       120\n",
       "2.5       167\n",
       "3.0       189\n",
       "3.5       208\n",
       "4.0       224\n",
       "4.5       249\n",
       "5.0       258\n",
       "5.5       271\n",
       "6.0       276\n",
       "6.5       287\n",
       "7.0       302\n",
       "7.5       307\n",
       "8.0       313\n",
       "8.5       321\n",
       "9.0       326\n",
       "9.5       334\n",
       "10.0      335\n",
       "10.5      343\n",
       "11.0      346\n",
       "11.5      348\n",
       "12.0      349\n",
       "12.5      353\n",
       "13.0      355\n",
       "13.5      359\n",
       "14.0      360\n",
       "14.5      361\n",
       "15.5      364\n",
       "16.0      366\n",
       "17.5      368\n",
       "18.0      370\n",
       "18.5      372\n",
       "19.0      374\n",
       "19.5      377\n",
       "20.0      378\n",
       "20.5      379\n",
       "21.0      382\n",
       "22.0      385\n",
       "22.5      387\n",
       "23.0      389\n",
       "24.0      391\n",
       "24.5      392\n",
       "26.0      394\n",
       "26.5      396\n",
       "27.0      398\n",
       "27.5      399\n",
       "28.5      400\n",
       "29.5      401\n",
       "30.0      402\n",
       "31.0      404\n",
       "31.5      405\n",
       "32.0      407\n",
       "32.5      408\n",
       "33.0      409\n",
       "34.0      410\n",
       "34.5      411\n",
       "35.0      413\n",
       "35.5      416\n",
       "36.0      417\n",
       "36.5      419\n",
       "37.0      420\n",
       "37.5      422\n",
       "38.0      424\n",
       "39.5      427\n",
       "40.0      428\n",
       "40.5      429\n",
       "41.0      433\n",
       "42.0      435\n",
       "43.0      436\n",
       "43.5      439\n",
       "44.0      440\n",
       "44.5      443\n",
       "45.0      444\n",
       "45.5      450\n",
       "46.0      452\n",
       "46.5      454\n",
       "47.0      456\n",
       "48.0      459\n",
       "48.5      463\n",
       "49.0      465\n",
       "49.5      467\n",
       "50.0      470\n",
       "50.5      471\n",
       "51.0      474\n",
       "51.5      477\n",
       "52.5      478\n",
       "53.0      479\n",
       "53.5      481\n",
       "54.0      482\n",
       "54.5      483\n",
       "55.0      486\n",
       "55.5      487\n",
       "56.0      489\n",
       "56.5      493\n",
       "57.0      495\n",
       "58.0      497\n",
       "58.5      500\n",
       "59.5      501\n",
       "60.0      503\n",
       "60.5      505\n",
       "61.0      509\n",
       "62.5      511\n",
       "63.0      513\n",
       "63.5      515\n",
       "64.5      516\n",
       "65.0      517\n",
       "65.5      518\n",
       "66.5      519\n",
       "67.0      522\n",
       "67.5      523\n",
       "68.5      525\n",
       "69.0      526\n",
       "69.5      527\n",
       "71.0      528\n",
       "72.0      529\n",
       "73.0      530\n",
       "74.0      531\n",
       "75.0      532\n",
       "75.5      533\n",
       "76.0      534\n",
       "77.0      536\n",
       "78.5      537\n",
       "79.5      539\n",
       "81.5      540\n",
       "82.5      542\n",
       "84.0      543\n",
       "84.5      545\n",
       "85.5      546\n",
       "87.0      548\n",
       "87.5      549\n",
       "88.0      550\n",
       "88.5      551\n",
       "90.0      552\n",
       "90.5      553\n",
       "91.0      555\n",
       "91.5      556\n",
       "92.0      558\n",
       "92.5      560\n",
       "94.5      561\n",
       "95.0      562\n",
       "95.5      564\n",
       "96.0      566\n",
       "96.5      567\n",
       "97.0      569\n",
       "98.0      570\n",
       "99.5      571\n",
       "102.0     572\n",
       "103.5     573\n",
       "104.0     574\n",
       "104.5     575\n",
       "105.5     577\n",
       "106.5     579\n",
       "107.0     580\n",
       "107.5     581\n",
       "108.0     583\n",
       "110.0     584\n",
       "110.5     585\n",
       "112.0     586\n",
       "113.0     587\n",
       "114.5     588\n",
       "116.5     589\n",
       "117.5     590\n",
       "118.0     591\n",
       "120.5     592\n",
       "122.0     593\n",
       "124.5     594\n",
       "127.0     596\n",
       "127.5     597\n",
       "128.5     598\n",
       "129.5     599\n",
       "130.5     600\n",
       "134.0     601\n",
       "135.5     602\n",
       "136.5     603\n",
       "137.0     604\n",
       "139.0     605\n",
       "139.5     606\n",
       "142.0     607\n",
       "143.0     608\n",
       "146.0     609\n",
       "146.5     610\n",
       "147.0     611\n",
       "148.0     612\n",
       "148.5     613\n",
       "149.0     614\n",
       "150.5     616\n",
       "151.5     617\n",
       "153.0     618\n",
       "160.5     619\n",
       "162.0     620\n",
       "163.0     621\n",
       "164.5     623\n",
       "170.5     624\n",
       "171.0     625\n",
       "172.5     626\n",
       "175.0     627\n",
       "176.5     628\n",
       "177.0     629\n",
       "178.0     630\n",
       "179.0     632\n",
       "179.5     633\n",
       "188.0     634\n",
       "190.5     635\n",
       "191.5     636\n",
       "192.5     638\n",
       "194.5     639\n",
       "195.0     640\n",
       "198.5     641\n",
       "199.0     642\n",
       "201.0     644\n",
       "202.5     645\n",
       "204.0     647\n",
       "207.0     648\n",
       "209.0     649\n",
       "209.5     650\n",
       "210.0     651\n",
       "210.5     652\n",
       "214.0     653\n",
       "215.0     654\n",
       "216.5     655\n",
       "217.0     656\n",
       "218.5     657\n",
       "223.0     658\n",
       "227.5     659\n",
       "228.5     660\n",
       "232.0     661\n",
       "233.5     662\n",
       "237.0     664\n",
       "238.0     665\n",
       "239.5     666\n",
       "242.0     667\n",
       "242.5     668\n",
       "243.5     669\n",
       "246.0     671\n",
       "248.5     672\n",
       "250.0     673\n",
       "251.5     674\n",
       "252.0     675\n",
       "256.0     677\n",
       "259.5     678\n",
       "260.5     679\n",
       "263.0     680\n",
       "264.0     681\n",
       "265.5     682\n",
       "268.5     684\n",
       "278.0     685\n",
       "281.5     686\n",
       "284.0     687\n",
       "285.0     688\n",
       "288.5     689\n",
       "289.5     691\n",
       "290.5     692\n",
       "291.0     693\n",
       "293.0     694\n",
       "295.0     695\n",
       "296.5     696\n",
       "297.0     697\n",
       "298.0     698\n",
       "299.0     699\n",
       "300.0     701\n",
       "301.5     702\n",
       "302.0     703\n",
       "303.0     704\n",
       "303.5     705\n",
       "305.0     706\n",
       "305.5     707\n",
       "306.0     708\n",
       "306.5     709\n",
       "319.5     711\n",
       "323.5     712\n",
       "327.0     713\n",
       "327.5     715\n",
       "328.0     717\n",
       "334.5     718\n",
       "338.5     719\n",
       "344.0     721\n",
       "345.0     722\n",
       "346.0     723\n",
       "347.0     724\n",
       "350.5     725\n",
       "351.0     726\n",
       "354.0     727\n",
       "357.0     728\n",
       "364.5     729\n",
       "365.5     730\n",
       "368.0     731\n",
       "369.5     732\n",
       "374.5     733\n",
       "387.0     734\n",
       "392.5     735\n",
       "395.0     736\n",
       "395.5     737\n",
       "397.0     738\n",
       "404.0     739\n",
       "406.5     740\n",
       "411.0     741\n",
       "412.0     742\n",
       "412.5     743\n",
       "413.5     744\n",
       "416.0     745\n",
       "417.5     746\n",
       "420.0     747\n",
       "420.5     748\n",
       "432.0     749\n",
       "446.5     750\n",
       "448.5     751\n",
       "452.0     752\n",
       "455.0     753\n",
       "473.5     754\n",
       "474.5     755\n",
       "475.0     756\n",
       "481.0     757\n",
       "485.0     758\n",
       "487.5     759\n",
       "488.5     760\n",
       "490.0     761\n",
       "492.5     762\n",
       "493.0     763\n",
       "493.5     764\n",
       "500.5     765\n",
       "501.0     766\n",
       "501.5     767\n",
       "505.0     768\n",
       "510.0     769\n",
       "517.5     770\n",
       "520.0     771\n",
       "522.0     772\n",
       "527.5     775\n",
       "531.5     776\n",
       "532.0     777\n",
       "535.5     778\n",
       "540.0     780\n",
       "542.5     781\n",
       "543.5     782\n",
       "547.5     783\n",
       "550.5     784\n",
       "553.5     785\n",
       "556.0     786\n",
       "556.5     787\n",
       "559.5     788\n",
       "560.0     789\n",
       "563.0     790\n",
       "574.5     791\n",
       "577.0     792\n",
       "579.0     793\n",
       "580.0     794\n",
       "582.0     795\n",
       "582.5     796\n",
       "587.0     797\n",
       "591.0     798\n",
       "593.0     799\n",
       "594.5     800\n",
       "596.5     801\n",
       "609.0     802\n",
       "610.0     803\n",
       "611.5     804\n",
       "615.0     805\n",
       "619.0     806\n",
       "630.5     807\n",
       "631.0     808\n",
       "647.0     810\n",
       "655.5     811\n",
       "656.5     812\n",
       "661.5     813\n",
       "662.0     814\n",
       "668.5     815\n",
       "673.5     816\n",
       "680.0     817\n",
       "681.5     818\n",
       "690.5     819\n",
       "695.5     820\n",
       "697.5     821\n",
       "705.5     822\n",
       "717.0     823\n",
       "726.5     824\n",
       "737.5     825\n",
       "739.5     826\n",
       "759.5     827\n",
       "760.5     828\n",
       "767.5     829\n",
       "769.0     830\n",
       "794.5     831\n",
       "807.0     832\n",
       "810.5     833\n",
       "819.5     834\n",
       "820.5     835\n",
       "843.0     836\n",
       "847.0     837\n",
       "865.0     838\n",
       "874.0     839\n",
       "877.5     840\n",
       "894.5     841\n",
       "903.0     842\n",
       "917.5     843\n",
       "918.0     844\n",
       "924.0     845\n",
       "954.0     846\n",
       "961.5     847\n",
       "1013.5    848\n",
       "1015.5    849\n",
       "1024.5    850\n",
       "1043.5    851\n",
       "1052.5    852\n",
       "1059.5    853\n",
       "1070.0    854\n",
       "1118.5    855\n",
       "1162.5    856\n",
       "1212.5    858\n",
       "1254.5    859\n",
       "1335.5    860\n",
       "dtype: int64"
      ]
     },
     "execution_count": 63,
     "metadata": {},
     "output_type": "execute_result"
    }
   ],
   "source": [
    "pd.set_option(\"display.max_rows\",None)\n",
    "np.cumsum(pd.Series(reg_f.estimators_[0].tree_.threshold).value_counts().sort_index()[1:])"
   ]
  },
  {
   "cell_type": "markdown",
   "metadata": {},
   "source": [
    "从这棵树反馈的结果来看，min_impurity_decrease在现在的数据集上至少要设置到[2,10]的范围才可能对模型有较大的影响。"
   ]
  },
  {
   "cell_type": "code",
   "execution_count": 120,
   "metadata": {
    "tags": []
   },
   "outputs": [
    {
     "data": {
      "text/plain": [
       "array([  0, 879, 321, 154,  86,  52,  42,  38,  29,  18], dtype=int64)"
      ]
     },
     "execution_count": 120,
     "metadata": {},
     "output_type": "execute_result"
    }
   ],
   "source": [
    "#min_sample_split的范围要如何设置才会剪掉很多叶子？\n",
    "np.bincount(reg_f.estimators_[0].tree_.n_node_samples.tolist())[:10]"
   ]
  },
  {
   "cell_type": "markdown",
   "metadata": {},
   "source": [
    "更多属性可以参考："
   ]
  },
  {
   "cell_type": "code",
   "execution_count": 64,
   "metadata": {
    "tags": []
   },
   "outputs": [],
   "source": [
    "from sklearn.tree._tree import Tree"
   ]
  },
  {
   "cell_type": "code",
   "execution_count": 65,
   "metadata": {},
   "outputs": [
    {
     "data": {
      "text/plain": [
       "type"
      ]
     },
     "execution_count": 65,
     "metadata": {},
     "output_type": "execute_result"
    }
   ],
   "source": [
    "type(Tree)"
   ]
  },
  {
   "cell_type": "code",
   "execution_count": 66,
   "metadata": {
    "collapsed": true,
    "jupyter": {
     "outputs_hidden": true
    },
    "tags": []
   },
   "outputs": [
    {
     "name": "stdout",
     "output_type": "stream",
     "text": [
      "Help on class Tree in module sklearn.tree._tree:\n",
      "\n",
      "class Tree(builtins.object)\n",
      " |  Array-based representation of a binary decision tree.\n",
      " |  \n",
      " |  The binary tree is represented as a number of parallel arrays. The i-th\n",
      " |  element of each array holds information about the node `i`. Node 0 is the\n",
      " |  tree's root. You can find a detailed description of all arrays in\n",
      " |  `_tree.pxd`. NOTE: Some of the arrays only apply to either leaves or split\n",
      " |  nodes, resp. In this case the values of nodes of the other type are\n",
      " |  arbitrary!\n",
      " |  \n",
      " |  Attributes\n",
      " |  ----------\n",
      " |  node_count : int\n",
      " |      The number of nodes (internal nodes + leaves) in the tree.\n",
      " |  \n",
      " |  capacity : int\n",
      " |      The current capacity (i.e., size) of the arrays, which is at least as\n",
      " |      great as `node_count`.\n",
      " |  \n",
      " |  max_depth : int\n",
      " |      The depth of the tree, i.e. the maximum depth of its leaves.\n",
      " |  \n",
      " |  children_left : array of int, shape [node_count]\n",
      " |      children_left[i] holds the node id of the left child of node i.\n",
      " |      For leaves, children_left[i] == TREE_LEAF. Otherwise,\n",
      " |      children_left[i] > i. This child handles the case where\n",
      " |      X[:, feature[i]] <= threshold[i].\n",
      " |  \n",
      " |  children_right : array of int, shape [node_count]\n",
      " |      children_right[i] holds the node id of the right child of node i.\n",
      " |      For leaves, children_right[i] == TREE_LEAF. Otherwise,\n",
      " |      children_right[i] > i. This child handles the case where\n",
      " |      X[:, feature[i]] > threshold[i].\n",
      " |  \n",
      " |  feature : array of int, shape [node_count]\n",
      " |      feature[i] holds the feature to split on, for the internal node i.\n",
      " |  \n",
      " |  threshold : array of double, shape [node_count]\n",
      " |      threshold[i] holds the threshold for the internal node i.\n",
      " |  \n",
      " |  value : array of double, shape [node_count, n_outputs, max_n_classes]\n",
      " |      Contains the constant prediction value of each node.\n",
      " |  \n",
      " |  impurity : array of double, shape [node_count]\n",
      " |      impurity[i] holds the impurity (i.e., the value of the splitting\n",
      " |      criterion) at node i.\n",
      " |  \n",
      " |  n_node_samples : array of int, shape [node_count]\n",
      " |      n_node_samples[i] holds the number of training samples reaching node i.\n",
      " |  \n",
      " |  weighted_n_node_samples : array of int, shape [node_count]\n",
      " |      weighted_n_node_samples[i] holds the weighted number of training samples\n",
      " |      reaching node i.\n",
      " |  \n",
      " |  Methods defined here:\n",
      " |  \n",
      " |  __getstate__(...)\n",
      " |      Getstate re-implementation, for pickling.\n",
      " |  \n",
      " |  __reduce__(...)\n",
      " |      Reduce re-implementation, for pickling.\n",
      " |  \n",
      " |  __setstate__(...)\n",
      " |      Setstate re-implementation, for unpickling.\n",
      " |  \n",
      " |  apply(...)\n",
      " |      Finds the terminal region (=leaf node) for each sample in X.\n",
      " |  \n",
      " |  compute_feature_importances(...)\n",
      " |      Computes the importance of each feature (aka variable).\n",
      " |  \n",
      " |  compute_partial_dependence(...)\n",
      " |      Partial dependence of the response on the ``target_feature`` set.\n",
      " |      \n",
      " |      For each sample in ``X`` a tree traversal is performed.\n",
      " |      Each traversal starts from the root with weight 1.0.\n",
      " |      \n",
      " |      At each non-leaf node that splits on a target feature, either\n",
      " |      the left child or the right child is visited based on the feature\n",
      " |      value of the current sample, and the weight is not modified.\n",
      " |      At each non-leaf node that splits on a complementary feature,\n",
      " |      both children are visited and the weight is multiplied by the fraction\n",
      " |      of training samples which went to each child.\n",
      " |      \n",
      " |      At each leaf, the value of the node is multiplied by the current\n",
      " |      weight (weights sum to 1 for all visited terminal nodes).\n",
      " |      \n",
      " |      Parameters\n",
      " |      ----------\n",
      " |      X : view on 2d ndarray, shape (n_samples, n_target_features)\n",
      " |          The grid points on which the partial dependence should be\n",
      " |          evaluated.\n",
      " |      target_features : view on 1d ndarray, shape (n_target_features)\n",
      " |          The set of target features for which the partial dependence\n",
      " |          should be evaluated.\n",
      " |      out : view on 1d ndarray, shape (n_samples)\n",
      " |          The value of the partial dependence function on each grid\n",
      " |          point.\n",
      " |  \n",
      " |  decision_path(...)\n",
      " |      Finds the decision path (=node) for each sample in X.\n",
      " |  \n",
      " |  predict(...)\n",
      " |      Predict target for X.\n",
      " |  \n",
      " |  ----------------------------------------------------------------------\n",
      " |  Static methods defined here:\n",
      " |  \n",
      " |  __new__(*args, **kwargs) from builtins.type\n",
      " |      Create and return a new object.  See help(type) for accurate signature.\n",
      " |  \n",
      " |  ----------------------------------------------------------------------\n",
      " |  Data descriptors defined here:\n",
      " |  \n",
      " |  capacity\n",
      " |  \n",
      " |  children_left\n",
      " |  \n",
      " |  children_right\n",
      " |  \n",
      " |  feature\n",
      " |  \n",
      " |  impurity\n",
      " |  \n",
      " |  max_depth\n",
      " |  \n",
      " |  max_n_classes\n",
      " |  \n",
      " |  n_classes\n",
      " |  \n",
      " |  n_features\n",
      " |  \n",
      " |  n_leaves\n",
      " |  \n",
      " |  n_node_samples\n",
      " |  \n",
      " |  n_outputs\n",
      " |  \n",
      " |  node_count\n",
      " |  \n",
      " |  threshold\n",
      " |  \n",
      " |  value\n",
      " |  \n",
      " |  weighted_n_node_samples\n",
      " |  \n",
      " |  ----------------------------------------------------------------------\n",
      " |  Data and other attributes defined here:\n",
      " |  \n",
      " |  __pyx_vtable__ = <capsule object NULL>\n",
      "\n"
     ]
    }
   ],
   "source": [
    "help(Tree)"
   ]
  },
  {
   "cell_type": "markdown",
   "metadata": {},
   "source": [
    "- 使用网格搜索在随机森林上进行调参"
   ]
  },
  {
   "cell_type": "markdown",
   "metadata": {},
   "source": [
    "|影响力|参数|\n",
    "|:-:|:-:|\n",
    "|⭐⭐⭐⭐⭐<br>几乎总是具有巨大影响力|n_estimators（整体学习能力）<br>max_depth（粗剪枝）<br>max_features（随机性）<br>|\n",
    "|⭐⭐⭐⭐<br>大部分时候具有影响力|max_samples（随机性）<br>class_weight（样本均衡）|\n",
    "|⭐⭐<br>可能有大影响力<br>大部分时候影响力不明显|min_samples_split（精剪枝）<br>min_impurity_decrease（精剪枝）<br>max_leaf_nodes（精剪枝）<br>criterion（分枝敏感度）|\n",
    "|⭐<br>当数据量足够大时，几乎无影响|random_state<br>ccp_alpha（结构风险）|"
   ]
  },
  {
   "cell_type": "markdown",
   "metadata": {},
   "source": [
    "现在模型正处于过拟合的状态，需要抗过拟合，且整体数据量不是非常多，随机抽样的比例不宜减小，因此我们挑选以下五个参数进行搜索：`n_estimators`，`max_depth`，`max_features`，`min_impurity_decrease`，`criterion`。"
   ]
  },
  {
   "cell_type": "code",
   "execution_count": 19,
   "metadata": {},
   "outputs": [],
   "source": [
    "import numpy as np\n",
    "import pandas as pd\n",
    "import sklearn\n",
    "import matplotlib as mlp\n",
    "import matplotlib.pyplot as plt\n",
    "import time #计时模块time\n",
    "from sklearn.ensemble import RandomForestRegressor as RFR\n",
    "from sklearn.model_selection import cross_validate, KFold, GridSearchCV"
   ]
  },
  {
   "cell_type": "code",
   "execution_count": 2,
   "metadata": {},
   "outputs": [],
   "source": [
    "def RMSE(cvresult,key):\n",
    "    return (abs(cvresult[key])**0.5).mean()"
   ]
  },
  {
   "cell_type": "code",
   "execution_count": 3,
   "metadata": {},
   "outputs": [],
   "source": [
    "data = pd.read_csv(r\"D:\\Pythonwork\\2021ML\\PART 2 Ensembles\\datasets\\House Price\\train_encode.csv\",index_col=0)"
   ]
  },
  {
   "cell_type": "code",
   "execution_count": 4,
   "metadata": {},
   "outputs": [],
   "source": [
    "X = data.iloc[:,:-1]\n",
    "y = data.iloc[:,-1]"
   ]
  },
  {
   "cell_type": "code",
   "execution_count": 67,
   "metadata": {},
   "outputs": [
    {
     "data": {
      "text/plain": [
       "(1460, 80)"
      ]
     },
     "execution_count": 67,
     "metadata": {},
     "output_type": "execute_result"
    }
   ],
   "source": [
    "X.shape"
   ]
  },
  {
   "cell_type": "code",
   "execution_count": 68,
   "metadata": {},
   "outputs": [
    {
     "data": {
      "text/html": [
       "<div>\n",
       "<style scoped>\n",
       "    .dataframe tbody tr th:only-of-type {\n",
       "        vertical-align: middle;\n",
       "    }\n",
       "\n",
       "    .dataframe tbody tr th {\n",
       "        vertical-align: top;\n",
       "    }\n",
       "\n",
       "    .dataframe thead th {\n",
       "        text-align: right;\n",
       "    }\n",
       "</style>\n",
       "<table border=\"1\" class=\"dataframe\">\n",
       "  <thead>\n",
       "    <tr style=\"text-align: right;\">\n",
       "      <th></th>\n",
       "      <th>Id</th>\n",
       "      <th>住宅类型</th>\n",
       "      <th>住宅区域</th>\n",
       "      <th>街道接触面积(英尺)</th>\n",
       "      <th>住宅面积</th>\n",
       "      <th>街道路面状况</th>\n",
       "      <th>巷子路面状况</th>\n",
       "      <th>住宅形状(大概)</th>\n",
       "      <th>住宅现状</th>\n",
       "      <th>水电气</th>\n",
       "      <th>...</th>\n",
       "      <th>半开放式门廊面积</th>\n",
       "      <th>泳池面积</th>\n",
       "      <th>泳池质量</th>\n",
       "      <th>篱笆质量</th>\n",
       "      <th>其他配置</th>\n",
       "      <th>其他配置的价值</th>\n",
       "      <th>销售月份</th>\n",
       "      <th>销售年份</th>\n",
       "      <th>销售类型</th>\n",
       "      <th>销售状态</th>\n",
       "    </tr>\n",
       "  </thead>\n",
       "  <tbody>\n",
       "    <tr>\n",
       "      <th>0</th>\n",
       "      <td>0.0</td>\n",
       "      <td>5.0</td>\n",
       "      <td>3.0</td>\n",
       "      <td>36.0</td>\n",
       "      <td>327.0</td>\n",
       "      <td>1.0</td>\n",
       "      <td>0.0</td>\n",
       "      <td>3.0</td>\n",
       "      <td>3.0</td>\n",
       "      <td>0.0</td>\n",
       "      <td>...</td>\n",
       "      <td>0.0</td>\n",
       "      <td>0.0</td>\n",
       "      <td>0.0</td>\n",
       "      <td>0.0</td>\n",
       "      <td>0.0</td>\n",
       "      <td>0.0</td>\n",
       "      <td>1.0</td>\n",
       "      <td>2.0</td>\n",
       "      <td>8.0</td>\n",
       "      <td>4.0</td>\n",
       "    </tr>\n",
       "    <tr>\n",
       "      <th>1</th>\n",
       "      <td>1.0</td>\n",
       "      <td>0.0</td>\n",
       "      <td>3.0</td>\n",
       "      <td>51.0</td>\n",
       "      <td>498.0</td>\n",
       "      <td>1.0</td>\n",
       "      <td>0.0</td>\n",
       "      <td>3.0</td>\n",
       "      <td>3.0</td>\n",
       "      <td>0.0</td>\n",
       "      <td>...</td>\n",
       "      <td>0.0</td>\n",
       "      <td>0.0</td>\n",
       "      <td>0.0</td>\n",
       "      <td>0.0</td>\n",
       "      <td>0.0</td>\n",
       "      <td>0.0</td>\n",
       "      <td>4.0</td>\n",
       "      <td>1.0</td>\n",
       "      <td>8.0</td>\n",
       "      <td>4.0</td>\n",
       "    </tr>\n",
       "    <tr>\n",
       "      <th>2</th>\n",
       "      <td>2.0</td>\n",
       "      <td>5.0</td>\n",
       "      <td>3.0</td>\n",
       "      <td>39.0</td>\n",
       "      <td>702.0</td>\n",
       "      <td>1.0</td>\n",
       "      <td>0.0</td>\n",
       "      <td>0.0</td>\n",
       "      <td>3.0</td>\n",
       "      <td>0.0</td>\n",
       "      <td>...</td>\n",
       "      <td>0.0</td>\n",
       "      <td>0.0</td>\n",
       "      <td>0.0</td>\n",
       "      <td>0.0</td>\n",
       "      <td>0.0</td>\n",
       "      <td>0.0</td>\n",
       "      <td>8.0</td>\n",
       "      <td>2.0</td>\n",
       "      <td>8.0</td>\n",
       "      <td>4.0</td>\n",
       "    </tr>\n",
       "    <tr>\n",
       "      <th>3</th>\n",
       "      <td>3.0</td>\n",
       "      <td>6.0</td>\n",
       "      <td>3.0</td>\n",
       "      <td>31.0</td>\n",
       "      <td>489.0</td>\n",
       "      <td>1.0</td>\n",
       "      <td>0.0</td>\n",
       "      <td>0.0</td>\n",
       "      <td>3.0</td>\n",
       "      <td>0.0</td>\n",
       "      <td>...</td>\n",
       "      <td>0.0</td>\n",
       "      <td>0.0</td>\n",
       "      <td>0.0</td>\n",
       "      <td>0.0</td>\n",
       "      <td>0.0</td>\n",
       "      <td>0.0</td>\n",
       "      <td>1.0</td>\n",
       "      <td>0.0</td>\n",
       "      <td>8.0</td>\n",
       "      <td>0.0</td>\n",
       "    </tr>\n",
       "    <tr>\n",
       "      <th>4</th>\n",
       "      <td>4.0</td>\n",
       "      <td>5.0</td>\n",
       "      <td>3.0</td>\n",
       "      <td>55.0</td>\n",
       "      <td>925.0</td>\n",
       "      <td>1.0</td>\n",
       "      <td>0.0</td>\n",
       "      <td>0.0</td>\n",
       "      <td>3.0</td>\n",
       "      <td>0.0</td>\n",
       "      <td>...</td>\n",
       "      <td>0.0</td>\n",
       "      <td>0.0</td>\n",
       "      <td>0.0</td>\n",
       "      <td>0.0</td>\n",
       "      <td>0.0</td>\n",
       "      <td>0.0</td>\n",
       "      <td>11.0</td>\n",
       "      <td>2.0</td>\n",
       "      <td>8.0</td>\n",
       "      <td>4.0</td>\n",
       "    </tr>\n",
       "  </tbody>\n",
       "</table>\n",
       "<p>5 rows × 80 columns</p>\n",
       "</div>"
      ],
      "text/plain": [
       "    Id  住宅类型  住宅区域  街道接触面积(英尺)   住宅面积  街道路面状况  巷子路面状况  住宅形状(大概)  住宅现状  水电气  \\\n",
       "0  0.0   5.0   3.0        36.0  327.0     1.0     0.0       3.0   3.0  0.0   \n",
       "1  1.0   0.0   3.0        51.0  498.0     1.0     0.0       3.0   3.0  0.0   \n",
       "2  2.0   5.0   3.0        39.0  702.0     1.0     0.0       0.0   3.0  0.0   \n",
       "3  3.0   6.0   3.0        31.0  489.0     1.0     0.0       0.0   3.0  0.0   \n",
       "4  4.0   5.0   3.0        55.0  925.0     1.0     0.0       0.0   3.0  0.0   \n",
       "\n",
       "   ...  半开放式门廊面积  泳池面积  泳池质量  篱笆质量  其他配置  其他配置的价值  销售月份  销售年份  销售类型  销售状态  \n",
       "0  ...       0.0   0.0   0.0   0.0   0.0      0.0   1.0   2.0   8.0   4.0  \n",
       "1  ...       0.0   0.0   0.0   0.0   0.0      0.0   4.0   1.0   8.0   4.0  \n",
       "2  ...       0.0   0.0   0.0   0.0   0.0      0.0   8.0   2.0   8.0   4.0  \n",
       "3  ...       0.0   0.0   0.0   0.0   0.0      0.0   1.0   0.0   8.0   0.0  \n",
       "4  ...       0.0   0.0   0.0   0.0   0.0      0.0  11.0   2.0   8.0   4.0  \n",
       "\n",
       "[5 rows x 80 columns]"
      ]
     },
     "execution_count": 68,
     "metadata": {},
     "output_type": "execute_result"
    }
   ],
   "source": [
    "X.head()"
   ]
  },
  {
   "cell_type": "markdown",
   "metadata": {},
   "source": [
    "> Step 1.建立benchmark"
   ]
  },
  {
   "cell_type": "code",
   "execution_count": 21,
   "metadata": {},
   "outputs": [],
   "source": [
    "reg = RFR(random_state=1412)\n",
    "cv = KFold(n_splits=5,shuffle=True,random_state=1412)"
   ]
  },
  {
   "cell_type": "code",
   "execution_count": 22,
   "metadata": {},
   "outputs": [
    {
     "name": "stderr",
     "output_type": "stream",
     "text": [
      "[Parallel(n_jobs=-1)]: Using backend LokyBackend with 16 concurrent workers.\n",
      "[Parallel(n_jobs=-1)]: Done   5 out of   5 | elapsed:    1.1s finished\n"
     ]
    }
   ],
   "source": [
    "result_pre_adjusted = cross_validate(reg,X,y,cv=cv,scoring=\"neg_mean_squared_error\"\n",
    "                          ,return_train_score=True\n",
    "                          ,verbose=True\n",
    "                          ,n_jobs=-1)"
   ]
  },
  {
   "cell_type": "code",
   "execution_count": 23,
   "metadata": {},
   "outputs": [
    {
     "data": {
      "text/plain": [
       "11177.272008319653"
      ]
     },
     "execution_count": 23,
     "metadata": {},
     "output_type": "execute_result"
    }
   ],
   "source": [
    "RMSE(result_pre_adjusted,\"train_score\")"
   ]
  },
  {
   "cell_type": "code",
   "execution_count": 24,
   "metadata": {},
   "outputs": [
    {
     "data": {
      "text/plain": [
       "30571.26665524217"
      ]
     },
     "execution_count": 24,
     "metadata": {},
     "output_type": "execute_result"
    }
   ],
   "source": [
    "RMSE(result_pre_adjusted,\"test_score\")"
   ]
  },
  {
   "cell_type": "markdown",
   "metadata": {},
   "source": [
    "> Step 2.创建参数空间"
   ]
  },
  {
   "cell_type": "code",
   "execution_count": 5,
   "metadata": {},
   "outputs": [],
   "source": [
    "param_grid_simple = {\"criterion\": [\"squared_error\",\"poisson\"]\n",
    "                     , 'n_estimators': [*range(20,100,5)]\n",
    "                     , 'max_depth': [*range(10,25,2)]\n",
    "                     , \"max_features\": [\"log2\",\"sqrt\",16,32,64,\"auto\"]\n",
    "                     , \"min_impurity_decrease\": [*np.arange(0,5,10)]\n",
    "                    }"
   ]
  },
  {
   "cell_type": "markdown",
   "metadata": {},
   "source": [
    "> Step 3.实例化用于搜索的评估器、交叉验证评估器与网格搜索评估器"
   ]
  },
  {
   "cell_type": "code",
   "execution_count": 6,
   "metadata": {},
   "outputs": [],
   "source": [
    "#n_jobs=4/8,verbose=True\n",
    "reg = RFR(random_state=1412,verbose=True,n_jobs=-1)\n",
    "cv = KFold(n_splits=5,shuffle=True,random_state=1412)\n",
    "search = GridSearchCV(estimator=reg\n",
    "                     ,param_grid=param_grid_simple\n",
    "                     ,scoring = \"neg_mean_squared_error\"\n",
    "                     ,verbose = True\n",
    "                     ,cv = cv\n",
    "                     ,n_jobs=-1)"
   ]
  },
  {
   "cell_type": "markdown",
   "metadata": {},
   "source": [
    "> Step 4.训练网格搜索评估器"
   ]
  },
  {
   "cell_type": "code",
   "execution_count": 7,
   "metadata": {},
   "outputs": [
    {
     "name": "stdout",
     "output_type": "stream",
     "text": [
      "Fitting 5 folds for each of 1536 candidates, totalling 7680 fits\n",
      "381.6039867401123\n"
     ]
    },
    {
     "name": "stderr",
     "output_type": "stream",
     "text": [
      "[Parallel(n_jobs=-1)]: Using backend ThreadingBackend with 16 concurrent workers.\n",
      "[Parallel(n_jobs=-1)]: Done  18 tasks      | elapsed:    0.0s\n",
      "[Parallel(n_jobs=-1)]: Done  85 out of  85 | elapsed:    0.0s finished\n"
     ]
    }
   ],
   "source": [
    "#=====【TIME WARNING: 7mins】=====#\n",
    "start = time.time()\n",
    "search.fit(X,y)\n",
    "print(time.time() - start)"
   ]
  },
  {
   "cell_type": "markdown",
   "metadata": {},
   "source": [
    "> Step 5.查看结果"
   ]
  },
  {
   "cell_type": "code",
   "execution_count": 10,
   "metadata": {},
   "outputs": [
    {
     "data": {
      "text/plain": [
       "RandomForestRegressor(max_depth=23, max_features=16, min_impurity_decrease=0,\n",
       "                      n_estimators=85, n_jobs=-1, random_state=1412,\n",
       "                      verbose=True)"
      ]
     },
     "execution_count": 10,
     "metadata": {},
     "output_type": "execute_result"
    }
   ],
   "source": [
    "search.best_estimator_"
   ]
  },
  {
   "cell_type": "code",
   "execution_count": 9,
   "metadata": {},
   "outputs": [
    {
     "data": {
      "text/plain": [
       "29179.698261599166"
      ]
     },
     "execution_count": 9,
     "metadata": {},
     "output_type": "execute_result"
    }
   ],
   "source": [
    "abs(search.best_score_)**0.5"
   ]
  },
  {
   "cell_type": "code",
   "execution_count": 11,
   "metadata": {},
   "outputs": [],
   "source": [
    "ad_reg = RFR(n_estimators=85, max_depth=23, max_features=16, random_state=1412)"
   ]
  },
  {
   "cell_type": "code",
   "execution_count": 15,
   "metadata": {},
   "outputs": [
    {
     "name": "stderr",
     "output_type": "stream",
     "text": [
      "[Parallel(n_jobs=-1)]: Using backend LokyBackend with 16 concurrent workers.\n",
      "[Parallel(n_jobs=-1)]: Done   5 out of   5 | elapsed:    0.2s finished\n"
     ]
    }
   ],
   "source": [
    "cv = KFold(n_splits=5,shuffle=True,random_state=1412)\n",
    "result_post_adjusted = cross_validate(ad_reg,X,y,cv=cv,scoring=\"neg_mean_squared_error\"\n",
    "                          ,return_train_score=True\n",
    "                          ,verbose=True\n",
    "                          ,n_jobs=-1)"
   ]
  },
  {
   "cell_type": "code",
   "execution_count": 16,
   "metadata": {},
   "outputs": [
    {
     "data": {
      "text/plain": [
       "11000.81099038192"
      ]
     },
     "execution_count": 16,
     "metadata": {},
     "output_type": "execute_result"
    }
   ],
   "source": [
    "RMSE(result_post_adjusted,\"train_score\")"
   ]
  },
  {
   "cell_type": "code",
   "execution_count": 17,
   "metadata": {},
   "outputs": [
    {
     "data": {
      "text/plain": [
       "28572.070208366855"
      ]
     },
     "execution_count": 17,
     "metadata": {},
     "output_type": "execute_result"
    }
   ],
   "source": [
    "RMSE(result_post_adjusted,\"test_score\")"
   ]
  },
  {
   "cell_type": "code",
   "execution_count": 26,
   "metadata": {},
   "outputs": [
    {
     "data": {
      "image/png": "[encoded data removed]",
      "text/plain": [
       "<Figure size 640x480 with 1 Axes>"
      ]
     },
     "metadata": {
      "needs_background": "light"
     },
     "output_type": "display_data"
    }
   ],
   "source": [
    "#默认值下随机森林的RMSE\n",
    "xaxis = range(1,6)\n",
    "plt.figure(figsize=(8,6),dpi=80)\n",
    "#RMSE\n",
    "plt.plot(xaxis,abs(result_pre_adjusted[\"train_score\"])**0.5,color=\"green\",label = \"RF_pre_ad_Train\")\n",
    "plt.plot(xaxis,abs(result_pre_adjusted[\"test_score\"])**0.5,color=\"green\",linestyle=\"--\",label = \"RF_pre_ad_Test\")\n",
    "plt.plot(xaxis,abs(result_post_adjusted[\"train_score\"])**0.5,color=\"orange\",label = \"RF_post_ad_Train\")\n",
    "plt.plot(xaxis,abs(result_post_adjusted[\"test_score\"])**0.5,color=\"orange\",linestyle=\"--\",label = \"RF_post_ad_Test\")\n",
    "plt.xticks([1,2,3,4,5])\n",
    "plt.xlabel(\"CVcounts\",fontsize=16)\n",
    "plt.ylabel(\"RMSE\",fontsize=16)\n",
    "plt.legend()\n",
    "plt.show()"
   ]
  },
  {
   "cell_type": "markdown",
   "metadata": {},
   "source": [
    "不难发现，网格搜索之后的模型过拟合程度减轻，且在训练集与测试集上的结果都有提高，可以说从根本上提升了模型的基础能力。我们还可以根据网格的结果继续尝试进行其他调整，来进一步降低模型在测试集上的RMSE。"
   ]
  },
  {
   "cell_type": "markdown",
   "metadata": {},
   "source": [
    "  "
   ]
  },
  {
   "cell_type": "markdown",
   "metadata": {},
   "source": [
    "# 五 随机森林在巨量数据上的增量学习"
   ]
  },
  {
   "cell_type": "markdown",
   "metadata": {},
   "source": [
    "集成学习是工业领域中应用最广泛的机器学习算法。实际工业环境下的数据量往往十分巨大，一个训练好的集成算法的复杂程度与训练数据量高度相关，因此企业在应用机器学习时通常会提供强大的计算资源作为支持，也因此当代的大部分集成算法都是支持GPU运算的（相对的，如果你发现一个算法在任何机器学习库中，都没有接入GPU运算的选项，这可能说明该算法在工业应用中基本不会被使用）。\n",
    "\n",
    "sklearn作为早期开源的机器学习算法库，难以预料到如今人工智能技术走进千家万户的应用状况，因此并未开放接入GPU进行运算的接口，即sklearn中的所有算法都不支持接入更多计算资源。因此当我们想要使用随机森林在巨量数据上进行运算时，很可能会遭遇计算资源短缺的情况。幸运的是，我们有两种方式解决这个问题：\n",
    "\n",
    "- 使用其他可以接入GPU的机器学习算法库实现随机森林，比如xgboost。\n",
    "- 继续使用sklearn进行训练，但使用增量学习（incremental learning）。\n",
    "\n",
    "增量学习是机器学习中非常常见的方法，在有监督和无监督学习当中都普遍存在。**增量学习允许算法不断接入新数据来拓展当前的模型，即允许巨量数据被分成若干个子集，分别输入模型进行训练**。"
   ]
  },
  {
   "cell_type": "markdown",
   "metadata": {},
   "source": [
    "## 1 普通学习 vs 增量学习"
   ]
  },
  {
   "cell_type": "markdown",
   "metadata": {},
   "source": [
    "- 普通学习"
   ]
  },
  {
   "cell_type": "markdown",
   "metadata": {},
   "source": [
    "通常来说，当一个模型经过一次训练之后，如果再使用新数据对模型进行训练，原始数据训练出的模型会被替代掉。举个例子，我们原本的数据集X与y是kaggle房价数据集，结构为："
   ]
  },
  {
   "cell_type": "code",
   "execution_count": 73,
   "metadata": {},
   "outputs": [
    {
     "data": {
      "text/plain": [
       "(1460, 80)"
      ]
     },
     "execution_count": 73,
     "metadata": {},
     "output_type": "execute_result"
    }
   ],
   "source": [
    "X.shape"
   ]
  },
  {
   "cell_type": "code",
   "execution_count": 53,
   "metadata": {},
   "outputs": [
    {
     "data": {
      "text/plain": [
       "(1460,)"
      ]
     },
     "execution_count": 53,
     "metadata": {},
     "output_type": "execute_result"
    }
   ],
   "source": [
    "y.shape"
   ]
  },
  {
   "cell_type": "markdown",
   "metadata": {},
   "source": [
    "现在，我们导入sklearn中非常常用的另一个数据集，加利福尼亚房价数据集："
   ]
  },
  {
   "cell_type": "code",
   "execution_count": 77,
   "metadata": {},
   "outputs": [],
   "source": [
    "from sklearn.datasets import fetch_california_housing\n",
    "from sklearn.metrics import mean_squared_error"
   ]
  },
  {
   "cell_type": "code",
   "execution_count": 78,
   "metadata": {},
   "outputs": [],
   "source": [
    "X_fc = fetch_california_housing().data\n",
    "y_fc = fetch_california_housing().target"
   ]
  },
  {
   "cell_type": "code",
   "execution_count": 82,
   "metadata": {},
   "outputs": [
    {
     "data": {
      "text/plain": [
       "(20640, 8)"
      ]
     },
     "execution_count": 82,
     "metadata": {},
     "output_type": "execute_result"
    }
   ],
   "source": [
    "X_fc.shape #可以看到，加利福尼亚房价数据集的特征量为8"
   ]
  },
  {
   "cell_type": "markdown",
   "metadata": {},
   "source": [
    "建模，并在X_,y_基础上进行训练："
   ]
  },
  {
   "cell_type": "code",
   "execution_count": 83,
   "metadata": {},
   "outputs": [],
   "source": [
    "model = RFR(n_estimators=3, warm_start=False) #不支持增量学习的"
   ]
  },
  {
   "cell_type": "code",
   "execution_count": 84,
   "metadata": {},
   "outputs": [],
   "source": [
    "model1 = model.fit(X_fc,y_fc)"
   ]
  },
  {
   "cell_type": "code",
   "execution_count": 85,
   "metadata": {},
   "outputs": [
    {
     "data": {
      "text/plain": [
       "0.30123985583215596"
      ]
     },
     "execution_count": 85,
     "metadata": {},
     "output_type": "execute_result"
    }
   ],
   "source": [
    "#RMSE\n",
    "(mean_squared_error(y_fc,model1.predict(X_fc)))**0.5"
   ]
  },
  {
   "cell_type": "code",
   "execution_count": 86,
   "metadata": {},
   "outputs": [
    {
     "data": {
      "text/plain": [
       "[DecisionTreeRegressor(max_features='auto', random_state=1785210460),\n",
       " DecisionTreeRegressor(max_features='auto', random_state=121562514),\n",
       " DecisionTreeRegressor(max_features='auto', random_state=1271073231)]"
      ]
     },
     "execution_count": 86,
     "metadata": {},
     "output_type": "execute_result"
    }
   ],
   "source": [
    "#使用.estimators_查看森林中所有树的情况，可以看到每一棵树的随机数种子\n",
    "model1.estimators_"
   ]
  },
  {
   "cell_type": "markdown",
   "metadata": {},
   "source": [
    "此时，如果让model1继续在kaggle房价数据集X,y上进行训练："
   ]
  },
  {
   "cell_type": "code",
   "execution_count": 87,
   "metadata": {},
   "outputs": [],
   "source": [
    "model1 = model1.fit(X.iloc[:,:8],y)\n",
    "#注意，X有80个特征，X_fc只有8个特征，输入同一个模型的数据必须结构一致"
   ]
  },
  {
   "cell_type": "code",
   "execution_count": 88,
   "metadata": {},
   "outputs": [
    {
     "data": {
      "text/plain": [
       "[DecisionTreeRegressor(max_features='auto', random_state=349555903),\n",
       " DecisionTreeRegressor(max_features='auto', random_state=1253222501),\n",
       " DecisionTreeRegressor(max_features='auto', random_state=2145441582)]"
      ]
     },
     "execution_count": 88,
     "metadata": {},
     "output_type": "execute_result"
    }
   ],
   "source": [
    "model1.estimators_ #你发现了吗？model1中原始的树消失了，新的树替代了原始的树"
   ]
  },
  {
   "cell_type": "markdown",
   "metadata": {},
   "source": [
    "再让model1对加利福尼亚房价数据集进行训练，会发生什么呢？别忘了model1之前训练过加利福尼亚房价数据集："
   ]
  },
  {
   "cell_type": "code",
   "execution_count": 90,
   "metadata": {},
   "outputs": [
    {
     "name": "stderr",
     "output_type": "stream",
     "text": [
      "D:\\ProgramData\\Anaconda3\\lib\\site-packages\\sklearn\\base.py:445: UserWarning: X does not have valid feature names, but RandomForestRegressor was fitted with feature names\n",
      "  warnings.warn(\n"
     ]
    },
    {
     "data": {
      "text/plain": [
       "188517.0427626784"
      ]
     },
     "execution_count": 90,
     "metadata": {},
     "output_type": "execute_result"
    }
   ],
   "source": [
    "#RMSE\n",
    "(mean_squared_error(y_fc,model1.predict(X_fc)))**0.5"
   ]
  },
  {
   "cell_type": "markdown",
   "metadata": {},
   "source": [
    "RMSE异常巨大，模型现在已经不具备任何预测y_fc的能力了。非常明显，model1中原始的树消失了，基于kaggle数据集训练的树**覆盖**了原始的树，因此model1不再对本来见过的加利福尼亚房价数据报有记忆。\n",
    "\n",
    "sklearn的这一覆盖规则是交叉验证可以进行的基础，正因为每次训练都不会受到上次训练的影响，我们才可以使用模型进行交叉验证，否则就会存在数据泄露的情况。但在增量学习中，原始数据训练的树不会被替代掉，模型会一致记得之前训练过的数据，我们来看看详细情况："
   ]
  },
  {
   "cell_type": "markdown",
   "metadata": {},
   "source": [
    "- 增量学习"
   ]
  },
  {
   "cell_type": "markdown",
   "metadata": {},
   "source": [
    "我们还是可以使用X,y以及X_fc,y_fc作为例子，这一次，我们让warm_start参数取值为True，允许随机森林进行增量学习："
   ]
  },
  {
   "cell_type": "code",
   "execution_count": 91,
   "metadata": {},
   "outputs": [],
   "source": [
    "model = RFR(n_estimators=3, warm_start=True) #支持增量学习"
   ]
  },
  {
   "cell_type": "code",
   "execution_count": 92,
   "metadata": {},
   "outputs": [],
   "source": [
    "model2 = model.fit(X_fc,y_fc)"
   ]
  },
  {
   "cell_type": "code",
   "execution_count": 93,
   "metadata": {},
   "outputs": [
    {
     "data": {
      "text/plain": [
       "0.30099931130927154"
      ]
     },
     "execution_count": 93,
     "metadata": {},
     "output_type": "execute_result"
    }
   ],
   "source": [
    "(mean_squared_error(y_fc,model2.predict(X_fc)))**0.5"
   ]
  },
  {
   "cell_type": "code",
   "execution_count": 94,
   "metadata": {},
   "outputs": [
    {
     "data": {
      "text/plain": [
       "[DecisionTreeRegressor(max_features='auto', random_state=338470642),\n",
       " DecisionTreeRegressor(max_features='auto', random_state=1545812511),\n",
       " DecisionTreeRegressor(max_features='auto', random_state=740599321)]"
      ]
     },
     "execution_count": 94,
     "metadata": {},
     "output_type": "execute_result"
    }
   ],
   "source": [
    "model2.estimators_"
   ]
  },
  {
   "cell_type": "markdown",
   "metadata": {},
   "source": [
    "让X和y在model2上继续进行训练："
   ]
  },
  {
   "cell_type": "code",
   "execution_count": 95,
   "metadata": {},
   "outputs": [
    {
     "name": "stderr",
     "output_type": "stream",
     "text": [
      "D:\\ProgramData\\Anaconda3\\lib\\site-packages\\sklearn\\ensemble\\_forest.py:421: UserWarning: Warm-start fitting without increasing n_estimators does not fit new trees.\n",
      "  warn(\n"
     ]
    }
   ],
   "source": [
    "model2 = model2.fit(X.iloc[:,:8],y)"
   ]
  },
  {
   "cell_type": "code",
   "execution_count": 96,
   "metadata": {},
   "outputs": [
    {
     "name": "stderr",
     "output_type": "stream",
     "text": [
      "D:\\ProgramData\\Anaconda3\\lib\\site-packages\\sklearn\\base.py:445: UserWarning: X does not have valid feature names, but RandomForestRegressor was fitted with feature names\n",
      "  warnings.warn(\n"
     ]
    },
    {
     "data": {
      "text/plain": [
       "0.30099931130927154"
      ]
     },
     "execution_count": 96,
     "metadata": {},
     "output_type": "execute_result"
    }
   ],
   "source": [
    "(mean_squared_error(y_fc,model2.predict(X_fc)))**0.5"
   ]
  },
  {
   "cell_type": "markdown",
   "metadata": {},
   "source": [
    "你发现了吗？即便已经对X和y进行了训练，但是model2中对加利福尼亚房价数据集的记忆还在，因此在对X_fc与y_fc进行预测时，依然能够取得不错的分数。"
   ]
  },
  {
   "cell_type": "code",
   "execution_count": 97,
   "metadata": {},
   "outputs": [
    {
     "data": {
      "text/plain": [
       "[DecisionTreeRegressor(max_features='auto', random_state=338470642),\n",
       " DecisionTreeRegressor(max_features='auto', random_state=1545812511),\n",
       " DecisionTreeRegressor(max_features='auto', random_state=740599321)]"
      ]
     },
     "execution_count": 97,
     "metadata": {},
     "output_type": "execute_result"
    }
   ],
   "source": [
    "model2.estimators_ #在增量学习当中，树没有发生变化"
   ]
  },
  {
   "cell_type": "markdown",
   "metadata": {},
   "source": [
    "所以在增量学习当中，已经训练过的结果会被保留。对于随机森林这样的Bagging模型来说，这意味着之前的数据训练出的树会被保留，新数据会训练出新的树，新旧树互不影响。对于逻辑回归、神经网络这样不断迭代以求解权重$w$的算法来说，新数据训练时w的起点是之前的数据训练完毕之后的w。"
   ]
  },
  {
   "cell_type": "markdown",
   "metadata": {},
   "source": [
    "不过，这里存在一个问题：虽然原来的树没有变化，但增量学习看起来并没有增加新的树——事实上，对于随机森林而言，我们需要手动增加新的树："
   ]
  },
  {
   "cell_type": "code",
   "execution_count": null,
   "metadata": {},
   "outputs": [],
   "source": [
    "model2.estimators_ #属性，反映训练完毕的模型的一些特点、一些客观存在的性质"
   ]
  },
  {
   "cell_type": "code",
   "execution_count": 98,
   "metadata": {},
   "outputs": [],
   "source": [
    "#调用模型的参数，可以通过这种方式修改模型的参数，而不需要重新实例化模型\n",
    "model2.n_estimators += 2 #增加2棵树，用于增量学习"
   ]
  },
  {
   "cell_type": "code",
   "execution_count": 99,
   "metadata": {},
   "outputs": [
    {
     "data": {
      "text/plain": [
       "RandomForestRegressor(n_estimators=5, warm_start=True)"
      ]
     },
     "execution_count": 99,
     "metadata": {},
     "output_type": "execute_result"
    }
   ],
   "source": [
    "model2"
   ]
  },
  {
   "cell_type": "code",
   "execution_count": 100,
   "metadata": {},
   "outputs": [
    {
     "data": {
      "text/plain": [
       "RandomForestRegressor(n_estimators=5, warm_start=True)"
      ]
     },
     "execution_count": 100,
     "metadata": {},
     "output_type": "execute_result"
    }
   ],
   "source": [
    "model2.fit(X.iloc[:,:8],y)"
   ]
  },
  {
   "cell_type": "code",
   "execution_count": 101,
   "metadata": {},
   "outputs": [
    {
     "data": {
      "text/plain": [
       "[DecisionTreeRegressor(max_features='auto', random_state=338470642),\n",
       " DecisionTreeRegressor(max_features='auto', random_state=1545812511),\n",
       " DecisionTreeRegressor(max_features='auto', random_state=740599321),\n",
       " DecisionTreeRegressor(max_features='auto', random_state=1633155700),\n",
       " DecisionTreeRegressor(max_features='auto', random_state=623929223)]"
      ]
     },
     "execution_count": 101,
     "metadata": {},
     "output_type": "execute_result"
    }
   ],
   "source": [
    "model2.estimators_ #原来的树还是没有变化，新增的树是基于新输入的数据进行训练的"
   ]
  },
  {
   "cell_type": "markdown",
   "metadata": {},
   "source": [
    "## 2 增量学习在Kaggle数据上的应用"
   ]
  },
  {
   "cell_type": "markdown",
   "metadata": {},
   "source": [
    "- 实际应用"
   ]
  },
  {
   "cell_type": "markdown",
   "metadata": {},
   "source": [
    "现在我们使用一个385MB的csv文件作为例子，进行巨量数据的导入和训练（当然，在实际中csv文件往往是5G以上，基本不可能使用excel打开进行简单分析或观察）。该数据是来自Kaggle的五大人格心理特质回归数据集。五大人格心理特质是心理学当中常见的人格分类法，也称为FFM模型或OCEAN模型。这种人格分类法是通过给与被调查者一些描述性格方面的句子，让被调查者选择自己符合的项目，例如：\n",
    "\n",
    "- 考试前我总是提前准备好一切，尽全力避免出错\n",
    "- 考试前我会花几天时间准备\n",
    "- 我在考试前临时抱佛脚\n",
    "- 我考试前从不准备\n",
    "- 我不在意考试，甚至不记得考试的时间\n",
    "\n",
    "你从中选择最像你的选项，和最不像你的选项，选择结果最终被用于性格分类。该数据集通过收集100w人群在大约80个问题当中的选项，得出最终性格分数和分类。训练集大约有一百万样本，测试集则有2w样本，更详细的状况可以查看：https://www.kaggle.com/tunguz/big-five-personality-test\n",
    "\n",
    "在面对大型数据时，我们采用循环模式分批读取巨大csv或数据库文件中的内容，并将数据分批进行预处理、再增量学习到一个模型当中。在我们的例子中，由于学习的重点是增量学习，因此课堂上使用的数据是经过我处理完毕、可以直接被随机森林处理的数据，在实际业务中，我们往往需要写好一个可以预处理所有数据的pipeline，然后在循环的过程中不断调用改pipeline。\n",
    "\n",
    "现在，我们在干净的数据上来看看增量学习具体的步骤吧："
   ]
  },
  {
   "cell_type": "markdown",
   "metadata": {},
   "source": [
    "1、定义训练和测试数据地址"
   ]
  },
  {
   "cell_type": "code",
   "execution_count": 102,
   "metadata": {},
   "outputs": [],
   "source": [
    "trainpath = r\"D:\\Pythonwork\\2021ML\\PART 2 Ensembles\\datasets\\Big data\\bigdata_train.csv\"\n",
    "testpath = r\"D:\\Pythonwork\\2021ML\\PART 2 Ensembles\\datasets\\Big data\\bigdata_test.csv\""
   ]
  },
  {
   "cell_type": "markdown",
   "metadata": {},
   "source": [
    "2、设法找出csv中的总数据量\n",
    "\n",
    "当我们决定使用增量学习时，数据应该是巨大到不可能直接打开查看、不可能直接训练、甚至不可能直接导入的（比如，超过20个G）。但如果我们需要对数据进行循环导入，就必须知道真实的数据量大概有多少，因此我们可以从以下途径获得无法打开的csv中的数据量：\n",
    "\n",
    "- 如果是比赛数据集，一般可以在比赛页面找到相应的说明\n",
    "- 如果是数据库数据集，则可以在数据库中进行统计\n",
    "- 如果无法找到相应的说明，可以使用deque库导入csv文件的最后几行，查看索引\n",
    "- 如果数据没有索引，就只能够靠pandas尝试找出大致的数据范围了"
   ]
  },
  {
   "cell_type": "code",
   "execution_count": 70,
   "metadata": {},
   "outputs": [],
   "source": [
    "#使用deque与StringIO辅助，导入csv文件最后的n行\n",
    "from collections import deque #deque：双向队列\n",
    "from io import StringIO"
   ]
  },
  {
   "cell_type": "code",
   "execution_count": 103,
   "metadata": {},
   "outputs": [],
   "source": [
    "with open(trainpath, 'r') as data:\n",
    "    q = deque(data, 5)"
   ]
  },
  {
   "cell_type": "code",
   "execution_count": 104,
   "metadata": {
    "collapsed": true,
    "jupyter": {
     "outputs_hidden": true
    },
    "tags": []
   },
   "outputs": [
    {
     "data": {
      "text/plain": [
       "deque(['995029,3.0,3.0,5.0,5.0,2.0,3.0,2.0,5.0,5.0,5.0,2.0,2.0,4.0,4.0,1.0,1.0,2.0,4.0,4.0,2.0,4.0,3.0,1.0,4.0,1.0,4.0,2.0,4.0,4.0,5.0,4.0,3.0,4.0,3.0,3.0,4.0,4.0,1.0,2.0,5.0,3.0,3.0,3.0,1.0,3.0,4.0,5.0,2.0,5.0,3.0,82719.0,5474.0,7131.0,27265.0,12898.0,18537.0,13712.0,9704.0,9312.0,10824.0,17332.0,25771.0,21437.0,39362.0,29041.0,16015.0,12711.0,12114.0,11141.0,10610.0,34767.0,23585.0,2453.0,23004.0,4677.0,31609.0,11498.0,24396.0,8758.0,11288.0,18892.0,31976.0,5874.0,23840.0,38838.0,13131.0,8298.0,15644.0,7292.0,8649.0,8513.0,18259.0,34832.0,3168.0,3306.0,17459.0,12079.0,9565.0,6310.0,24019.0,291658.0,666.0,469.0,37.0,1954.0,33.0,0.0,41.0,865.0,-70.6503\\n',\n",
       "       '995030,2.0,4.0,4.0,2.0,4.0,2.0,4.0,4.0,4.0,4.0,3.0,2.0,2.0,4.0,2.0,2.0,2.0,2.0,2.0,2.0,1.0,0.0,2.0,4.0,2.0,4.0,1.0,4.0,4.0,4.0,5.0,2.0,5.0,1.0,4.0,1.0,5.0,1.0,5.0,4.0,4.0,1.0,5.0,2.0,5.0,1.0,4.0,0.0,4.0,4.0,5470.0,2913.0,2137.0,2967.0,2060.0,2499.0,4645.0,7550.0,4682.0,5440.0,6976.0,5326.0,1556.0,4765.0,4029.0,2760.0,4450.0,5211.0,1623.0,4274.0,2652.0,14.0,5820.0,4383.0,9358.0,1826.0,4699.0,2441.0,5734.0,5116.0,1797.0,4038.0,2386.0,6465.0,3693.0,3399.0,5281.0,3727.0,1413.0,9482.0,2911.0,3693.0,2766.0,3782.0,1958.0,4180.0,7876.0,14.0,5032.0,2003.0,968800.0,666.0,469.0,6.0,208.0,30.0,0.0,208.0,19838.0,-123.0867\\n',\n",
       "       '995031,2.0,1.0,3.0,2.0,5.0,1.0,5.0,4.0,4.0,3.0,2.0,5.0,3.0,4.0,1.0,1.0,1.0,3.0,2.0,2.0,3.0,4.0,1.0,4.0,3.0,5.0,1.0,3.0,5.0,5.0,4.0,4.0,5.0,2.0,4.0,3.0,4.0,1.0,3.0,4.0,3.0,2.0,4.0,2.0,3.0,2.0,3.0,1.0,4.0,4.0,74490.0,6721.0,19705.0,8894.0,11176.0,27505.0,12282.0,12209.0,7985.0,7434.0,34860.0,9848.0,9200.0,13043.0,995.0,5621.0,3592.0,4657.0,7069.0,5196.0,40330.0,6027.0,6590.0,5617.0,6727.0,14579.0,7065.0,10650.0,1350.0,8252.0,33374.0,7564.0,4720.0,14695.0,15016.0,9359.0,9410.0,53991.0,14756.0,5976.0,31580.0,6783.0,24779.0,41707.0,8803.0,8412.0,4472.0,7805.0,5635.0,5801.0,567037.0,93.0,541.0,596.0,2892.0,1602.0,0.0,144.0,2745.0,112.5\\n',\n",
       "       '995032,1.0,4.0,1.0,5.0,2.0,2.0,1.0,5.0,2.0,4.0,5.0,1.0,4.0,2.0,4.0,4.0,3.0,4.0,5.0,3.0,2.0,2.0,2.0,4.0,2.0,4.0,2.0,4.0,3.0,3.0,4.0,4.0,5.0,2.0,2.0,3.0,3.0,2.0,2.0,3.0,4.0,1.0,3.0,1.0,4.0,1.0,3.0,4.0,4.0,3.0,14075.0,6301.0,3611.0,4143.0,5949.0,4900.0,10292.0,3254.0,3896.0,4297.0,5380.0,8667.0,6565.0,3442.0,4335.0,10107.0,15301.0,6697.0,4305.0,3574.0,44820.0,15434.0,7953.0,6857.0,9700.0,5049.0,6720.0,4937.0,12857.0,6981.0,10642.0,8187.0,3713.0,15412.0,4186.0,7606.0,3064.0,4122.0,3769.0,6718.0,5027.0,6272.0,7023.0,8974.0,8198.0,4774.0,11819.0,8736.0,3880.0,4768.0,989963.0,57.0,441.0,13.0,520.0,29.0,0.0,208.0,10546.0,-97.0\\n',\n",
       "       '995033,3.0,2.0,4.0,3.0,4.0,2.0,4.0,3.0,4.0,3.0,3.0,3.0,4.0,4.0,3.0,3.0,4.0,5.0,3.0,3.0,2.0,5.0,2.0,5.0,2.0,5.0,2.0,4.0,5.0,4.0,3.0,5.0,3.0,3.0,2.0,4.0,3.0,3.0,1.0,4.0,3.0,3.0,5.0,3.0,3.0,2.0,3.0,2.0,4.0,4.0,7811.0,12321.0,728.0,2997.0,5020.0,515.0,10110.0,11314.0,4200.0,3473.0,2808.0,10826.0,7022.0,1590.0,917.0,2999.0,3919.0,661.0,2962.0,7594.0,4430.0,2462.0,7012.0,3126.0,4808.0,3359.0,623.0,5745.0,580.0,4144.0,2358.0,4829.0,735.0,3742.0,6546.0,5603.0,5158.0,6435.0,7207.0,6272.0,2231.0,5253.0,2480.0,18923.0,18792.0,14734.0,7294.0,7964.0,4358.0,4733.0,443675.0,36.0,272.0,3.0,285.0,15.0,0.0,208.0,9322.0,-76.3729\\n'])"
      ]
     },
     "execution_count": 104,
     "metadata": {},
     "output_type": "execute_result"
    }
   ],
   "source": [
    "q"
   ]
  },
  {
   "cell_type": "code",
   "execution_count": 106,
   "metadata": {},
   "outputs": [
    {
     "data": {
      "text/html": [
       "<div>\n",
       "<style scoped>\n",
       "    .dataframe tbody tr th:only-of-type {\n",
       "        vertical-align: middle;\n",
       "    }\n",
       "\n",
       "    .dataframe tbody tr th {\n",
       "        vertical-align: top;\n",
       "    }\n",
       "\n",
       "    .dataframe thead th {\n",
       "        text-align: right;\n",
       "    }\n",
       "</style>\n",
       "<table border=\"1\" class=\"dataframe\">\n",
       "  <thead>\n",
       "    <tr style=\"text-align: right;\">\n",
       "      <th></th>\n",
       "      <th>0</th>\n",
       "      <th>1</th>\n",
       "      <th>2</th>\n",
       "      <th>3</th>\n",
       "      <th>4</th>\n",
       "      <th>5</th>\n",
       "      <th>6</th>\n",
       "      <th>7</th>\n",
       "      <th>8</th>\n",
       "      <th>9</th>\n",
       "      <th>...</th>\n",
       "      <th>101</th>\n",
       "      <th>102</th>\n",
       "      <th>103</th>\n",
       "      <th>104</th>\n",
       "      <th>105</th>\n",
       "      <th>106</th>\n",
       "      <th>107</th>\n",
       "      <th>108</th>\n",
       "      <th>109</th>\n",
       "      <th>110</th>\n",
       "    </tr>\n",
       "  </thead>\n",
       "  <tbody>\n",
       "    <tr>\n",
       "      <th>0</th>\n",
       "      <td>995029</td>\n",
       "      <td>3.0</td>\n",
       "      <td>3.0</td>\n",
       "      <td>5.0</td>\n",
       "      <td>5.0</td>\n",
       "      <td>2.0</td>\n",
       "      <td>3.0</td>\n",
       "      <td>2.0</td>\n",
       "      <td>5.0</td>\n",
       "      <td>5.0</td>\n",
       "      <td>...</td>\n",
       "      <td>291658.0</td>\n",
       "      <td>666.0</td>\n",
       "      <td>469.0</td>\n",
       "      <td>37.0</td>\n",
       "      <td>1954.0</td>\n",
       "      <td>33.0</td>\n",
       "      <td>0.0</td>\n",
       "      <td>41.0</td>\n",
       "      <td>865.0</td>\n",
       "      <td>-70.6503</td>\n",
       "    </tr>\n",
       "    <tr>\n",
       "      <th>1</th>\n",
       "      <td>995030</td>\n",
       "      <td>2.0</td>\n",
       "      <td>4.0</td>\n",
       "      <td>4.0</td>\n",
       "      <td>2.0</td>\n",
       "      <td>4.0</td>\n",
       "      <td>2.0</td>\n",
       "      <td>4.0</td>\n",
       "      <td>4.0</td>\n",
       "      <td>4.0</td>\n",
       "      <td>...</td>\n",
       "      <td>968800.0</td>\n",
       "      <td>666.0</td>\n",
       "      <td>469.0</td>\n",
       "      <td>6.0</td>\n",
       "      <td>208.0</td>\n",
       "      <td>30.0</td>\n",
       "      <td>0.0</td>\n",
       "      <td>208.0</td>\n",
       "      <td>19838.0</td>\n",
       "      <td>-123.0867</td>\n",
       "    </tr>\n",
       "    <tr>\n",
       "      <th>2</th>\n",
       "      <td>995031</td>\n",
       "      <td>2.0</td>\n",
       "      <td>1.0</td>\n",
       "      <td>3.0</td>\n",
       "      <td>2.0</td>\n",
       "      <td>5.0</td>\n",
       "      <td>1.0</td>\n",
       "      <td>5.0</td>\n",
       "      <td>4.0</td>\n",
       "      <td>4.0</td>\n",
       "      <td>...</td>\n",
       "      <td>567037.0</td>\n",
       "      <td>93.0</td>\n",
       "      <td>541.0</td>\n",
       "      <td>596.0</td>\n",
       "      <td>2892.0</td>\n",
       "      <td>1602.0</td>\n",
       "      <td>0.0</td>\n",
       "      <td>144.0</td>\n",
       "      <td>2745.0</td>\n",
       "      <td>112.5000</td>\n",
       "    </tr>\n",
       "    <tr>\n",
       "      <th>3</th>\n",
       "      <td>995032</td>\n",
       "      <td>1.0</td>\n",
       "      <td>4.0</td>\n",
       "      <td>1.0</td>\n",
       "      <td>5.0</td>\n",
       "      <td>2.0</td>\n",
       "      <td>2.0</td>\n",
       "      <td>1.0</td>\n",
       "      <td>5.0</td>\n",
       "      <td>2.0</td>\n",
       "      <td>...</td>\n",
       "      <td>989963.0</td>\n",
       "      <td>57.0</td>\n",
       "      <td>441.0</td>\n",
       "      <td>13.0</td>\n",
       "      <td>520.0</td>\n",
       "      <td>29.0</td>\n",
       "      <td>0.0</td>\n",
       "      <td>208.0</td>\n",
       "      <td>10546.0</td>\n",
       "      <td>-97.0000</td>\n",
       "    </tr>\n",
       "    <tr>\n",
       "      <th>4</th>\n",
       "      <td>995033</td>\n",
       "      <td>3.0</td>\n",
       "      <td>2.0</td>\n",
       "      <td>4.0</td>\n",
       "      <td>3.0</td>\n",
       "      <td>4.0</td>\n",
       "      <td>2.0</td>\n",
       "      <td>4.0</td>\n",
       "      <td>3.0</td>\n",
       "      <td>4.0</td>\n",
       "      <td>...</td>\n",
       "      <td>443675.0</td>\n",
       "      <td>36.0</td>\n",
       "      <td>272.0</td>\n",
       "      <td>3.0</td>\n",
       "      <td>285.0</td>\n",
       "      <td>15.0</td>\n",
       "      <td>0.0</td>\n",
       "      <td>208.0</td>\n",
       "      <td>9322.0</td>\n",
       "      <td>-76.3729</td>\n",
       "    </tr>\n",
       "  </tbody>\n",
       "</table>\n",
       "<p>5 rows × 111 columns</p>\n",
       "</div>"
      ],
      "text/plain": [
       "      0    1    2    3    4    5    6    7    8    9    ...       101    102  \\\n",
       "0  995029  3.0  3.0  5.0  5.0  2.0  3.0  2.0  5.0  5.0  ...  291658.0  666.0   \n",
       "1  995030  2.0  4.0  4.0  2.0  4.0  2.0  4.0  4.0  4.0  ...  968800.0  666.0   \n",
       "2  995031  2.0  1.0  3.0  2.0  5.0  1.0  5.0  4.0  4.0  ...  567037.0   93.0   \n",
       "3  995032  1.0  4.0  1.0  5.0  2.0  2.0  1.0  5.0  2.0  ...  989963.0   57.0   \n",
       "4  995033  3.0  2.0  4.0  3.0  4.0  2.0  4.0  3.0  4.0  ...  443675.0   36.0   \n",
       "\n",
       "     103    104     105     106  107    108      109       110  \n",
       "0  469.0   37.0  1954.0    33.0  0.0   41.0    865.0  -70.6503  \n",
       "1  469.0    6.0   208.0    30.0  0.0  208.0  19838.0 -123.0867  \n",
       "2  541.0  596.0  2892.0  1602.0  0.0  144.0   2745.0  112.5000  \n",
       "3  441.0   13.0   520.0    29.0  0.0  208.0  10546.0  -97.0000  \n",
       "4  272.0    3.0   285.0    15.0  0.0  208.0   9322.0  -76.3729  \n",
       "\n",
       "[5 rows x 111 columns]"
      ]
     },
     "execution_count": 106,
     "metadata": {},
     "output_type": "execute_result"
    }
   ],
   "source": [
    "pd.read_csv(StringIO(''.join(q)), header=None)"
   ]
  },
  {
   "cell_type": "markdown",
   "metadata": {},
   "source": [
    "可以看到最后一行的索引是995033，因此训练集中有99w条数据。"
   ]
  },
  {
   "cell_type": "code",
   "execution_count": 107,
   "metadata": {},
   "outputs": [
    {
     "name": "stdout",
     "output_type": "stream",
     "text": [
      "0\n",
      "100000\n",
      "200000\n",
      "300000\n",
      "400000\n",
      "500000\n",
      "600000\n",
      "700000\n",
      "800000\n",
      "900000\n"
     ]
    },
    {
     "ename": "EmptyDataError",
     "evalue": "No columns to parse from file",
     "output_type": "error",
     "traceback": [
      "\u001b[1;31m---------------------------------------------------------------------------\u001b[0m",
      "\u001b[1;31mEmptyDataError\u001b[0m                            Traceback (most recent call last)",
      "\u001b[1;32m~\\AppData\\Local\\Temp/ipykernel_22364/2808939381.py\u001b[0m in \u001b[0;36m<module>\u001b[1;34m\u001b[0m\n\u001b[0;32m      6\u001b[0m \u001b[1;33m\u001b[0m\u001b[0m\n\u001b[0;32m      7\u001b[0m \u001b[1;32mfor\u001b[0m \u001b[0mi\u001b[0m \u001b[1;32min\u001b[0m \u001b[0mrange\u001b[0m\u001b[1;33m(\u001b[0m\u001b[1;36m0\u001b[0m\u001b[1;33m,\u001b[0m\u001b[1;36m10\u001b[0m\u001b[1;33m**\u001b[0m\u001b[1;36m7\u001b[0m\u001b[1;33m,\u001b[0m\u001b[1;36m100000\u001b[0m\u001b[1;33m)\u001b[0m\u001b[1;33m:\u001b[0m\u001b[1;33m\u001b[0m\u001b[1;33m\u001b[0m\u001b[0m\n\u001b[1;32m----> 8\u001b[1;33m     \u001b[0mdf\u001b[0m \u001b[1;33m=\u001b[0m \u001b[0mpd\u001b[0m\u001b[1;33m.\u001b[0m\u001b[0mread_csv\u001b[0m\u001b[1;33m(\u001b[0m\u001b[0mtrainpath\u001b[0m\u001b[1;33m,\u001b[0m\u001b[0mskiprows\u001b[0m\u001b[1;33m=\u001b[0m\u001b[0mi\u001b[0m\u001b[1;33m,\u001b[0m \u001b[0mnrows\u001b[0m\u001b[1;33m=\u001b[0m\u001b[1;36m1\u001b[0m\u001b[1;33m)\u001b[0m\u001b[1;33m\u001b[0m\u001b[1;33m\u001b[0m\u001b[0m\n\u001b[0m\u001b[0;32m      9\u001b[0m     \u001b[0mprint\u001b[0m\u001b[1;33m(\u001b[0m\u001b[0mi\u001b[0m\u001b[1;33m)\u001b[0m\u001b[1;33m\u001b[0m\u001b[1;33m\u001b[0m\u001b[0m\n",
      "\u001b[1;32mD:\\ProgramData\\Anaconda3\\lib\\site-packages\\pandas\\util\\_decorators.py\u001b[0m in \u001b[0;36mwrapper\u001b[1;34m(*args, **kwargs)\u001b[0m\n\u001b[0;32m    309\u001b[0m                     \u001b[0mstacklevel\u001b[0m\u001b[1;33m=\u001b[0m\u001b[0mstacklevel\u001b[0m\u001b[1;33m,\u001b[0m\u001b[1;33m\u001b[0m\u001b[1;33m\u001b[0m\u001b[0m\n\u001b[0;32m    310\u001b[0m                 )\n\u001b[1;32m--> 311\u001b[1;33m             \u001b[1;32mreturn\u001b[0m \u001b[0mfunc\u001b[0m\u001b[1;33m(\u001b[0m\u001b[1;33m*\u001b[0m\u001b[0margs\u001b[0m\u001b[1;33m,\u001b[0m \u001b[1;33m**\u001b[0m\u001b[0mkwargs\u001b[0m\u001b[1;33m)\u001b[0m\u001b[1;33m\u001b[0m\u001b[1;33m\u001b[0m\u001b[0m\n\u001b[0m\u001b[0;32m    312\u001b[0m \u001b[1;33m\u001b[0m\u001b[0m\n\u001b[0;32m    313\u001b[0m         \u001b[1;32mreturn\u001b[0m \u001b[0mwrapper\u001b[0m\u001b[1;33m\u001b[0m\u001b[1;33m\u001b[0m\u001b[0m\n",
      "\u001b[1;32mD:\\ProgramData\\Anaconda3\\lib\\site-packages\\pandas\\io\\parsers\\readers.py\u001b[0m in \u001b[0;36mread_csv\u001b[1;34m(filepath_or_buffer, sep, delimiter, header, names, index_col, usecols, squeeze, prefix, mangle_dupe_cols, dtype, engine, converters, true_values, false_values, skipinitialspace, skiprows, skipfooter, nrows, na_values, keep_default_na, na_filter, verbose, skip_blank_lines, parse_dates, infer_datetime_format, keep_date_col, date_parser, dayfirst, cache_dates, iterator, chunksize, compression, thousands, decimal, lineterminator, quotechar, quoting, doublequote, escapechar, comment, encoding, encoding_errors, dialect, error_bad_lines, warn_bad_lines, on_bad_lines, delim_whitespace, low_memory, memory_map, float_precision, storage_options)\u001b[0m\n\u001b[0;32m    584\u001b[0m     \u001b[0mkwds\u001b[0m\u001b[1;33m.\u001b[0m\u001b[0mupdate\u001b[0m\u001b[1;33m(\u001b[0m\u001b[0mkwds_defaults\u001b[0m\u001b[1;33m)\u001b[0m\u001b[1;33m\u001b[0m\u001b[1;33m\u001b[0m\u001b[0m\n\u001b[0;32m    585\u001b[0m \u001b[1;33m\u001b[0m\u001b[0m\n\u001b[1;32m--> 586\u001b[1;33m     \u001b[1;32mreturn\u001b[0m \u001b[0m_read\u001b[0m\u001b[1;33m(\u001b[0m\u001b[0mfilepath_or_buffer\u001b[0m\u001b[1;33m,\u001b[0m \u001b[0mkwds\u001b[0m\u001b[1;33m)\u001b[0m\u001b[1;33m\u001b[0m\u001b[1;33m\u001b[0m\u001b[0m\n\u001b[0m\u001b[0;32m    587\u001b[0m \u001b[1;33m\u001b[0m\u001b[0m\n\u001b[0;32m    588\u001b[0m \u001b[1;33m\u001b[0m\u001b[0m\n",
      "\u001b[1;32mD:\\ProgramData\\Anaconda3\\lib\\site-packages\\pandas\\io\\parsers\\readers.py\u001b[0m in \u001b[0;36m_read\u001b[1;34m(filepath_or_buffer, kwds)\u001b[0m\n\u001b[0;32m    480\u001b[0m \u001b[1;33m\u001b[0m\u001b[0m\n\u001b[0;32m    481\u001b[0m     \u001b[1;31m# Create the parser.\u001b[0m\u001b[1;33m\u001b[0m\u001b[1;33m\u001b[0m\u001b[0m\n\u001b[1;32m--> 482\u001b[1;33m     \u001b[0mparser\u001b[0m \u001b[1;33m=\u001b[0m \u001b[0mTextFileReader\u001b[0m\u001b[1;33m(\u001b[0m\u001b[0mfilepath_or_buffer\u001b[0m\u001b[1;33m,\u001b[0m \u001b[1;33m**\u001b[0m\u001b[0mkwds\u001b[0m\u001b[1;33m)\u001b[0m\u001b[1;33m\u001b[0m\u001b[1;33m\u001b[0m\u001b[0m\n\u001b[0m\u001b[0;32m    483\u001b[0m \u001b[1;33m\u001b[0m\u001b[0m\n\u001b[0;32m    484\u001b[0m     \u001b[1;32mif\u001b[0m \u001b[0mchunksize\u001b[0m \u001b[1;32mor\u001b[0m \u001b[0miterator\u001b[0m\u001b[1;33m:\u001b[0m\u001b[1;33m\u001b[0m\u001b[1;33m\u001b[0m\u001b[0m\n",
      "\u001b[1;32mD:\\ProgramData\\Anaconda3\\lib\\site-packages\\pandas\\io\\parsers\\readers.py\u001b[0m in \u001b[0;36m__init__\u001b[1;34m(self, f, engine, **kwds)\u001b[0m\n\u001b[0;32m    809\u001b[0m             \u001b[0mself\u001b[0m\u001b[1;33m.\u001b[0m\u001b[0moptions\u001b[0m\u001b[1;33m[\u001b[0m\u001b[1;34m\"has_index_names\"\u001b[0m\u001b[1;33m]\u001b[0m \u001b[1;33m=\u001b[0m \u001b[0mkwds\u001b[0m\u001b[1;33m[\u001b[0m\u001b[1;34m\"has_index_names\"\u001b[0m\u001b[1;33m]\u001b[0m\u001b[1;33m\u001b[0m\u001b[1;33m\u001b[0m\u001b[0m\n\u001b[0;32m    810\u001b[0m \u001b[1;33m\u001b[0m\u001b[0m\n\u001b[1;32m--> 811\u001b[1;33m         \u001b[0mself\u001b[0m\u001b[1;33m.\u001b[0m\u001b[0m_engine\u001b[0m \u001b[1;33m=\u001b[0m \u001b[0mself\u001b[0m\u001b[1;33m.\u001b[0m\u001b[0m_make_engine\u001b[0m\u001b[1;33m(\u001b[0m\u001b[0mself\u001b[0m\u001b[1;33m.\u001b[0m\u001b[0mengine\u001b[0m\u001b[1;33m)\u001b[0m\u001b[1;33m\u001b[0m\u001b[1;33m\u001b[0m\u001b[0m\n\u001b[0m\u001b[0;32m    812\u001b[0m \u001b[1;33m\u001b[0m\u001b[0m\n\u001b[0;32m    813\u001b[0m     \u001b[1;32mdef\u001b[0m \u001b[0mclose\u001b[0m\u001b[1;33m(\u001b[0m\u001b[0mself\u001b[0m\u001b[1;33m)\u001b[0m\u001b[1;33m:\u001b[0m\u001b[1;33m\u001b[0m\u001b[1;33m\u001b[0m\u001b[0m\n",
      "\u001b[1;32mD:\\ProgramData\\Anaconda3\\lib\\site-packages\\pandas\\io\\parsers\\readers.py\u001b[0m in \u001b[0;36m_make_engine\u001b[1;34m(self, engine)\u001b[0m\n\u001b[0;32m   1038\u001b[0m             )\n\u001b[0;32m   1039\u001b[0m         \u001b[1;31m# error: Too many arguments for \"ParserBase\"\u001b[0m\u001b[1;33m\u001b[0m\u001b[1;33m\u001b[0m\u001b[0m\n\u001b[1;32m-> 1040\u001b[1;33m         \u001b[1;32mreturn\u001b[0m \u001b[0mmapping\u001b[0m\u001b[1;33m[\u001b[0m\u001b[0mengine\u001b[0m\u001b[1;33m]\u001b[0m\u001b[1;33m(\u001b[0m\u001b[0mself\u001b[0m\u001b[1;33m.\u001b[0m\u001b[0mf\u001b[0m\u001b[1;33m,\u001b[0m \u001b[1;33m**\u001b[0m\u001b[0mself\u001b[0m\u001b[1;33m.\u001b[0m\u001b[0moptions\u001b[0m\u001b[1;33m)\u001b[0m  \u001b[1;31m# type: ignore[call-arg]\u001b[0m\u001b[1;33m\u001b[0m\u001b[1;33m\u001b[0m\u001b[0m\n\u001b[0m\u001b[0;32m   1041\u001b[0m \u001b[1;33m\u001b[0m\u001b[0m\n\u001b[0;32m   1042\u001b[0m     \u001b[1;32mdef\u001b[0m \u001b[0m_failover_to_python\u001b[0m\u001b[1;33m(\u001b[0m\u001b[0mself\u001b[0m\u001b[1;33m)\u001b[0m\u001b[1;33m:\u001b[0m\u001b[1;33m\u001b[0m\u001b[1;33m\u001b[0m\u001b[0m\n",
      "\u001b[1;32mD:\\ProgramData\\Anaconda3\\lib\\site-packages\\pandas\\io\\parsers\\c_parser_wrapper.py\u001b[0m in \u001b[0;36m__init__\u001b[1;34m(self, src, **kwds)\u001b[0m\n\u001b[0;32m     67\u001b[0m         \u001b[0mkwds\u001b[0m\u001b[1;33m[\u001b[0m\u001b[1;34m\"dtype\"\u001b[0m\u001b[1;33m]\u001b[0m \u001b[1;33m=\u001b[0m \u001b[0mensure_dtype_objs\u001b[0m\u001b[1;33m(\u001b[0m\u001b[0mkwds\u001b[0m\u001b[1;33m.\u001b[0m\u001b[0mget\u001b[0m\u001b[1;33m(\u001b[0m\u001b[1;34m\"dtype\"\u001b[0m\u001b[1;33m,\u001b[0m \u001b[1;32mNone\u001b[0m\u001b[1;33m)\u001b[0m\u001b[1;33m)\u001b[0m\u001b[1;33m\u001b[0m\u001b[1;33m\u001b[0m\u001b[0m\n\u001b[0;32m     68\u001b[0m         \u001b[1;32mtry\u001b[0m\u001b[1;33m:\u001b[0m\u001b[1;33m\u001b[0m\u001b[1;33m\u001b[0m\u001b[0m\n\u001b[1;32m---> 69\u001b[1;33m             \u001b[0mself\u001b[0m\u001b[1;33m.\u001b[0m\u001b[0m_reader\u001b[0m \u001b[1;33m=\u001b[0m \u001b[0mparsers\u001b[0m\u001b[1;33m.\u001b[0m\u001b[0mTextReader\u001b[0m\u001b[1;33m(\u001b[0m\u001b[0mself\u001b[0m\u001b[1;33m.\u001b[0m\u001b[0mhandles\u001b[0m\u001b[1;33m.\u001b[0m\u001b[0mhandle\u001b[0m\u001b[1;33m,\u001b[0m \u001b[1;33m**\u001b[0m\u001b[0mkwds\u001b[0m\u001b[1;33m)\u001b[0m\u001b[1;33m\u001b[0m\u001b[1;33m\u001b[0m\u001b[0m\n\u001b[0m\u001b[0;32m     70\u001b[0m         \u001b[1;32mexcept\u001b[0m \u001b[0mException\u001b[0m\u001b[1;33m:\u001b[0m\u001b[1;33m\u001b[0m\u001b[1;33m\u001b[0m\u001b[0m\n\u001b[0;32m     71\u001b[0m             \u001b[0mself\u001b[0m\u001b[1;33m.\u001b[0m\u001b[0mhandles\u001b[0m\u001b[1;33m.\u001b[0m\u001b[0mclose\u001b[0m\u001b[1;33m(\u001b[0m\u001b[1;33m)\u001b[0m\u001b[1;33m\u001b[0m\u001b[1;33m\u001b[0m\u001b[0m\n",
      "\u001b[1;32mD:\\ProgramData\\Anaconda3\\lib\\site-packages\\pandas\\_libs\\parsers.pyx\u001b[0m in \u001b[0;36mpandas._libs.parsers.TextReader.__cinit__\u001b[1;34m()\u001b[0m\n",
      "\u001b[1;31mEmptyDataError\u001b[0m: No columns to parse from file"
     ]
    }
   ],
   "source": [
    "#如果数据没有索引，则使用pandas中的skiprows与nrows进行尝试\n",
    "#skiprows: 本次导入跳过前skiprows行\n",
    "#nrows：本次导入只导入nrows行\n",
    "#例如，当skiprows=1000, nrows=1000时，pandas会导入1001~2000行\n",
    "#当skiprows超出数据量时，就会报空值错误EmptyDataError\n",
    "\n",
    "for i in range(0,10**7,100000):\n",
    "    df = pd.read_csv(trainpath,skiprows=i, nrows=1)\n",
    "    print(i)"
   ]
  },
  {
   "cell_type": "markdown",
   "metadata": {},
   "source": [
    "可以看到90w顺利导入了，但是100w报错了，所以数据量在90-100w之间。如果我们想，我们可以继续精确数据量的具体范围，但通常来说我们只要确认10w以内的区域就可以了。"
   ]
  },
  {
   "cell_type": "markdown",
   "metadata": {},
   "source": [
    "3、确认数据量后，准备循环范围"
   ]
  },
  {
   "cell_type": "code",
   "execution_count": 108,
   "metadata": {},
   "outputs": [
    {
     "data": {
      "text/plain": [
       "[0,\n",
       " 50000,\n",
       " 100000,\n",
       " 150000,\n",
       " 200000,\n",
       " 250000,\n",
       " 300000,\n",
       " 350000,\n",
       " 400000,\n",
       " 450000,\n",
       " 500000,\n",
       " 550000,\n",
       " 600000,\n",
       " 650000,\n",
       " 700000,\n",
       " 750000,\n",
       " 800000,\n",
       " 850000,\n",
       " 900000,\n",
       " 950000]"
      ]
     },
     "execution_count": 108,
     "metadata": {},
     "output_type": "execute_result"
    }
   ],
   "source": [
    "[*range(0,10**6,50000)]"
   ]
  },
  {
   "cell_type": "code",
   "execution_count": 131,
   "metadata": {},
   "outputs": [],
   "source": [
    "looprange = range(0,10**6,50000)"
   ]
  },
  {
   "cell_type": "markdown",
   "metadata": {},
   "source": [
    "4、建立增量学习使用的模型，定义测试集"
   ]
  },
  {
   "cell_type": "code",
   "execution_count": 109,
   "metadata": {},
   "outputs": [],
   "source": [
    "reg = RFR(n_estimators=10\n",
    "          ,random_state=1412\n",
    "          ,warm_start=True\n",
    "          ,verbose=True #增量学习的过程总是很漫长的，你可以选择展示学习过程\n",
    "          ,n_jobs=-1 #调用你全部的资源进行训练\n",
    "         )"
   ]
  },
  {
   "cell_type": "code",
   "execution_count": 110,
   "metadata": {},
   "outputs": [],
   "source": [
    "#定义测试集\n",
    "test = pd.read_csv(testpath,header=\"infer\",index_col=0)\n",
    "Xtest = test.iloc[:,:-1]\n",
    "Ytest = test.iloc[:,-1]"
   ]
  },
  {
   "cell_type": "code",
   "execution_count": 111,
   "metadata": {},
   "outputs": [
    {
     "data": {
      "text/html": [
       "<div>\n",
       "<style scoped>\n",
       "    .dataframe tbody tr th:only-of-type {\n",
       "        vertical-align: middle;\n",
       "    }\n",
       "\n",
       "    .dataframe tbody tr th {\n",
       "        vertical-align: top;\n",
       "    }\n",
       "\n",
       "    .dataframe thead th {\n",
       "        text-align: right;\n",
       "    }\n",
       "</style>\n",
       "<table border=\"1\" class=\"dataframe\">\n",
       "  <thead>\n",
       "    <tr style=\"text-align: right;\">\n",
       "      <th></th>\n",
       "      <th>EXT1</th>\n",
       "      <th>EXT2</th>\n",
       "      <th>EXT3</th>\n",
       "      <th>EXT4</th>\n",
       "      <th>EXT5</th>\n",
       "      <th>EXT6</th>\n",
       "      <th>EXT7</th>\n",
       "      <th>EXT8</th>\n",
       "      <th>EXT9</th>\n",
       "      <th>EXT10</th>\n",
       "      <th>...</th>\n",
       "      <th>OPN10_E</th>\n",
       "      <th>dateload</th>\n",
       "      <th>screenw</th>\n",
       "      <th>screenh</th>\n",
       "      <th>introelapse</th>\n",
       "      <th>testelapse</th>\n",
       "      <th>endelapse</th>\n",
       "      <th>IPC</th>\n",
       "      <th>country</th>\n",
       "      <th>lat_appx_lots_of_err</th>\n",
       "    </tr>\n",
       "  </thead>\n",
       "  <tbody>\n",
       "    <tr>\n",
       "      <th>0</th>\n",
       "      <td>3</td>\n",
       "      <td>2</td>\n",
       "      <td>4</td>\n",
       "      <td>2</td>\n",
       "      <td>4</td>\n",
       "      <td>2</td>\n",
       "      <td>2</td>\n",
       "      <td>2</td>\n",
       "      <td>4</td>\n",
       "      <td>2</td>\n",
       "      <td>...</td>\n",
       "      <td>1398</td>\n",
       "      <td>971898</td>\n",
       "      <td>396</td>\n",
       "      <td>469</td>\n",
       "      <td>60</td>\n",
       "      <td>188</td>\n",
       "      <td>12</td>\n",
       "      <td>0</td>\n",
       "      <td>208</td>\n",
       "      <td>8663</td>\n",
       "    </tr>\n",
       "    <tr>\n",
       "      <th>1</th>\n",
       "      <td>4</td>\n",
       "      <td>1</td>\n",
       "      <td>4</td>\n",
       "      <td>2</td>\n",
       "      <td>5</td>\n",
       "      <td>1</td>\n",
       "      <td>5</td>\n",
       "      <td>2</td>\n",
       "      <td>5</td>\n",
       "      <td>2</td>\n",
       "      <td>...</td>\n",
       "      <td>995</td>\n",
       "      <td>814072</td>\n",
       "      <td>1024</td>\n",
       "      <td>755</td>\n",
       "      <td>168</td>\n",
       "      <td>105</td>\n",
       "      <td>6</td>\n",
       "      <td>0</td>\n",
       "      <td>208</td>\n",
       "      <td>20723</td>\n",
       "    </tr>\n",
       "    <tr>\n",
       "      <th>2</th>\n",
       "      <td>3</td>\n",
       "      <td>5</td>\n",
       "      <td>3</td>\n",
       "      <td>3</td>\n",
       "      <td>3</td>\n",
       "      <td>5</td>\n",
       "      <td>3</td>\n",
       "      <td>5</td>\n",
       "      <td>1</td>\n",
       "      <td>5</td>\n",
       "      <td>...</td>\n",
       "      <td>3533</td>\n",
       "      <td>86908</td>\n",
       "      <td>396</td>\n",
       "      <td>469</td>\n",
       "      <td>26</td>\n",
       "      <td>316</td>\n",
       "      <td>20</td>\n",
       "      <td>0</td>\n",
       "      <td>61</td>\n",
       "      <td>30695</td>\n",
       "    </tr>\n",
       "    <tr>\n",
       "      <th>3</th>\n",
       "      <td>3</td>\n",
       "      <td>2</td>\n",
       "      <td>5</td>\n",
       "      <td>5</td>\n",
       "      <td>3</td>\n",
       "      <td>2</td>\n",
       "      <td>4</td>\n",
       "      <td>3</td>\n",
       "      <td>2</td>\n",
       "      <td>2</td>\n",
       "      <td>...</td>\n",
       "      <td>1533</td>\n",
       "      <td>822586</td>\n",
       "      <td>666</td>\n",
       "      <td>469</td>\n",
       "      <td>3</td>\n",
       "      <td>323</td>\n",
       "      <td>17</td>\n",
       "      <td>0</td>\n",
       "      <td>51</td>\n",
       "      <td>27919</td>\n",
       "    </tr>\n",
       "    <tr>\n",
       "      <th>4</th>\n",
       "      <td>2</td>\n",
       "      <td>1</td>\n",
       "      <td>5</td>\n",
       "      <td>1</td>\n",
       "      <td>5</td>\n",
       "      <td>1</td>\n",
       "      <td>5</td>\n",
       "      <td>3</td>\n",
       "      <td>2</td>\n",
       "      <td>5</td>\n",
       "      <td>...</td>\n",
       "      <td>2491</td>\n",
       "      <td>728955</td>\n",
       "      <td>666</td>\n",
       "      <td>469</td>\n",
       "      <td>26</td>\n",
       "      <td>210</td>\n",
       "      <td>225</td>\n",
       "      <td>39</td>\n",
       "      <td>12</td>\n",
       "      <td>434</td>\n",
       "    </tr>\n",
       "  </tbody>\n",
       "</table>\n",
       "<p>5 rows × 109 columns</p>\n",
       "</div>"
      ],
      "text/plain": [
       "   EXT1  EXT2  EXT3  EXT4  EXT5  EXT6  EXT7  EXT8  EXT9  EXT10  ...  OPN10_E  \\\n",
       "0     3     2     4     2     4     2     2     2     4      2  ...     1398   \n",
       "1     4     1     4     2     5     1     5     2     5      2  ...      995   \n",
       "2     3     5     3     3     3     5     3     5     1      5  ...     3533   \n",
       "3     3     2     5     5     3     2     4     3     2      2  ...     1533   \n",
       "4     2     1     5     1     5     1     5     3     2      5  ...     2491   \n",
       "\n",
       "   dateload  screenw  screenh  introelapse  testelapse  endelapse  IPC  \\\n",
       "0    971898      396      469           60         188         12    0   \n",
       "1    814072     1024      755          168         105          6    0   \n",
       "2     86908      396      469           26         316         20    0   \n",
       "3    822586      666      469            3         323         17    0   \n",
       "4    728955      666      469           26         210        225   39   \n",
       "\n",
       "   country  lat_appx_lots_of_err  \n",
       "0      208                  8663  \n",
       "1      208                 20723  \n",
       "2       61                 30695  \n",
       "3       51                 27919  \n",
       "4       12                   434  \n",
       "\n",
       "[5 rows x 109 columns]"
      ]
     },
     "execution_count": 111,
     "metadata": {},
     "output_type": "execute_result"
    }
   ],
   "source": [
    "Xtest.head()"
   ]
  },
  {
   "cell_type": "markdown",
   "metadata": {},
   "source": [
    "5、开始循环导入与增量学习"
   ]
  },
  {
   "cell_type": "code",
   "execution_count": 134,
   "metadata": {},
   "outputs": [],
   "source": [
    "#当skiprows+nrows超出数据量的时候，会发生什么？"
   ]
  },
  {
   "cell_type": "code",
   "execution_count": 114,
   "metadata": {},
   "outputs": [],
   "source": [
    "trainsubset = pd.read_csv(trainpath, header=None, index_col=0\n",
    "                          , skiprows=950000\n",
    "                          , nrows=50000)"
   ]
  },
  {
   "cell_type": "code",
   "execution_count": 136,
   "metadata": {},
   "outputs": [
    {
     "data": {
      "text/html": [
       "<div>\n",
       "<style scoped>\n",
       "    .dataframe tbody tr th:only-of-type {\n",
       "        vertical-align: middle;\n",
       "    }\n",
       "\n",
       "    .dataframe tbody tr th {\n",
       "        vertical-align: top;\n",
       "    }\n",
       "\n",
       "    .dataframe thead th {\n",
       "        text-align: right;\n",
       "    }\n",
       "</style>\n",
       "<table border=\"1\" class=\"dataframe\">\n",
       "  <thead>\n",
       "    <tr style=\"text-align: right;\">\n",
       "      <th></th>\n",
       "      <th>1</th>\n",
       "      <th>2</th>\n",
       "      <th>3</th>\n",
       "      <th>4</th>\n",
       "      <th>5</th>\n",
       "      <th>6</th>\n",
       "      <th>7</th>\n",
       "      <th>8</th>\n",
       "      <th>9</th>\n",
       "      <th>10</th>\n",
       "      <th>...</th>\n",
       "      <th>101</th>\n",
       "      <th>102</th>\n",
       "      <th>103</th>\n",
       "      <th>104</th>\n",
       "      <th>105</th>\n",
       "      <th>106</th>\n",
       "      <th>107</th>\n",
       "      <th>108</th>\n",
       "      <th>109</th>\n",
       "      <th>110</th>\n",
       "    </tr>\n",
       "    <tr>\n",
       "      <th>0</th>\n",
       "      <th></th>\n",
       "      <th></th>\n",
       "      <th></th>\n",
       "      <th></th>\n",
       "      <th></th>\n",
       "      <th></th>\n",
       "      <th></th>\n",
       "      <th></th>\n",
       "      <th></th>\n",
       "      <th></th>\n",
       "      <th></th>\n",
       "      <th></th>\n",
       "      <th></th>\n",
       "      <th></th>\n",
       "      <th></th>\n",
       "      <th></th>\n",
       "      <th></th>\n",
       "      <th></th>\n",
       "      <th></th>\n",
       "      <th></th>\n",
       "      <th></th>\n",
       "    </tr>\n",
       "  </thead>\n",
       "  <tbody>\n",
       "    <tr>\n",
       "      <th>995029</th>\n",
       "      <td>3.0</td>\n",
       "      <td>3.0</td>\n",
       "      <td>5.0</td>\n",
       "      <td>5.0</td>\n",
       "      <td>2.0</td>\n",
       "      <td>3.0</td>\n",
       "      <td>2.0</td>\n",
       "      <td>5.0</td>\n",
       "      <td>5.0</td>\n",
       "      <td>5.0</td>\n",
       "      <td>...</td>\n",
       "      <td>291658.0</td>\n",
       "      <td>666.0</td>\n",
       "      <td>469.0</td>\n",
       "      <td>37.0</td>\n",
       "      <td>1954.0</td>\n",
       "      <td>33.0</td>\n",
       "      <td>0.0</td>\n",
       "      <td>41.0</td>\n",
       "      <td>865.0</td>\n",
       "      <td>-70.6503</td>\n",
       "    </tr>\n",
       "    <tr>\n",
       "      <th>995030</th>\n",
       "      <td>2.0</td>\n",
       "      <td>4.0</td>\n",
       "      <td>4.0</td>\n",
       "      <td>2.0</td>\n",
       "      <td>4.0</td>\n",
       "      <td>2.0</td>\n",
       "      <td>4.0</td>\n",
       "      <td>4.0</td>\n",
       "      <td>4.0</td>\n",
       "      <td>4.0</td>\n",
       "      <td>...</td>\n",
       "      <td>968800.0</td>\n",
       "      <td>666.0</td>\n",
       "      <td>469.0</td>\n",
       "      <td>6.0</td>\n",
       "      <td>208.0</td>\n",
       "      <td>30.0</td>\n",
       "      <td>0.0</td>\n",
       "      <td>208.0</td>\n",
       "      <td>19838.0</td>\n",
       "      <td>-123.0867</td>\n",
       "    </tr>\n",
       "    <tr>\n",
       "      <th>995031</th>\n",
       "      <td>2.0</td>\n",
       "      <td>1.0</td>\n",
       "      <td>3.0</td>\n",
       "      <td>2.0</td>\n",
       "      <td>5.0</td>\n",
       "      <td>1.0</td>\n",
       "      <td>5.0</td>\n",
       "      <td>4.0</td>\n",
       "      <td>4.0</td>\n",
       "      <td>3.0</td>\n",
       "      <td>...</td>\n",
       "      <td>567037.0</td>\n",
       "      <td>93.0</td>\n",
       "      <td>541.0</td>\n",
       "      <td>596.0</td>\n",
       "      <td>2892.0</td>\n",
       "      <td>1602.0</td>\n",
       "      <td>0.0</td>\n",
       "      <td>144.0</td>\n",
       "      <td>2745.0</td>\n",
       "      <td>112.5000</td>\n",
       "    </tr>\n",
       "    <tr>\n",
       "      <th>995032</th>\n",
       "      <td>1.0</td>\n",
       "      <td>4.0</td>\n",
       "      <td>1.0</td>\n",
       "      <td>5.0</td>\n",
       "      <td>2.0</td>\n",
       "      <td>2.0</td>\n",
       "      <td>1.0</td>\n",
       "      <td>5.0</td>\n",
       "      <td>2.0</td>\n",
       "      <td>4.0</td>\n",
       "      <td>...</td>\n",
       "      <td>989963.0</td>\n",
       "      <td>57.0</td>\n",
       "      <td>441.0</td>\n",
       "      <td>13.0</td>\n",
       "      <td>520.0</td>\n",
       "      <td>29.0</td>\n",
       "      <td>0.0</td>\n",
       "      <td>208.0</td>\n",
       "      <td>10546.0</td>\n",
       "      <td>-97.0000</td>\n",
       "    </tr>\n",
       "    <tr>\n",
       "      <th>995033</th>\n",
       "      <td>3.0</td>\n",
       "      <td>2.0</td>\n",
       "      <td>4.0</td>\n",
       "      <td>3.0</td>\n",
       "      <td>4.0</td>\n",
       "      <td>2.0</td>\n",
       "      <td>4.0</td>\n",
       "      <td>3.0</td>\n",
       "      <td>4.0</td>\n",
       "      <td>3.0</td>\n",
       "      <td>...</td>\n",
       "      <td>443675.0</td>\n",
       "      <td>36.0</td>\n",
       "      <td>272.0</td>\n",
       "      <td>3.0</td>\n",
       "      <td>285.0</td>\n",
       "      <td>15.0</td>\n",
       "      <td>0.0</td>\n",
       "      <td>208.0</td>\n",
       "      <td>9322.0</td>\n",
       "      <td>-76.3729</td>\n",
       "    </tr>\n",
       "  </tbody>\n",
       "</table>\n",
       "<p>5 rows × 110 columns</p>\n",
       "</div>"
      ],
      "text/plain": [
       "        1    2    3    4    5    6    7    8    9    10   ...       101  \\\n",
       "0                                                         ...             \n",
       "995029  3.0  3.0  5.0  5.0  2.0  3.0  2.0  5.0  5.0  5.0  ...  291658.0   \n",
       "995030  2.0  4.0  4.0  2.0  4.0  2.0  4.0  4.0  4.0  4.0  ...  968800.0   \n",
       "995031  2.0  1.0  3.0  2.0  5.0  1.0  5.0  4.0  4.0  3.0  ...  567037.0   \n",
       "995032  1.0  4.0  1.0  5.0  2.0  2.0  1.0  5.0  2.0  4.0  ...  989963.0   \n",
       "995033  3.0  2.0  4.0  3.0  4.0  2.0  4.0  3.0  4.0  3.0  ...  443675.0   \n",
       "\n",
       "          102    103    104     105     106  107    108      109       110  \n",
       "0                                                                           \n",
       "995029  666.0  469.0   37.0  1954.0    33.0  0.0   41.0    865.0  -70.6503  \n",
       "995030  666.0  469.0    6.0   208.0    30.0  0.0  208.0  19838.0 -123.0867  \n",
       "995031   93.0  541.0  596.0  2892.0  1602.0  0.0  144.0   2745.0  112.5000  \n",
       "995032   57.0  441.0   13.0   520.0    29.0  0.0  208.0  10546.0  -97.0000  \n",
       "995033   36.0  272.0    3.0   285.0    15.0  0.0  208.0   9322.0  -76.3729  \n",
       "\n",
       "[5 rows x 110 columns]"
      ]
     },
     "execution_count": 136,
     "metadata": {},
     "output_type": "execute_result"
    }
   ],
   "source": [
    "trainsubset.tail(5) #会导出全部剩下的数据，即便不足200w"
   ]
  },
  {
   "cell_type": "code",
   "execution_count": 137,
   "metadata": {},
   "outputs": [
    {
     "data": {
      "text/plain": [
       "(45035, 110)"
      ]
     },
     "execution_count": 137,
     "metadata": {},
     "output_type": "execute_result"
    }
   ],
   "source": [
    "trainsubset.shape "
   ]
  },
  {
   "cell_type": "code",
   "execution_count": 138,
   "metadata": {},
   "outputs": [
    {
     "name": "stderr",
     "output_type": "stream",
     "text": [
      "[Parallel(n_jobs=-1)]: Using backend ThreadingBackend with 12 concurrent workers.\n",
      "[Parallel(n_jobs=-1)]: Done  10 out of  10 | elapsed:    4.4s finished\n"
     ]
    },
    {
     "name": "stdout",
     "output_type": "stream",
     "text": [
      "DONE 50000\n"
     ]
    },
    {
     "name": "stderr",
     "output_type": "stream",
     "text": [
      "[Parallel(n_jobs=-1)]: Using backend ThreadingBackend with 12 concurrent workers.\n",
      "[Parallel(n_jobs=-1)]: Done  10 out of  10 | elapsed:    4.3s finished\n"
     ]
    },
    {
     "name": "stdout",
     "output_type": "stream",
     "text": [
      "DONE 100000\n"
     ]
    },
    {
     "name": "stderr",
     "output_type": "stream",
     "text": [
      "[Parallel(n_jobs=-1)]: Using backend ThreadingBackend with 12 concurrent workers.\n",
      "[Parallel(n_jobs=-1)]: Done  10 out of  10 | elapsed:    4.2s finished\n"
     ]
    },
    {
     "name": "stdout",
     "output_type": "stream",
     "text": [
      "DONE 150000\n"
     ]
    },
    {
     "name": "stderr",
     "output_type": "stream",
     "text": [
      "[Parallel(n_jobs=-1)]: Using backend ThreadingBackend with 12 concurrent workers.\n",
      "[Parallel(n_jobs=-1)]: Done  10 out of  10 | elapsed:    4.3s finished\n"
     ]
    },
    {
     "name": "stdout",
     "output_type": "stream",
     "text": [
      "DONE 200000\n"
     ]
    },
    {
     "name": "stderr",
     "output_type": "stream",
     "text": [
      "[Parallel(n_jobs=-1)]: Using backend ThreadingBackend with 12 concurrent workers.\n",
      "[Parallel(n_jobs=-1)]: Done  10 out of  10 | elapsed:    4.4s finished\n"
     ]
    },
    {
     "name": "stdout",
     "output_type": "stream",
     "text": [
      "DONE 250000\n"
     ]
    },
    {
     "name": "stderr",
     "output_type": "stream",
     "text": [
      "[Parallel(n_jobs=-1)]: Using backend ThreadingBackend with 12 concurrent workers.\n",
      "[Parallel(n_jobs=-1)]: Done  10 out of  10 | elapsed:    4.3s finished\n"
     ]
    },
    {
     "name": "stdout",
     "output_type": "stream",
     "text": [
      "DONE 300000\n"
     ]
    },
    {
     "name": "stderr",
     "output_type": "stream",
     "text": [
      "[Parallel(n_jobs=-1)]: Using backend ThreadingBackend with 12 concurrent workers.\n",
      "[Parallel(n_jobs=-1)]: Done  10 out of  10 | elapsed:    4.0s finished\n"
     ]
    },
    {
     "name": "stdout",
     "output_type": "stream",
     "text": [
      "DONE 350000\n"
     ]
    },
    {
     "name": "stderr",
     "output_type": "stream",
     "text": [
      "[Parallel(n_jobs=-1)]: Using backend ThreadingBackend with 12 concurrent workers.\n",
      "[Parallel(n_jobs=-1)]: Done  10 out of  10 | elapsed:    4.1s finished\n"
     ]
    },
    {
     "name": "stdout",
     "output_type": "stream",
     "text": [
      "DONE 400000\n"
     ]
    },
    {
     "name": "stderr",
     "output_type": "stream",
     "text": [
      "[Parallel(n_jobs=-1)]: Using backend ThreadingBackend with 12 concurrent workers.\n",
      "[Parallel(n_jobs=-1)]: Done  10 out of  10 | elapsed:    4.1s finished\n"
     ]
    },
    {
     "name": "stdout",
     "output_type": "stream",
     "text": [
      "DONE 450000\n"
     ]
    },
    {
     "name": "stderr",
     "output_type": "stream",
     "text": [
      "[Parallel(n_jobs=-1)]: Using backend ThreadingBackend with 12 concurrent workers.\n",
      "[Parallel(n_jobs=-1)]: Done  10 out of  10 | elapsed:    4.2s finished\n"
     ]
    },
    {
     "name": "stdout",
     "output_type": "stream",
     "text": [
      "DONE 500000\n"
     ]
    },
    {
     "name": "stderr",
     "output_type": "stream",
     "text": [
      "[Parallel(n_jobs=-1)]: Using backend ThreadingBackend with 12 concurrent workers.\n",
      "[Parallel(n_jobs=-1)]: Done  10 out of  10 | elapsed:    4.4s finished\n"
     ]
    },
    {
     "name": "stdout",
     "output_type": "stream",
     "text": [
      "DONE 550000\n"
     ]
    },
    {
     "name": "stderr",
     "output_type": "stream",
     "text": [
      "[Parallel(n_jobs=-1)]: Using backend ThreadingBackend with 12 concurrent workers.\n",
      "[Parallel(n_jobs=-1)]: Done  10 out of  10 | elapsed:    4.1s finished\n"
     ]
    },
    {
     "name": "stdout",
     "output_type": "stream",
     "text": [
      "DONE 600000\n"
     ]
    },
    {
     "name": "stderr",
     "output_type": "stream",
     "text": [
      "[Parallel(n_jobs=-1)]: Using backend ThreadingBackend with 12 concurrent workers.\n",
      "[Parallel(n_jobs=-1)]: Done  10 out of  10 | elapsed:    4.4s finished\n"
     ]
    },
    {
     "name": "stdout",
     "output_type": "stream",
     "text": [
      "DONE 650000\n"
     ]
    },
    {
     "name": "stderr",
     "output_type": "stream",
     "text": [
      "[Parallel(n_jobs=-1)]: Using backend ThreadingBackend with 12 concurrent workers.\n",
      "[Parallel(n_jobs=-1)]: Done  10 out of  10 | elapsed:    4.2s finished\n"
     ]
    },
    {
     "name": "stdout",
     "output_type": "stream",
     "text": [
      "DONE 700000\n"
     ]
    },
    {
     "name": "stderr",
     "output_type": "stream",
     "text": [
      "[Parallel(n_jobs=-1)]: Using backend ThreadingBackend with 12 concurrent workers.\n",
      "[Parallel(n_jobs=-1)]: Done  10 out of  10 | elapsed:    4.3s finished\n"
     ]
    },
    {
     "name": "stdout",
     "output_type": "stream",
     "text": [
      "DONE 750000\n"
     ]
    },
    {
     "name": "stderr",
     "output_type": "stream",
     "text": [
      "[Parallel(n_jobs=-1)]: Using backend ThreadingBackend with 12 concurrent workers.\n",
      "[Parallel(n_jobs=-1)]: Done  10 out of  10 | elapsed:    4.1s finished\n"
     ]
    },
    {
     "name": "stdout",
     "output_type": "stream",
     "text": [
      "DONE 800000\n"
     ]
    },
    {
     "name": "stderr",
     "output_type": "stream",
     "text": [
      "[Parallel(n_jobs=-1)]: Using backend ThreadingBackend with 12 concurrent workers.\n",
      "[Parallel(n_jobs=-1)]: Done  10 out of  10 | elapsed:    4.2s finished\n"
     ]
    },
    {
     "name": "stdout",
     "output_type": "stream",
     "text": [
      "DONE 850000\n"
     ]
    },
    {
     "name": "stderr",
     "output_type": "stream",
     "text": [
      "[Parallel(n_jobs=-1)]: Using backend ThreadingBackend with 12 concurrent workers.\n",
      "[Parallel(n_jobs=-1)]: Done  10 out of  10 | elapsed:    4.1s finished\n"
     ]
    },
    {
     "name": "stdout",
     "output_type": "stream",
     "text": [
      "DONE 900000\n"
     ]
    },
    {
     "name": "stderr",
     "output_type": "stream",
     "text": [
      "[Parallel(n_jobs=-1)]: Using backend ThreadingBackend with 12 concurrent workers.\n",
      "[Parallel(n_jobs=-1)]: Done  10 out of  10 | elapsed:    4.3s finished\n"
     ]
    },
    {
     "name": "stdout",
     "output_type": "stream",
     "text": [
      "DONE 950000\n"
     ]
    },
    {
     "name": "stderr",
     "output_type": "stream",
     "text": [
      "[Parallel(n_jobs=-1)]: Using backend ThreadingBackend with 12 concurrent workers.\n"
     ]
    },
    {
     "name": "stdout",
     "output_type": "stream",
     "text": [
      "DONE 1000000\n"
     ]
    },
    {
     "name": "stderr",
     "output_type": "stream",
     "text": [
      "[Parallel(n_jobs=-1)]: Done  10 out of  10 | elapsed:    3.8s finished\n"
     ]
    }
   ],
   "source": [
    "for line in looprange:\n",
    "    if line == 0:\n",
    "        #首次读取时，保留列名，并且不增加树的数量\n",
    "        header = \"infer\"\n",
    "        newtree = 0\n",
    "    else:\n",
    "        #非首次读取时，不要列名，每次增加10棵树\n",
    "        header = None\n",
    "        newtree = 10\n",
    "    \n",
    "    trainsubset = pd.read_csv(trainpath, header = header, index_col=0, skiprows=line, nrows=50000)\n",
    "    Xtrain = trainsubset.iloc[:,:-1]\n",
    "    Ytrain = trainsubset.iloc[:,-1]\n",
    "    reg.n_estimators += newtree\n",
    "    reg = reg.fit(Xtrain,Ytrain)\n",
    "    print(\"DONE\",line+50000)\n",
    "        \n",
    "    #当训练集的数据量小于50000时，打断循环\n",
    "    if Xtrain.shape[0] < 50000:\n",
    "        break"
   ]
  },
  {
   "cell_type": "markdown",
   "metadata": {},
   "source": [
    "现在，全部的99w数据都已经训练完毕了，我们可以在测试集上进行测试："
   ]
  },
  {
   "cell_type": "code",
   "execution_count": 171,
   "metadata": {},
   "outputs": [
    {
     "name": "stderr",
     "output_type": "stream",
     "text": [
      "C:\\ProgramData\\Anaconda3\\lib\\site-packages\\sklearn\\base.py:438: UserWarning: X has feature names, but RandomForestRegressor was fitted without feature names\n",
      "  warnings.warn(\n",
      "[Parallel(n_jobs=12)]: Using backend ThreadingBackend with 12 concurrent workers.\n",
      "[Parallel(n_jobs=12)]: Done  26 tasks      | elapsed:    0.0s\n",
      "[Parallel(n_jobs=12)]: Done 176 tasks      | elapsed:    0.0s\n",
      "[Parallel(n_jobs=12)]: Done 200 out of 200 | elapsed:    0.1s finished\n"
     ]
    },
    {
     "data": {
      "text/plain": [
       "0.9903482355083931"
      ]
     },
     "execution_count": 171,
     "metadata": {},
     "output_type": "execute_result"
    }
   ],
   "source": [
    "reg.score(Xtest,Ytest) #R2 99%，这可能与测试集上的数据太少有关"
   ]
  },
  {
   "cell_type": "markdown",
   "metadata": {},
   "source": [
    "当使用增量学习时，如果需要调参，我们则需要将增量学习循环打包成一个评估器或函数，以便在调参过程中不断调用，这个过程所需的计算量是异常大的，不过至少我们拥有了在CPU上训练巨大数据的方法。在后续的课程当中，我们将会讲解如何将随机森林或其他集成算法接入GPU进行训练，进一步提升我们可以训练的数据体量、进一步减少我们所需的训练时间。"
   ]
  },
  {
   "cell_type": "markdown",
   "metadata": {},
   "source": [
    "# 六 Bagging方法6大面试热点问题"
   ]
  },
  {
   "cell_type": "markdown",
   "metadata": {},
   "source": [
    "本节，我们总结关于随机森林和bagging的几个重点面试问题，深入地探讨一下Bagging算法背后相关的原理，这对于我们理解后续模型融合中的Voting与Averaging方法有重要的意义。本节一共包括6个问题：\n",
    "\n",
    "1、为什么Bagging算法的效果比单个评估器更好？<br>\n",
    "2、为什么Bagging可以降低方差？<br>\n",
    "3、Bagging有效的基本条件有哪些？Bagging的效果总是强于弱评估器吗？<br>\n",
    "4、Bagging方法可以集成决策树之外的算法吗？<br>\n",
    "5、怎样增强Bagging中弱评估器的独立性？<br>\n",
    "6、除了随机森林，你还知道其他Bagging算法吗？<br>"
   ]
  },
  {
   "cell_type": "markdown",
   "metadata": {},
   "source": [
    "- **Q1：为什么Bagging算法的效果比单个评估器更好？**\n",
    "\n",
    "~~千万不要回答“团结就是力量”~~。该问题其实是在考察Bagging方法降低模型泛化误差的基本原理。\n",
    "\n",
    "**泛化误差是模型在未知数据集上的误差，更低的泛化误差是所有机器学习/深度学习建模的根本目标**。在机器学习当中，泛化误差一般被认为由偏差、方差和噪音构成。其中偏差是预测值与真实值之间的差异，衡量模型的精度。方差是模型在不同数据集上输出的结果的方差，衡量模型稳定性。噪音是数据收集过程当中不可避免的、与数据真实分布无关的信息。\n",
    "\n",
    "当算法是回归算法、且模型衡量指标是MSE时，模型的泛化误差可以有如下定义：\n",
    "\n",
    "$$\\begin{aligned} 泛化误差 &= 偏差^2 + 方差 + 噪音^2 \\\\\n",
    "&= bias^2 + variance + noise^2 \\end{aligned}$$<center>（该公式可以通过泛化误差、偏差、方差与噪音的定义推导而得）</center>\n",
    "\n",
    "**Bagging的基本思想是借助弱评估器之间的“独立性”来降低方差**，从而降低整体的泛化误差。这个思想可以被推广到任意并行使用弱分类器的算法或融合方式上，极大程度地左右了并行融合方式的实际使用结果。其中，**“降低方差”指的是bagging算法输出结果的方差一定小于弱评估器输出结果的方差**，因此在相同数据上，随机森林往往比单棵决策树更加稳定，也因此随机森林的泛化能力往往比单棵决策树更强。"
   ]
  },
  {
   "cell_type": "markdown",
   "metadata": {},
   "source": [
    "- **Q2：为什么Bagging可以降低方差？**"
   ]
  },
  {
   "cell_type": "markdown",
   "metadata": {},
   "source": [
    "我们很难从直觉上来理解“Bagging降低方差”这个抽象的结论，更难探究其背后的原因，但我们可以通过数学的方式来理解它。\n",
    "\n",
    "以随机森林为例，假设现在随机森林中含有$n$个弱评估器（$n$棵树），任意弱评估器上的输出结果是$X_i$，则所有这些弱评估器输出结果的方差可以被表示为Var($X_i$)。假设现在我们执行回归任务，则森林的输出结果等于森林中所有树输出结果的平均值，因此森林的输出可以被表示为$\\bar{X} = \\frac{\\sum{X_i}}{n}$，因此随机森林输出结果的方差可以被表示为Var($\\bar{X}$)，也可以写作Var($\\frac{\\sum{X_i}}{n}$)。\n",
    "\n",
    "在数学上我们很容易证明：\n",
    "\n",
    "**<center><font color=\"red\">当森林中的树互相独立时，Var($\\boldsymbol{\\bar{X}}$)永远小于Var($\\boldsymbol{X_i}$)</font></center>**"
   ]
  },
  {
   "cell_type": "markdown",
   "metadata": {},
   "source": [
    "为了完成这个证明，我们需要几个定理：<br>\n",
    "- Var(A + B) = Var(A) + Var(B)，其中A和B是相互独立的随机变量<br>\n",
    "- Var(aB) = a$^2$Var(B)，其中a是任意常数<br>\n",
    "\n",
    "假设任意树输出的方差Var($X_i$) = $\\sigma^2$，则有：\n",
    "\n",
    "$$\\begin{aligned}\n",
    "Var(\\bar{X}) &= Var\\left(\\frac{1}{n}\\sum_{i=1}^{n}X_i\\right)\\\\\n",
    "&= \\frac{1}{n^2}Var\\left(\\sum_{i=1}^{n}X_i\\right)\\\\\n",
    "&= \\frac{1}{n^2} \\left( Var(X_1) + Var(X_2) + ... + Var(X_n) \\right)\\\\\n",
    "&= \\frac{1}{n^2}n\\sigma^2\\\\\n",
    "&= \\frac{\\sigma^2}{n}\n",
    "\\end{aligned}$$\n",
    "\n",
    "当$n$为正整数、且弱评估器之间相互独立时，必然有Var($\\bar{X}$) 永远小于Var($X_i$)，这是随机森林的泛化能力总是强于单一决策树的根本原因。"
   ]
  },
  {
   "cell_type": "markdown",
   "metadata": {},
   "source": [
    "那如果我们执行的是分类任务呢？在最初的时候，所有的集成算法都只适用于回归任务，甚至用于集成的弱分类器都只能是回归器，Bagging也是一样。因此在讨论Bagging算法的相关原理时，我们几乎总是从回归的角度出发，而忽略分类的角度，但Bagging降低方差的原理对分类同样有效。\n",
    "\n",
    "之前我们了解过，在随机森林分类器中，我们需要对每棵树上的输出结果进行少数服从多数的计算，并将“多数”指向的类别作为随机森林分类器的结果。例如："
   ]
  },
  {
   "cell_type": "code",
   "execution_count": 90,
   "metadata": {},
   "outputs": [],
   "source": [
    "r = np.array([-1,-1,-1, 1, 1, 1, 1]) #-1，1"
   ]
  },
  {
   "cell_type": "code",
   "execution_count": 91,
   "metadata": {},
   "outputs": [
    {
     "data": {
      "text/plain": [
       "4"
      ]
     },
     "execution_count": 91,
     "metadata": {},
     "output_type": "execute_result"
    }
   ],
   "source": [
    "(r == 1).sum()"
   ]
  },
  {
   "cell_type": "code",
   "execution_count": 92,
   "metadata": {},
   "outputs": [
    {
     "data": {
      "text/plain": [
       "3"
      ]
     },
     "execution_count": 92,
     "metadata": {},
     "output_type": "execute_result"
    }
   ],
   "source": [
    "(r == -1).sum()"
   ]
  },
  {
   "cell_type": "markdown",
   "metadata": {},
   "source": [
    "按少数服从多数结果，随机森林的输出应该是1。这个过程可以很容易使用函数来替代，只要我们对所有树的结果的均值套上sigmoid函数，再以0.5为阈值就可以。"
   ]
  },
  {
   "cell_type": "code",
   "execution_count": 117,
   "metadata": {},
   "outputs": [],
   "source": [
    "r = np.array([-1,-1,-1, 1, 1, 1, 1])"
   ]
  },
  {
   "cell_type": "code",
   "execution_count": 118,
   "metadata": {},
   "outputs": [
    {
     "data": {
      "text/plain": [
       "0.14285714285714285"
      ]
     },
     "execution_count": 118,
     "metadata": {},
     "output_type": "execute_result"
    }
   ],
   "source": [
    "r.mean()"
   ]
  },
  {
   "cell_type": "code",
   "execution_count": 119,
   "metadata": {},
   "outputs": [],
   "source": [
    "def sigmoid(z):\n",
    "    return 1/(1+np.e**(-z))"
   ]
  },
  {
   "cell_type": "code",
   "execution_count": 120,
   "metadata": {},
   "outputs": [
    {
     "data": {
      "text/plain": [
       "0.5356536708339716"
      ]
     },
     "execution_count": 120,
     "metadata": {},
     "output_type": "execute_result"
    }
   ],
   "source": [
    "sigmoid(r.mean())"
   ]
  },
  {
   "cell_type": "markdown",
   "metadata": {},
   "source": [
    "sigmoid函数的结果大于0.5，因此最终输出的类别为1。**当模型效果足够好时，sigmoid函数的结果一般与少数服从多数相一致**。"
   ]
  },
  {
   "cell_type": "markdown",
   "metadata": {},
   "source": [
    "因此，当弱评估器的方差是Var($X_i$)时，随机森林分类器的方差可以写作Var($f(\\bar{X})$)，其中$f(z)$就是sigmoid函数，$\\bar{X}$是所有弱评估器的分类结果的均值。在数学上我们也很容易证明：\n",
    "\n",
    "**<center><font color=\"red\">当森林中的树互相独立，且$f(x)$为sigmoid函数时，Var($\\boldsymbol{f(\\bar{X})}$)永远小于Var($\\boldsymbol{X_i}$)</font></center>**"
   ]
  },
  {
   "cell_type": "markdown",
   "metadata": {},
   "source": [
    "当$f(x)$为二阶可导函数时，根据泰勒展开我们可以有：\n",
    "\n",
    "- Var[f(A)] $\\approx$ (f'E[A]))$^2 * $Var[A]\n",
    "- 其中A为任意随机变量，f'为函数$f(x)$的一阶导数\n",
    "\n",
    "假设任意树输出的方差Var($X_i$) = $\\sigma^2$，则有：\n",
    "\n",
    "$$\\begin{aligned}\n",
    "Var(f(\\bar{X})) &\\approx f'(E[\\bar{X}])^2 * Var[\\bar{X}]\\\\\n",
    "&= f'(E[\\bar{X}])^2 * \\frac{\\sigma^2}{n}\n",
    "\\end{aligned}$$\n",
    "\n",
    "根据回归类算法的推导，我们很容易可以得到$Var[\\bar{X}] = \\frac{\\sigma^2}{n}$，因此上式的后半部分一定是小于$\\sigma^2$的。同时，式子的第一部分是sigmoid函数一阶导数的平方，sigmoid函数的一阶导数的取值范围为[0,0.25]，因此无论$E[\\bar{X}]$是怎样的一个值，该式子的前半部分一定是一个位于范围[0,0.0625]的数。一个小于1的数乘以$\\frac{\\sigma^2}{n}$必然会得到小于$\\sigma^2$的数。因此Var($\\boldsymbol{f(\\bar{X})}$)永远小于Var($\\boldsymbol{X_i}$)。相似的数学过程可以被推广至多分类，我们使用softmax函数/多对多方式来处理随机森林的结果。\n",
    "\n",
    "![](https://www.researchgate.net/publication/338121987/figure/fig7/AS:839282642124803@1577111983295/Sigmoid-function-and-its-derivative.ppm)"
   ]
  },
  {
   "cell_type": "markdown",
   "metadata": {},
   "source": [
    "- **Q3：Bagging有效的基本条件有哪些？Bagging的效果总是强于弱评估器吗？**"
   ]
  },
  {
   "cell_type": "markdown",
   "metadata": {},
   "source": [
    "在之前的学习当中，我们已经或多或少地涉及到了这个问题——Bagging当然不总是有效的，Bagging能够提升模型效果的条件有以下三个：\n",
    "\n",
    "- 1、弱评估器的偏差较低，特别地来说，弱分类器的准确率至少要达到50%以上\n",
    "- 2、弱评估器之间相关性弱，最好相互独立\n",
    "- 3、弱评估器是方差较高、不稳定的评估器"
   ]
  },
  {
   "cell_type": "markdown",
   "metadata": {},
   "source": [
    "第一个条件非常容易解释。Bagging集成算法是对基评估器的预测结果进行平均或用多数表决原则来决定集成评估器的结果。在分类的例子中，假设我们建立了25棵树，对任何一个样本而言，平均或多数表决原则下，当且仅当有13棵以上的树判断错误的时候，随机森林才会判断错误。假设单独一棵决策树在样本i上的分类准确率在0.8上下浮动，那一棵树判断错误的概率大约就有0.2(ε)，那随机森林判断错误的概率（有13棵及以上的树都判断错误的概率）是："
   ]
  },
  {
   "cell_type": "markdown",
   "metadata": {},
   "source": [
    "$$e_{random\\_forest} = \\sum_{i=13}^{25}C_{25}^{i}\\varepsilon^{i}(1-\\varepsilon)^{25-i} = 0.000369$$"
   ]
  },
  {
   "cell_type": "code",
   "execution_count": null,
   "metadata": {},
   "outputs": [],
   "source": [
    "1,2,3\n",
    "\n",
    "A (1,2),3    -  error * error * (1-error)\n",
    "B (1),2,(3)  -  error * (1 - error) * error\n",
    "C 1,(2,3)    - (1 - error) * error * error"
   ]
  },
  {
   "cell_type": "markdown",
   "metadata": {},
   "source": [
    "$C_3^2$ = 3\\*2/2*1"
   ]
  },
  {
   "cell_type": "code",
   "execution_count": null,
   "metadata": {},
   "outputs": [],
   "source": [
    "3(error^2 * (1-error))"
   ]
  },
  {
   "cell_type": "markdown",
   "metadata": {},
   "source": [
    "判断错误的棵数为i\n",
    "$C_{25}^{i}(error^i * (1-error)^{(25-i)})$\n",
    "\n",
    "\n",
    "A $C_{25}^{13}(error^13 * (1-error)^{(25-13)})$\n",
    "B $C_{25}^{14}(error^14 * (1-error)^{(25-14)})$\n",
    "C $C_{25}^{15}(error^15 * (1-error)^{(25-15)})$\n",
    "...\n",
    "\n",
    "K"
   ]
  },
  {
   "cell_type": "code",
   "execution_count": null,
   "metadata": {},
   "outputs": [],
   "source": [
    "P(A或者B或者C) = P(A) + P(B) + P(C)"
   ]
  },
  {
   "cell_type": "markdown",
   "metadata": {},
   "source": [
    "其中，i是判断错误的次数，也是判错的树的数量，ε是一棵树判断错误的概率，（1-ε）是判断正确的概率，共判对25-i次。采用组合，是因为25棵树中，有任意i棵都判断错误。"
   ]
  },
  {
   "cell_type": "code",
   "execution_count": null,
   "metadata": {},
   "outputs": [
    {
     "data": {
      "text/plain": [
       "0.00036904803455582827"
      ]
     },
     "execution_count": 123,
     "metadata": {},
     "output_type": "execute_result"
    }
   ],
   "source": [
    "import numpy as np\n",
    "from scipy.special import comb\n",
    "\n",
    "np.array([comb(25,i)*(0.2**i)*((1-0.2)**(25-i)) for i in range(13,26)]).sum()"
   ]
  },
  {
   "cell_type": "markdown",
   "metadata": {},
   "source": [
    "可见，判断错误的几率非常小，这让随机森林的表现比单棵决策树好很多。基于上述式子，我们可以绘制出以弱分类器的误差率ε为横坐标、随机森林的误差率为纵坐标的图像。大家可以自己运行一下这段代码，看看图像呈什么样的分布。"
   ]
  },
  {
   "cell_type": "code",
   "execution_count": 127,
   "metadata": {},
   "outputs": [
    {
     "data": {
      "image/png": "[encoded data removed]",
      "text/plain": [
       "<Figure size 432x288 with 1 Axes>"
      ]
     },
     "metadata": {
      "needs_background": "light"
     },
     "output_type": "display_data"
    }
   ],
   "source": [
    "import numpy as np\n",
    "\n",
    "x = np.linspace(0,1,20)\n",
    "\n",
    "y = []\n",
    "for epsilon in np.linspace(0,1,20):\n",
    "    E = np.array([comb(25,i)*(epsilon**i)*((1-epsilon)**(25-i)) \n",
    "                  for i in range(13,26)]).sum()\n",
    "    y.append(E)\n",
    "plt.plot(x,y,\"o-\")\n",
    "plt.plot(x,x,\"--\",color=\"red\")\n",
    "plt.xlabel(\"individual estimator's error\")\n",
    "plt.ylabel(\"RandomForest's error\")\n",
    "plt.grid()\n",
    "plt.show()"
   ]
  },
  {
   "cell_type": "markdown",
   "metadata": {},
   "source": [
    "可以从图像上看出，当基分类器的误差率小于0.5，即准确率大于0.5时，集成的效果是比弱分类器要好的。相反，当基分类器的误差率大于0.5，袋装的集成算法就失效了。所以在使用随机森林之前，一定要检查，用来组成随机森林的分类树们是否都有至少50%的预测正确率。"
   ]
  },
  {
   "cell_type": "markdown",
   "metadata": {},
   "source": [
    "对于第二个条件，我们在证明Bagging降低方差的数学过程中已经申明了很多次，唯有弱评估器之间相互独立、弱评估器输出的结果相互独立时，方差计算公式的前提假设才能被满足，Bagging才能享受降低方差的福利。\n",
    "\n",
    "然而在现实中，森林中的弱评估器很难完全相互独立，因为所有弱评估器都是在相同的数据上进行训练的、因此构建出的树结构也大同小异。幸运的是，我们能够衡量弱评估器之间相关性。以随机森林回归为例，假设任意弱评估器之间的相关系数为$ρ$（读音Rho），则随机森林输出结果的方差等于：\n",
    "\n",
    "<center>$$Var(\\boldsymbol{\\bar{X}}) = \\frac{\\sigma^2}{n} + \\frac{n-1}{n}\\rho\\sigma^2$$</center><br>\n",
    "\n",
    "这个公式是根据比奈梅定义(Bienaymé's Identity)与协方差相关的公式推导出来的，这暗示**随机森林输出结果的方差与森林中弱评估器之间的相关性是负相关的**，弱评估器之间的相关性越强，随机森林输出的结果的方差就越大，Bagging方法通过降低方差而获得的泛化能力就越小。因此在使用随机森林时，我们需要让弱评估器之间尽量相互独立，我们也可以通过这一点来提升随机森林的水平。"
   ]
  },
  {
   "cell_type": "markdown",
   "metadata": {},
   "source": [
    "同样，因为Bagging是作用于方差的集成手段，所以Bagging方法擅长处理方差大、偏差低的模型，而不擅长处理方差小、偏差大的模型，这能够解释Bagging有效的剩下两个原因。\n",
    "\n",
    "对于任意算法而言，方差与偏差往往不可兼得，这也很容易理解——想要在当前数据集上获得低偏差，必然意味着需要重点学习当前数据集上的规律，就不可避免地会忽略未知数据集上的规律，因此在不同数据集上进行测试时，模型结果的方差往往很大。\n",
    "\n",
    "- **Q4：Bagging方法可以集成决策树之外的算法吗？**\n",
    "\n",
    "强大又复杂的算法如决策树、支持向量机等，往往学习能力较强，倾向于表现为偏差低、方差高，这些算法就比较适合于Bagging。而线性回归、逻辑回归、KNN等复杂度较低的算法，学习能力较弱但表现稳定，因此倾向于表现为偏差高，方差低，就不太适合被用于Bagging。这也解答了另一个常见面试问题：Bagging除了能用于决策树，还能用于其他弱评估器吗？现在答案已经很清晰了。"
   ]
  },
  {
   "cell_type": "markdown",
   "metadata": {},
   "source": [
    "在sklearn当中，我们可以使用以下类来轻松实现Bagging:"
   ]
  },
  {
   "cell_type": "markdown",
   "metadata": {},
   "source": [
    "*class* `sklearn.ensemble.BaggingRegressor`(base_estimator=None, n_estimators=10, *, max_samples=1.0, max_features=1.0, bootstrap=True, bootstrap_features=False, oob_score=False, warm_start=False, n_jobs=None, random_state=None, verbose=0)\n",
    "\n",
    "*class* `sklearn.ensemble.BaggingClassifier`(base_estimator=None, n_estimators=10, *, max_samples=1.0, max_features=1.0, bootstrap=True, bootstrap_features=False, oob_score=False, warm_start=False, n_jobs=None, random_state=None, verbose=0)\n",
    "\n",
    "不难发现，这两个类的参数与随机森林大同小异，只不过因为弱分类器不再局限于树模型，因此不再具有对树模型进行剪枝的一系列参数。只要你对随机森林有深入的掌握，便可以轻松使用这两个类。需要注意的是，这两个类只能够接受sklearn中的评估器作为弱评估器。"
   ]
  },
  {
   "cell_type": "markdown",
   "metadata": {},
   "source": [
    "- **Q5：怎样增强Bagging中弱评估器的独立性？**"
   ]
  },
  {
   "cell_type": "markdown",
   "metadata": {},
   "source": [
    "正如之前所说，在实际使用数据进行训练时，我们很难让Bagging中的弱评估器完全相互独立，主要是因为：\n",
    "\n",
    "- 训练的数据一致\n",
    "- 弱评估器构建的规则一致\n",
    "\n",
    "导致最终建立的弱评估器都大同小异，Bagging的效力无法完整发挥出来。为了弱评估器构建规则一致的问题，我们有了Averaging和Voting这样的模型融合方法：基本来看，就是使用Bagging的逻辑来融合数个不同算法的结果。而当我们不使用模型融合时，我们可以使用“随机性”来削弱弱分类器之间的联系、增强独立性、提升随机森林的效果。\n",
    "\n",
    "在随机森林中，天生就存在有放回随机抽取样本建树的机制，因此才会有bootstrap、max_samples等参数，才会有袋外数据、袋外评估指标oob_score等属性，意在使用不同的数据建立弱评估器。除了有放回随机抽样之外，还可以使用max_features随机抽样特征进行分枝，加大弱评估器之间的区别。\n",
    "\n",
    "正因为存在不同的随机的方式，Bagging集成方法下才有了多种不同的算法。"
   ]
  },
  {
   "cell_type": "markdown",
   "metadata": {},
   "source": [
    "- **Q6：除了随机森林，你还知道其他Bagging算法吗？**"
   ]
  },
  {
   "cell_type": "markdown",
   "metadata": {},
   "source": [
    "Bagging方法的原理简单，因此Bagging算法之间的不同主要体现在随机性的不同上。在上世纪90年代，对样本抽样的bagging、对特征抽样的bagging、对样本和特征都抽样的bagging都有不同的名字，不过今天，所有这些算法都被认为是装袋法或装袋法的延展。在sklearn当中，除了随机森林之外还提供另一个bagging算法：极端随机树。极端随机树是一种比随机森林更随机、对方差降低更多的算法，我们可以通过以下两个类来实现它："
   ]
  },
  {
   "cell_type": "markdown",
   "metadata": {},
   "source": [
    "*class* `sklearn.ensemble.ExtraTreesClassifier`(n_estimators=100, *, criterion='gini', max_depth=None, min_samples_split=2, min_samples_leaf=1, min_weight_fraction_leaf=0.0, max_features='auto', max_leaf_nodes=None, min_impurity_decrease=0.0, bootstrap=False, oob_score=False, n_jobs=None, random_state=None, verbose=0, warm_start=False, class_weight=None, ccp_alpha=0.0, max_samples=None)\n",
    "\n",
    "*class* `sklearn.ensemble.ExtraTreesRegressor`(n_estimators=100, *, criterion='squared_error', max_depth=None, min_samples_split=2, min_samples_leaf=1, min_weight_fraction_leaf=0.0, max_features='auto', max_leaf_nodes=None, min_impurity_decrease=0.0, bootstrap=False, oob_score=False, n_jobs=None, random_state=None, verbose=0, warm_start=False, ccp_alpha=0.0, max_samples=None)"
   ]
  },
  {
   "cell_type": "markdown",
   "metadata": {},
   "source": [
    "与随机森林一样，极端随机树在建树时会随机挑选特征，但不同的是，随机森林会将随机挑选出的特征上**每个节点**都进行完整、精致的不纯度计算，然后挑选出最优节点，而极端随机树则会**随机选择数个节点**进行不纯度计算，然后选出这些节点中不纯度下降最多的节点。这样生长出的树比随机森林中的树更不容易过拟合，同时独立性更强，因此极端随机树可以更大程度地降低方差。\n",
    "\n",
    "当然了，这种手段往往也会带来偏差的急剧下降，因此极端随机树是只适用于方差过大、非常不稳定的数据的。除非特殊情况，我们不会考虑使用极端随机树，但了解这个算法的存在也是一件好事。"
   ]
  }
 ],
 "metadata": {
  "kernelspec": {
   "display_name": "Python 3 (ipykernel)",
   "language": "python",
   "name": "python3"
  },
  "language_info": {
   "codemirror_mode": {
    "name": "ipython",
    "version": 3
   },
   "file_extension": ".py",
   "mimetype": "text/x-python",
   "name": "python",
   "nbconvert_exporter": "python",
   "pygments_lexer": "ipython3",
   "version": "3.9.7"
  }
 },
 "nbformat": 4,
 "nbformat_minor": 4
}
