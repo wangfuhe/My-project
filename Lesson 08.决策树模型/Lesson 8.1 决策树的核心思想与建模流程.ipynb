{
 "cells": [
  {
   "cell_type": "markdown",
   "metadata": {},
   "source": [
    "# Lesson 8.1 决策树的核心思想与建模流程"
   ]
  },
  {
   "cell_type": "markdown",
   "metadata": {},
   "source": [
    "&emsp;&emsp;从本节课开始，我们将介绍经典机器学习领域中最重要的一类有监督学习算法——树模型（决策树）。        \n",
    "&emsp;&emsp;可此前的聚类算法类似，树模型也同样不是一个模型，而是一类模型的概称。树模型不仅运算效率高、模型判别能力强、而且原理简单过程清晰、可解释性强，是机器学习领域内为数不多的“白箱模型”。并且就树模型本身的功能来说，除了能够同时进行分类和回归预测外，还能够产出包括特征重要性、连续变量分箱指标等重要附加结论，而在集成学习中，最为常用的基础分类器也正是树模型。正是这些优势，使得树模型成为目前机器学习领域最为重要的模型之一。"
   ]
  },
  {
   "cell_type": "markdown",
   "metadata": {},
   "source": [
    "## 一、借助逻辑回归构建决策树"
   ]
  },
  {
   "cell_type": "markdown",
   "metadata": {},
   "source": [
    "&emsp;&emsp;那到底什么是树模型？接下来我们简单介绍树模型建模的基本思想  。      \n",
    "&emsp;&emsp;尽管树模型作为经典模型，发展至今已是算法数量众多、流派众多，但大多数树模型的基本思想其实是相通的，我们可以用一句话来解释树模型的模型形态和建模目标，那就是：挖掘有效分类规则并以树状形式呈现。接下来我们就以一个简单实例进行说明，我们借助此前所学的基本建模知识，尝试复现决策树的基本分类思想。"
   ]
  },
  {
   "cell_type": "code",
   "execution_count": 1,
   "metadata": {},
   "outputs": [],
   "source": [
    "# 科学计算模块\n",
    "import numpy as np\n",
    "import pandas as pd\n",
    "\n",
    "# 绘图模块\n",
    "import matplotlib as mpl\n",
    "import matplotlib.pyplot as plt\n",
    "\n",
    "# 自定义模块\n",
    "from ML_basic_function import *\n",
    "\n",
    "# Scikit-Learn相关模块\n",
    "# 评估器类\n",
    "from sklearn.preprocessing import StandardScaler\n",
    "from sklearn.preprocessing import PolynomialFeatures\n",
    "from sklearn.linear_model import LogisticRegression\n",
    "from sklearn.pipeline import make_pipeline\n",
    "from sklearn.model_selection import GridSearchCV\n",
    "\n",
    "# 实用函数\n",
    "from sklearn.model_selection import train_test_split\n",
    "from sklearn.metrics import accuracy_score\n",
    "\n",
    "# 数据准备\n",
    "from sklearn.datasets import load_iris"
   ]
  },
  {
   "cell_type": "markdown",
   "metadata": {},
   "source": [
    "&emsp;&emsp;在Lesson 6.5节中，我们曾围绕鸢尾花数据集构建了多分类逻辑回归模型并且采用网格搜索对其进行最优超参数搜索，其基本过程如下："
   ]
  },
  {
   "cell_type": "code",
   "execution_count": 2,
   "metadata": {},
   "outputs": [],
   "source": [
    "# 数据准备\n",
    "X, y = load_iris(return_X_y=True)\n",
    "X_train, X_test, y_train, y_test = train_test_split(X, y, random_state=24)"
   ]
  },
  {
   "cell_type": "code",
   "execution_count": 3,
   "metadata": {},
   "outputs": [
    {
     "data": {
      "text/plain": [
       "GridSearchCV(estimator=LogisticRegression(max_iter=1000000, solver='saga'),\n",
       "             param_grid={'C': [1, 0.5, 0.1, 0.05, 0.01],\n",
       "                         'penalty': ['l1', 'l2']})"
      ]
     },
     "execution_count": 3,
     "metadata": {},
     "output_type": "execute_result"
    }
   ],
   "source": [
    "# 模型训练\n",
    "\n",
    "# 实例化模型\n",
    "clf = LogisticRegression(max_iter=int(1e6), solver='saga')\n",
    "# 构建参数空间\n",
    "param_grid_simple = {'penalty': ['l1', 'l2'],\n",
    "                     'C': [1, 0.5, 0.1, 0.05, 0.01]}\n",
    "# 构建网格搜索评估器\n",
    "search = GridSearchCV(estimator=clf,\n",
    "                      param_grid=param_grid_simple)\n",
    "\n",
    "# 模型训练\n",
    "search.fit(X_train, y_train)"
   ]
  },
  {
   "cell_type": "code",
   "execution_count": 4,
   "metadata": {},
   "outputs": [
    {
     "data": {
      "text/plain": [
       "{'C': 1, 'penalty': 'l1'}"
      ]
     },
     "execution_count": 4,
     "metadata": {},
     "output_type": "execute_result"
    }
   ],
   "source": [
    "search.best_params_"
   ]
  },
  {
   "cell_type": "code",
   "execution_count": 5,
   "metadata": {},
   "outputs": [
    {
     "data": {
      "text/plain": [
       "array([[ 0.        ,  0.        , -3.47337669,  0.        ],\n",
       "       [ 0.        ,  0.        ,  0.        ,  0.        ],\n",
       "       [-0.55511761, -0.34237661,  3.03227709,  4.12148646]])"
      ]
     },
     "execution_count": 5,
     "metadata": {},
     "output_type": "execute_result"
    }
   ],
   "source": [
    "search.best_estimator_.coef_"
   ]
  },
  {
   "cell_type": "code",
   "execution_count": 6,
   "metadata": {},
   "outputs": [
    {
     "data": {
      "text/plain": [
       "array([ 11.85884734,   2.65291107, -14.51175841])"
      ]
     },
     "execution_count": 6,
     "metadata": {},
     "output_type": "execute_result"
    }
   ],
   "source": [
    "search.best_estimator_.intercept_"
   ]
  },
  {
   "cell_type": "markdown",
   "metadata": {},
   "source": [
    "&emsp;&emsp;我们发现，在参数组取值为{'C': 1, 'penalty': 'l1'}的情况下，三个逻辑回归方程中，第一个方程只包含一个系数，也就是说明第一个方程实际上只用到了原数据集的一个特征，第二个方程自变量系数均为0、基本属于无用方程，而只有第三个方程自变量系数都不是0、看起来比较正常“正常”。我们知道，对于多分类问题，逻辑回归所构建的模型方程实际上是每个方程对应预测一个类别，而由于总共只有三个类别，因此是允许存在一个类别的预测方程失效的，只要剩下的两个类别能够各自完成对应类别的预测，则剩下的样本就属于第三类。此处我们需要重点关注的是第一个方程，该方程只有一个非零系数，其背后含义是模型只借助特征矩阵中的第三个特征，就很好的将第一类鸢尾花和其他鸢尾花区分开了。"
   ]
  },
  {
   "cell_type": "markdown",
   "metadata": {},
   "source": [
    "我们进一步观察数据和第三个特征对于第一个类别的分类结果："
   ]
  },
  {
   "cell_type": "code",
   "execution_count": 7,
   "metadata": {},
   "outputs": [],
   "source": [
    "iris = load_iris(as_frame=True)"
   ]
  },
  {
   "cell_type": "code",
   "execution_count": 8,
   "metadata": {},
   "outputs": [
    {
     "data": {
      "text/html": [
       "<div>\n",
       "<style scoped>\n",
       "    .dataframe tbody tr th:only-of-type {\n",
       "        vertical-align: middle;\n",
       "    }\n",
       "\n",
       "    .dataframe tbody tr th {\n",
       "        vertical-align: top;\n",
       "    }\n",
       "\n",
       "    .dataframe thead th {\n",
       "        text-align: right;\n",
       "    }\n",
       "</style>\n",
       "<table border=\"1\" class=\"dataframe\">\n",
       "  <thead>\n",
       "    <tr style=\"text-align: right;\">\n",
       "      <th></th>\n",
       "      <th>sepal length (cm)</th>\n",
       "      <th>sepal width (cm)</th>\n",
       "      <th>petal length (cm)</th>\n",
       "      <th>petal width (cm)</th>\n",
       "    </tr>\n",
       "  </thead>\n",
       "  <tbody>\n",
       "    <tr>\n",
       "      <th>0</th>\n",
       "      <td>5.1</td>\n",
       "      <td>3.5</td>\n",
       "      <td>1.4</td>\n",
       "      <td>0.2</td>\n",
       "    </tr>\n",
       "    <tr>\n",
       "      <th>1</th>\n",
       "      <td>4.9</td>\n",
       "      <td>3.0</td>\n",
       "      <td>1.4</td>\n",
       "      <td>0.2</td>\n",
       "    </tr>\n",
       "    <tr>\n",
       "      <th>2</th>\n",
       "      <td>4.7</td>\n",
       "      <td>3.2</td>\n",
       "      <td>1.3</td>\n",
       "      <td>0.2</td>\n",
       "    </tr>\n",
       "    <tr>\n",
       "      <th>3</th>\n",
       "      <td>4.6</td>\n",
       "      <td>3.1</td>\n",
       "      <td>1.5</td>\n",
       "      <td>0.2</td>\n",
       "    </tr>\n",
       "    <tr>\n",
       "      <th>4</th>\n",
       "      <td>5.0</td>\n",
       "      <td>3.6</td>\n",
       "      <td>1.4</td>\n",
       "      <td>0.2</td>\n",
       "    </tr>\n",
       "    <tr>\n",
       "      <th>...</th>\n",
       "      <td>...</td>\n",
       "      <td>...</td>\n",
       "      <td>...</td>\n",
       "      <td>...</td>\n",
       "    </tr>\n",
       "    <tr>\n",
       "      <th>145</th>\n",
       "      <td>6.7</td>\n",
       "      <td>3.0</td>\n",
       "      <td>5.2</td>\n",
       "      <td>2.3</td>\n",
       "    </tr>\n",
       "    <tr>\n",
       "      <th>146</th>\n",
       "      <td>6.3</td>\n",
       "      <td>2.5</td>\n",
       "      <td>5.0</td>\n",
       "      <td>1.9</td>\n",
       "    </tr>\n",
       "    <tr>\n",
       "      <th>147</th>\n",
       "      <td>6.5</td>\n",
       "      <td>3.0</td>\n",
       "      <td>5.2</td>\n",
       "      <td>2.0</td>\n",
       "    </tr>\n",
       "    <tr>\n",
       "      <th>148</th>\n",
       "      <td>6.2</td>\n",
       "      <td>3.4</td>\n",
       "      <td>5.4</td>\n",
       "      <td>2.3</td>\n",
       "    </tr>\n",
       "    <tr>\n",
       "      <th>149</th>\n",
       "      <td>5.9</td>\n",
       "      <td>3.0</td>\n",
       "      <td>5.1</td>\n",
       "      <td>1.8</td>\n",
       "    </tr>\n",
       "  </tbody>\n",
       "</table>\n",
       "<p>150 rows × 4 columns</p>\n",
       "</div>"
      ],
      "text/plain": [
       "     sepal length (cm)  sepal width (cm)  petal length (cm)  petal width (cm)\n",
       "0                  5.1               3.5                1.4               0.2\n",
       "1                  4.9               3.0                1.4               0.2\n",
       "2                  4.7               3.2                1.3               0.2\n",
       "3                  4.6               3.1                1.5               0.2\n",
       "4                  5.0               3.6                1.4               0.2\n",
       "..                 ...               ...                ...               ...\n",
       "145                6.7               3.0                5.2               2.3\n",
       "146                6.3               2.5                5.0               1.9\n",
       "147                6.5               3.0                5.2               2.0\n",
       "148                6.2               3.4                5.4               2.3\n",
       "149                5.9               3.0                5.1               1.8\n",
       "\n",
       "[150 rows x 4 columns]"
      ]
     },
     "execution_count": 8,
     "metadata": {},
     "output_type": "execute_result"
    }
   ],
   "source": [
    "iris.data"
   ]
  },
  {
   "cell_type": "code",
   "execution_count": 9,
   "metadata": {},
   "outputs": [
    {
     "data": {
      "text/plain": [
       "array([1, 1, 1, 1, 1, 1, 1, 1, 1, 1, 1, 1, 1, 1, 1, 1, 1, 1, 1, 1, 1, 1,\n",
       "       1, 1, 1, 1, 1, 1, 1, 1, 1, 1, 1, 1, 1, 1, 1, 1, 1, 1, 1, 1, 1, 1,\n",
       "       1, 1, 1, 1, 1, 1, 2, 2, 2, 2, 2, 2, 2, 2, 2, 2, 2, 2, 2, 2, 2, 2,\n",
       "       2, 2, 2, 2, 2, 2, 2, 2, 2, 2, 2, 2, 2, 2, 2, 2, 2, 2, 2, 2, 2, 2,\n",
       "       2, 2, 2, 2, 2, 2, 2, 2, 2, 2, 2, 2])"
      ]
     },
     "execution_count": 9,
     "metadata": {},
     "output_type": "execute_result"
    }
   ],
   "source": [
    "t = np.array(iris.target)\n",
    "t[50:]"
   ]
  },
  {
   "cell_type": "code",
   "execution_count": 10,
   "metadata": {},
   "outputs": [
    {
     "data": {
      "text/plain": [
       "array([0, 0, 0, 0, 0, 0, 0, 0, 0, 0, 0, 0, 0, 0, 0, 0, 0, 0, 0, 0, 0, 0,\n",
       "       0, 0, 0, 0, 0, 0, 0, 0, 0, 0, 0, 0, 0, 0, 0, 0, 0, 0, 0, 0, 0, 0,\n",
       "       0, 0, 0, 0, 0, 0, 1, 1, 1, 1, 1, 1, 1, 1, 1, 1, 1, 1, 1, 1, 1, 1,\n",
       "       1, 1, 1, 1, 1, 1, 1, 1, 1, 1, 1, 1, 1, 1, 1, 1, 1, 1, 1, 1, 1, 1,\n",
       "       1, 1, 1, 1, 1, 1, 1, 1, 1, 1, 1, 1, 1, 1, 1, 1, 1, 1, 1, 1, 1, 1,\n",
       "       1, 1, 1, 1, 1, 1, 1, 1, 1, 1, 1, 1, 1, 1, 1, 1, 1, 1, 1, 1, 1, 1,\n",
       "       1, 1, 1, 1, 1, 1, 1, 1, 1, 1, 1, 1, 1, 1, 1, 1, 1, 1])"
      ]
     },
     "execution_count": 10,
     "metadata": {},
     "output_type": "execute_result"
    }
   ],
   "source": [
    "# 将2、3类划归为一类\n",
    "t[50:] = 1\n",
    "t"
   ]
  },
  {
   "cell_type": "code",
   "execution_count": 11,
   "metadata": {},
   "outputs": [],
   "source": [
    "# 此处提取第3、4个特征放置二维空间进行观察，用第三个特征和其他特征组合也是类似\n",
    "d = np.array(iris.data.iloc[:, 2: 4])"
   ]
  },
  {
   "cell_type": "code",
   "execution_count": 12,
   "metadata": {},
   "outputs": [
    {
     "data": {
      "text/plain": [
       "[<matplotlib.lines.Line2D at 0x7ffb7881bd30>]"
      ]
     },
     "execution_count": 12,
     "metadata": {},
     "output_type": "execute_result"
    },
    {
     "data": {
      "image/png": "[encoded data removed]",
      "text/plain": [
       "<Figure size 432x288 with 1 Axes>"
      ]
     },
     "metadata": {
      "needs_background": "light"
     },
     "output_type": "display_data"
    }
   ],
   "source": [
    "plt.scatter(d[:, 0], d[:, 1], c=t)\n",
    "plt.plot(np.array([2.5]*25), np.arange(0, 2.5, 0.1), 'r--')"
   ]
  },
  {
   "cell_type": "markdown",
   "metadata": {},
   "source": [
    "&emsp;&emsp;我们发现，确实可以通过第三个特征（横坐标）很好的区分第一类（紫色点簇）和其他两类（黄色点簇），也就是说，从分类结果来看，我们能够简单通过一个分类规则来区分第一类鸢尾花和其他两类，例如从上图可以看出，我们可以以petal length (cm) <= 2.5作为分类条件，当分类条件满足时，鸢尾花属于第一类，否则就属于第二、三类。至此我们集完成了对上述数据集的初步分类，基本分类情况可以通过下图来进行表示："
   ]
  },
  {
   "cell_type": "markdown",
   "metadata": {},
   "source": [
    "<center><img src=\"https://tva1.sinaimg.cn/large/008i3skNly1gsjsq3lmuhj31bo0kw40k.jpg\" alt=\"1\" style=\"zoom:30%;\" /></center>"
   ]
  },
  {
   "cell_type": "markdown",
   "metadata": {},
   "source": [
    "&emsp;&emsp;当然围绕上述未分类的二、三类鸢尾花数据，我们能否进一步找到类似刚才的分类规则对其进行有效分类呢？当然此处由于我们希望分类规则能够尽可能简洁，我们力求找出根据某一个特征的取值划分就能对数据集进行有效分类的方法，这时我们可以考虑先利用逻辑回归的l1正则化挑选出对二、三类分类最有分类效力的特征（也就是最重要的特征），然后根据只有一个特征系数不为0的带l1正则化的逻辑回归建模结果、找到决策边界，而该决策边界就是依据该单独特征划分Iris二、三类子数据的最佳方法。我们可以通过下述代码实现："
   ]
  },
  {
   "cell_type": "code",
   "execution_count": 13,
   "metadata": {},
   "outputs": [],
   "source": [
    "# 提取待分类的子数据集\n",
    "X = np.array(iris.data)[t == 1]\n",
    "y = np.array(iris.target)[t == 1]"
   ]
  },
  {
   "cell_type": "markdown",
   "metadata": {},
   "source": [
    "接下来，我们构建一个包含l1正则化的逻辑回归模型，并通过不断调整C的取值、通过观察参数系数变化情况来挑选最重要的特征："
   ]
  },
  {
   "cell_type": "code",
   "execution_count": 60,
   "metadata": {},
   "outputs": [],
   "source": [
    "C_l = np.linspace(1, 0.1, 100)"
   ]
  },
  {
   "cell_type": "code",
   "execution_count": 61,
   "metadata": {},
   "outputs": [],
   "source": [
    "coef_l = []\n",
    "\n",
    "for C in C_l:\n",
    "    clf = LogisticRegression(penalty='l1', C=C, max_iter=int(1e6), solver='saga').fit(X, y)\n",
    "    coef_l.append(clf.coef_.flatten())"
   ]
  },
  {
   "cell_type": "code",
   "execution_count": 68,
   "metadata": {},
   "outputs": [
    {
     "data": {
      "text/plain": [
       "Text(0, 0.5, 'weights')"
      ]
     },
     "execution_count": 68,
     "metadata": {},
     "output_type": "execute_result"
    },
    {
     "data": {
      "image/png": "[encoded data removed]",
      "text/plain": [
       "<Figure size 432x288 with 1 Axes>"
      ]
     },
     "metadata": {
      "needs_background": "light"
     },
     "output_type": "display_data"
    }
   ],
   "source": [
    "ax = plt.gca()\n",
    "ax.plot(C_l, coef_l)\n",
    "ax.set_xlim(ax.get_xlim()[::-1])\n",
    "plt.xlabel('C')\n",
    "plt.ylabel('weights')"
   ]
  },
  {
   "cell_type": "code",
   "execution_count": 67,
   "metadata": {
    "collapsed": true,
    "jupyter": {
     "outputs_hidden": true
    }
   },
   "outputs": [
    {
     "data": {
      "text/plain": [
       "[array([-1.12493251, -0.96058774,  3.23208646,  4.18486998]),\n",
       " array([-1.10210628, -0.91621566,  3.23983307,  4.15696154]),\n",
       " array([-1.09239629, -0.89555328,  3.23399288,  4.13377003]),\n",
       " array([-1.08811789, -0.88498435,  3.22207551,  4.11256892]),\n",
       " array([-1.06705294, -0.84236856,  3.2289702 ,  4.08417288]),\n",
       " array([-1.05818676, -0.82271916,  3.22212123,  4.06049626]),\n",
       " array([-1.04514314, -0.79483425,  3.22012176,  4.034832  ]),\n",
       " array([-1.03859953, -0.77953758,  3.21025372,  4.01174608]),\n",
       " array([-1.02237904, -0.74473771,  3.21227469,  3.98396209]),\n",
       " array([-1.01620836, -0.73001684,  3.20160007,  3.96062442]),\n",
       " array([-0.99903143, -0.69243737,  3.20521982,  3.9315887 ]),\n",
       " array([-0.98882191, -0.66904752,  3.19966674,  3.90573051]),\n",
       " array([-0.97415883, -0.63587402,  3.2003062 ,  3.87718618]),\n",
       " array([-0.96452518, -0.61330431,  3.19380232,  3.8510462 ]),\n",
       " array([-0.95257941, -0.58551283,  3.19060737,  3.8232743 ]),\n",
       " array([-0.9405302 , -0.55717711,  3.18755498,  3.79513594]),\n",
       " array([-0.92797551, -0.52743767,  3.18526488,  3.76634082]),\n",
       " array([-0.92072072, -0.50938749,  3.17475278,  3.74036246]),\n",
       " array([-0.90510269, -0.47211112,  3.17719028,  3.70899839]),\n",
       " array([-0.89009202, -0.43569901,  3.1788934 ,  3.67756566]),\n",
       " array([-0.87766924, -0.4050523 ,  3.17640578,  3.64738615]),\n",
       " array([-0.87286899, -0.39228757,  3.16090415,  3.62179933]),\n",
       " array([-0.85425355, -0.34619248,  3.16885758,  3.58676224]),\n",
       " array([-0.84887206, -0.33207553,  3.15364443,  3.56032998]),\n",
       " array([-0.83147761, -0.28802875,  3.15964514,  3.52515956]),\n",
       " array([-0.81352053, -0.24176251,  3.16723112,  3.4889317 ]),\n",
       " array([-0.80378813, -0.21608039,  3.15931029,  3.45833305]),\n",
       " array([-0.7917758 , -0.1843569 ,  3.15554737,  3.42568574]),\n",
       " array([-0.7759623 , -0.14232637,  3.15919161,  3.38962502]),\n",
       " array([-0.76332702, -0.10825391,  3.15647641,  3.35556836]),\n",
       " array([-0.74997069, -0.07184156,  3.15520495,  3.32047552]),\n",
       " array([-0.73849732, -0.04031354,  3.14976963,  3.28653383]),\n",
       " array([-0.72392909,  0.        ,  3.15076775,  3.24952256]),\n",
       " array([-0.72367263,  0.        ,  3.12039086,  3.22470745]),\n",
       " array([-0.71773131,  0.        ,  3.09818066,  3.19766659]),\n",
       " array([-0.72374493,  0.        ,  3.05891014,  3.1747754 ]),\n",
       " array([-0.7173857 ,  0.        ,  3.03697755,  3.14715043]),\n",
       " array([-0.70523493,  0.        ,  3.02056866,  3.11785887]),\n",
       " array([-0.69782327,  0.        ,  2.99732931,  3.0900815 ]),\n",
       " array([-0.69307433,  0.        ,  2.97080741,  3.06291264]),\n",
       " array([-0.65156996,  0.        ,  2.97634178,  3.02961721]),\n",
       " array([-0.61274879,  0.        ,  2.97513264,  3.00012166]),\n",
       " array([-0.58509755,  0.        ,  2.96319451,  2.97216583]),\n",
       " array([-6.00820243e-01, -3.14038921e-06,  2.91819194e+00,  2.94447850e+00]),\n",
       " array([-0.54776078,  0.        ,  2.92305106,  2.91616177]),\n",
       " array([-0.49669547,  0.        ,  2.92482248,  2.88916594]),\n",
       " array([-0.46034651,  0.        ,  2.91500936,  2.8615579 ]),\n",
       " array([-0.43924183,  0.        ,  2.89357789,  2.8326846 ]),\n",
       " array([-0.42114809,  0.        ,  2.86936609,  2.80318528]),\n",
       " array([-0.37710231,  0.        ,  2.86234066,  2.77473542]),\n",
       " array([-0.36078815,  0.        ,  2.83524682,  2.74417042]),\n",
       " array([-0.32730807,  0.        ,  2.81919184,  2.7140471 ]),\n",
       " array([-0.29040147,  0.        ,  2.80460709,  2.68351837]),\n",
       " array([-0.26100188,  0.        ,  2.78395265,  2.6519696 ]),\n",
       " array([-0.23403905,  0.        ,  2.76072855,  2.61970054]),\n",
       " array([-0.19633863,  0.        ,  2.74382518,  2.58723019]),\n",
       " array([-0.17791327,  0.        ,  2.71294983,  2.55340083]),\n",
       " array([-0.12625897,  0.        ,  2.70333197,  2.51992837]),\n",
       " array([-0.09535538,  0.        ,  2.67864753,  2.48510602]),\n",
       " array([-0.05649025,  0.        ,  2.65815739,  2.44967008]),\n",
       " array([-0.01584183,  0.        ,  2.63763392,  2.41346342]),\n",
       " array([0.        , 0.        , 2.5995733 , 2.37634385]),\n",
       " array([0.        , 0.        , 2.90224674, 2.23453556]),\n",
       " array([0.        , 0.        , 2.90064745, 2.1756571 ]),\n",
       " array([0.        , 0.        , 2.88959628, 2.11967691]),\n",
       " array([0.        , 0.        , 2.8984936 , 2.05314704]),\n",
       " array([0.        , 0.        , 2.89326238, 1.99161195]),\n",
       " array([0.        , 0.        , 2.89341202, 1.92595881]),\n",
       " array([0.        , 0.        , 2.89113194, 1.85983192]),\n",
       " array([0.        , 0.        , 2.88973273, 1.79155147]),\n",
       " array([0.        , 0.        , 2.8825456 , 1.72445091]),\n",
       " array([0.        , 0.        , 2.88019419, 1.65301627]),\n",
       " array([0.        , 0.        , 2.88195891, 1.57737666]),\n",
       " array([0.        , 0.        , 2.88257639, 1.50019671]),\n",
       " array([0.        , 0.        , 2.87738246, 1.42399342]),\n",
       " array([0.        , 0.        , 2.87838348, 1.34196882]),\n",
       " array([0.        , 0.        , 2.87819075, 1.25807283]),\n",
       " array([0.        , 0.        , 2.87837266, 1.17126788]),\n",
       " array([0.        , 0.        , 2.87954995, 1.08097403]),\n",
       " array([0.        , 0.        , 2.87461386, 0.99136144]),\n",
       " array([0.        , 0.        , 2.87753456, 0.8936161 ]),\n",
       " array([0.        , 0.        , 2.87862803, 0.79343685]),\n",
       " array([0.        , 0.        , 2.87693487, 0.69125766]),\n",
       " array([0.        , 0.        , 2.88278875, 0.57993285]),\n",
       " array([0.        , 0.        , 2.88375547, 0.4673023 ]),\n",
       " array([0.        , 0.        , 2.8905426 , 0.34569528]),\n",
       " array([0.        , 0.        , 2.89382002, 0.22104421]),\n",
       " array([0.        , 0.        , 2.89895922, 0.08901774]),\n",
       " array([0.        , 0.        , 2.84407415, 0.        ]),\n",
       " array([0.        , 0.        , 2.77380838, 0.        ]),\n",
       " array([0.        , 0.        , 2.69757572, 0.        ]),\n",
       " array([0.        , 0.        , 2.62431686, 0.        ]),\n",
       " array([0.        , 0.        , 2.54003727, 0.        ]),\n",
       " array([0.        , 0.        , 2.45326688, 0.        ]),\n",
       " array([0.       , 0.       , 2.3624031, 0.       ]),\n",
       " array([0.        , 0.        , 2.26654779, 0.        ]),\n",
       " array([0.        , 0.        , 2.16159776, 0.        ]),\n",
       " array([0.        , 0.        , 2.05106895, 0.        ]),\n",
       " array([0.        , 0.        , 1.93251455, 0.        ]),\n",
       " array([0.        , 0.        , 1.80075548, 0.        ])]"
      ]
     },
     "execution_count": 67,
     "metadata": {},
     "output_type": "execute_result"
    }
   ],
   "source": [
    "coef_l"
   ]
  },
  {
   "cell_type": "markdown",
   "metadata": {},
   "source": [
    "不难看出，在对鸢尾花数据集的二、三分类的子数据集进行分类时，仍然还是第三个特征会相对重要，因此我们根据上述结果，构建一个正则化项为l1、C取值为0.2的逻辑回归模型进行训练，此时由于其他三个特征的参数都被归零，因此该模型训练过程实际上就相当于带入第三个特征进行建模："
   ]
  },
  {
   "cell_type": "code",
   "execution_count": 69,
   "metadata": {},
   "outputs": [],
   "source": [
    "clf = LogisticRegression(penalty='l1', C=0.2, max_iter=int(1e6), solver='saga').fit(X, y)"
   ]
  },
  {
   "cell_type": "code",
   "execution_count": 71,
   "metadata": {},
   "outputs": [
    {
     "data": {
      "text/plain": [
       "(array([[0.        , 0.        , 2.84518611, 0.        ]]),\n",
       " array([-13.88186328]))"
      ]
     },
     "execution_count": 71,
     "metadata": {},
     "output_type": "execute_result"
    }
   ],
   "source": [
    "clf.coef_, clf.intercept_"
   ]
  },
  {
   "cell_type": "code",
   "execution_count": 72,
   "metadata": {},
   "outputs": [
    {
     "data": {
      "text/plain": [
       "0.93"
      ]
     },
     "execution_count": 72,
     "metadata": {},
     "output_type": "execute_result"
    }
   ],
   "source": [
    "clf.score(X, y)"
   ]
  },
  {
   "cell_type": "markdown",
   "metadata": {},
   "source": [
    "此时模型准确率为93%，同样，如果构建一个只包含第三、四个特征的特征空间，此时上述逻辑回归建模结果的决策边界为x=b，其中b的取值如下："
   ]
  },
  {
   "cell_type": "code",
   "execution_count": 75,
   "metadata": {},
   "outputs": [
    {
     "data": {
      "text/plain": [
       "4.87907038179657"
      ]
     },
     "execution_count": 75,
     "metadata": {},
     "output_type": "execute_result"
    }
   ],
   "source": [
    "b = 13.88186328 / 2.84518611\n",
    "b"
   ]
  },
  {
   "cell_type": "markdown",
   "metadata": {},
   "source": [
    "我们可以通过可视化的方法观察此时特征空间中样本分布情况，以及x=b的决策边界的分类效果："
   ]
  },
  {
   "cell_type": "code",
   "execution_count": 84,
   "metadata": {},
   "outputs": [
    {
     "data": {
      "text/plain": [
       "[<matplotlib.lines.Line2D at 0x7ffb992d39a0>]"
      ]
     },
     "execution_count": 84,
     "metadata": {},
     "output_type": "execute_result"
    },
    {
     "data": {
      "image/png": "[encoded data removed]",
      "text/plain": [
       "<Figure size 432x288 with 1 Axes>"
      ]
     },
     "metadata": {
      "needs_background": "light"
     },
     "output_type": "display_data"
    }
   ],
   "source": [
    "plt.plot(X[:, 2][y==1], X[:, 3][y==1], 'ro')\n",
    "plt.plot(X[:, 2][y==2], X[:, 3][y==2], 'bo')\n",
    "plt.plot(np.array([b]*20), np.arange(0.5, 2.5, 0.1), 'r--')"
   ]
  },
  {
   "cell_type": "markdown",
   "metadata": {},
   "source": [
    "当然，我们也可以简单验算下x=b的决策边界是否是模型真实的分类边界："
   ]
  },
  {
   "cell_type": "code",
   "execution_count": 80,
   "metadata": {},
   "outputs": [],
   "source": [
    "y_pred = clf.predict(X)"
   ]
  },
  {
   "cell_type": "code",
   "execution_count": 79,
   "metadata": {},
   "outputs": [
    {
     "data": {
      "text/plain": [
       "[<matplotlib.lines.Line2D at 0x7ffbab00c4c0>]"
      ]
     },
     "execution_count": 79,
     "metadata": {},
     "output_type": "execute_result"
    },
    {
     "data": {
      "image/png": "[encoded data removed]",
      "text/plain": [
       "<Figure size 432x288 with 1 Axes>"
      ]
     },
     "metadata": {
      "needs_background": "light"
     },
     "output_type": "display_data"
    }
   ],
   "source": [
    "plt.scatter(X[:, 2], X[:, 3], c=y_pred)\n",
    "plt.plot(np.array([b]*20), np.arange(0.5, 2.5, 0.1), 'r--')"
   ]
  },
  {
   "cell_type": "markdown",
   "metadata": {},
   "source": [
    "> 注意，在确定第一个分类条件时我们没有直接根据逻辑回归的线性方程计算决策边界的主要原因是彼时逻辑回归方程是在mvm分类规则下的三个分类方程，其中每个方程其实都会一定程度上受到其他方程影响，导致决策边界无法直接通过方程系数进行计算。"
   ]
  },
  {
   "cell_type": "markdown",
   "metadata": {},
   "source": [
    "尽管x=b分类边界的准确率不足100%，但其仍然不失为一个不错的分类规则，即分类条件为petal length (cm) <= 4.879，当分类条件满足时，鸢尾花属于第二类、不满足时鸢尾花属于第三类，根据此分类条件进行的分类准确率为93%。我们可以将围绕鸢尾花子数据集进行二、三类的分类过程进行如下方式表示："
   ]
  },
  {
   "cell_type": "markdown",
   "metadata": {},
   "source": [
    "<center><img src=\"https://tva1.sinaimg.cn/large/008i3skNly1gsjuqwe8xmj31g80u0juq.jpg\" alt=\"1\" style=\"zoom:30%;\" /></center>"
   ]
  },
  {
   "cell_type": "markdown",
   "metadata": {},
   "source": [
    "至此，我们就根据两个简单的分类规则，对鸢尾花数据集进行了有效划分，此时整体准确率为："
   ]
  },
  {
   "cell_type": "code",
   "execution_count": 89,
   "metadata": {},
   "outputs": [
    {
     "data": {
      "text/plain": [
       "0.9533333333333334"
      ]
     },
     "execution_count": 89,
     "metadata": {},
     "output_type": "execute_result"
    }
   ],
   "source": [
    "1-(y != y_pred).sum() / 150"
   ]
  },
  {
   "cell_type": "markdown",
   "metadata": {},
   "source": [
    "- 决策树简单构建"
   ]
  },
  {
   "cell_type": "markdown",
   "metadata": {},
   "source": [
    "&emsp;&emsp;而上述整个过程，我们是通过带正则化项的逻辑回归模型挖掘出的两个分类规则，并且这两个分类规则呈现递进的关系，也就是一个分类规则是在另一个分类规则的分类结果下继续进行分类，最终这两个分类规则和对应划分出来的数据集呈现出树状，而带有不同层次分类规则的模型，其实就是决策树模型，也就是说通过上面一系列的操作，我们就已经成功构建了一个决策树模型。        "
   ]
  },
  {
   "cell_type": "markdown",
   "metadata": {},
   "source": [
    "- 决策树的分类过程"
   ]
  },
  {
   "cell_type": "markdown",
   "metadata": {},
   "source": [
    "&emsp;&emsp;对于上述已经构建好的一个决策树来说，当对新数据进行判别时，任意进来一条数据我们都可以自上而下进行分类，先根据petal length (cm) <= 2.5判断是否属于第一类，如果不满足条件则不属于第一类，此时进一步考虑petal length (cm) <= 4.879是否满足条件，并据此判断是属于第二类还是第三类。"
   ]
  },
  {
   "cell_type": "markdown",
   "metadata": {},
   "source": [
    "&emsp;&emsp;当然，目前主流的决策树并不是依据逻辑回归来寻找分类规则，但上述构建决策树模型的一般过程和核心思想和目前主流的决策树模型并无二致，因此我们可以围绕上述过程进行进一步总结："
   ]
  },
  {
   "cell_type": "markdown",
   "metadata": {},
   "source": [
    "- 决策树模型本质"
   ]
  },
  {
   "cell_type": "markdown",
   "metadata": {},
   "source": [
    "&emsp;&emsp;当决策树模型构建好了之后，实际上一个决策树就是一系列分类规则的叠加，换而言之，决策树模型的构建从本质上来看就是在挖掘有效的分类规则，然后以树的形式来进行呈现。"
   ]
  },
  {
   "cell_type": "markdown",
   "metadata": {},
   "source": [
    "- 决策树的树生长过程"
   ]
  },
  {
   "cell_type": "markdown",
   "metadata": {},
   "source": [
    "&emsp;&emsp;在整个树的构建过程中，我们实际上是分层来对数据集进行划分的，每当定下一个分类规则后，我们就可以根据是否满足分类规则来对数据集进行划分，而后续的分类规则的挖掘则进一步根据上一层划分出来的子数据集的情况来定，逐层划分数据集、逐数据集寻找分类规则再划分数据集，实际上就就是树模型的生长过程，并且不难看出，这个过程实际上也是一个迭代计算过程（上一层的数据集决定有效规律的挖掘、而有效规律的挖掘）。而停止生长的条件，我们也可以根据“继续迭代对结果没有显著影响”这个一般思路来构建。"
   ]
  },
  {
   "cell_type": "markdown",
   "metadata": {},
   "source": [
    "- 树模型的基本结构"
   ]
  },
  {
   "cell_type": "markdown",
   "metadata": {},
   "source": [
    "&emsp;&emsp;当然，在已经构建了决策树之后，我们也能够对一个树模型的内部结构来进行说明。对上述决策树来说，我们可以将其看成是点（数据集）和线构成的一个图结构（准确来说应该是一种有向无环图），而对于任何一个图结构，我们都能够通过点和线来构建对其的基本认知，对于决策树来说，我们主要将借助边的方向来定义不同类型点，首先我们知道如果一条边从A点引向B点，则我们这条边对于A点来说是出边、对于B点来说是入边，A节点是B节点的父节点，据此我们可以将决策树中所有的点进行如下类别划分："
   ]
  },
  {
   "cell_type": "markdown",
   "metadata": {},
   "source": [
    "&emsp;&emsp;(1)根节点（root node）：没有入边，但有零条或者多条出边的点；        \n",
    "&emsp;&emsp;(2)内部点（internal node）：只有一条入边并且有两条或多条出边的点；        \n",
    "&emsp;&emsp;(3)叶节点（leaf node）：只有入边但没有出边的点；"
   ]
  },
  {
   "cell_type": "markdown",
   "metadata": {},
   "source": [
    "&emsp;&emsp;因此，我们知道在一次次划分数据集的过程中，原始的完整数据集对应着决策树的根节点，而根结点划分出的子数据集就构成了决策树中的内部节点，同时迭代停止的时候所对应的数据集，其实就是决策树中的叶节点。并且在上述二叉树（每一层只有两个分支）中，一个父节点对应两个子节点。并且根据上述决策树的建模过程不难理解，其实每个数据集都是由一系列分类规则最终划分出来的，我们也可以理解成每个节点其实都对应着一系列分类规则，例如上述E节点实际上就是petal length (cm) <= 2.5和petal length (cm) <= 4.879同时为False时划分出来的数据集。"
   ]
  },
  {
   "cell_type": "markdown",
   "metadata": {},
   "source": [
    "&emsp;&emsp;在了解决策树的一般建模过程和模型本质后，接下来我们来简单说明一下目前树模型的主流派系，然后详细讨论目前最通用的机器学习流派的决策树模型的建模过程。"
   ]
  },
  {
   "cell_type": "markdown",
   "metadata": {},
   "source": [
    "## 二、决策树的分类与流派"
   ]
  },
  {
   "cell_type": "markdown",
   "metadata": {},
   "source": [
    "&emsp;&emsp;正如此前所说，树模型并不是一个模型，而是一类模型。需要知道的是，尽管树模型的核心思想都是源于一种名为贪心算法的局部最优求解算法，但时至今日，树模型已经有数十种之多，并且划分为多个流派。目前主流的机器学习算法类别可划分如下："
   ]
  },
  {
   "cell_type": "markdown",
   "metadata": {},
   "source": [
    "- ID3(Iterative Dichotomiser 3) 、C4.5、C5.0决策树"
   ]
  },
  {
   "cell_type": "markdown",
   "metadata": {},
   "source": [
    "&emsp;&emsp;是最为经典的决策树算法、同时也是真正将树模型发扬光大的一派算法。最早的ID3决策树由Ross Quinlan在1975年（博士毕业论文中）提出，至此也奠定了现在决策树算法的基本框架——确定分类规则判别指标、寻找能够最快速降低信息熵的方式进行数据集划分（分类规则提取），不断迭代直至收敛；而C4.5则是ID3的后继者，C4.5在ID3的基础上补充了一系列基础概念、同时也优化了决策树的算法流程，一方面使得现在的树模型能够处理连续变量（此前的ID3只能处理分类变量），同时也能够一定程度提高树模型的生长速度，而C4.5也是目前最为通用的决策树模型的一般框架，后续尽管有其他的决策树模型诞生，但大都是在C4.5的基本流程上进行略微调整或者指标修改，甚至在C4.5还被IEEE评为10大数据挖掘算法之首，由此可见C4.5算法的巨大影响力。此外，由于C4.5开源时间较早，这也使得在过去的很长一段时间内，C4.5都是最通用的决策树算法。当然在此后，Ross Quinlan又公布了C5.0算法，进一步优化了运行效率和预测流程，通过一系列数据结构的调整使得其能够更加高效的利用内存、并提高执行速度。当然，由于C5.0在很长的一段时间是作为收费软件存在、并且多集成与像SAS软件中，因此并未被最广泛的应用于各领域。      \n",
    "&emsp;&emsp;此外，值得一提的是，由于Ross Quinlan拥有非常深厚的数学背景，因此在设计决策树算法的时候，尽管决策树是一种非参数方法（无需提前进行数据训练的假设检验），但在实际执行决策树剪枝（一种防止过拟合的手段）时却需要用到非常多统计学方法，在实际构建模型时也无需划分训练集和测试集，因此C4.5其实更像是一种统计学算法，而非机器学习算法。"
   ]
  },
  {
   "cell_type": "markdown",
   "metadata": {},
   "source": [
    "> 需要知道的是，C4.5在树的生长上还是更像机器学习算法，而这种半“统计学”半“机器学习”的状态也是该算法存在争议的地方。"
   ]
  },
  {
   "cell_type": "markdown",
   "metadata": {},
   "source": [
    "- CART决策树"
   ]
  },
  {
   "cell_type": "markdown",
   "metadata": {},
   "source": [
    "&emsp;&emsp;CART全称为Classification and Regression Trees，即分类与回归决策树，同时也被称为C&RT算法，在1984年由Breiman、Friedman、Olshen和Stone四人共同提出。CART树和C4.5决策树的构造过程非常类似，但拓展了回归类问题的计算流程（此前C4.5只能解决分类问题），并且允许采用更丰富的评估指标来指导建模流程，并且，最关键的是，CART算法其实是一个非常典型的机器学习算法，在早期CART树的训练过程中，就是通过划分训练集和验证集（或者测试集）来验证模型结果、并进一步据此来调整模型结构，当然，除此以外，CART树还能够用一套流程同时处理离散变量和连续变量、能够同时处理分类问题和回归问题，这些都符合一个机器学习领域要求算法有更普适的功能和更强的鲁棒性的要求，这也是为何近几年CART树会更加流行的主要原因。当然，在skelarn中，决策树模型评估器集成的也是CART树模型，稍后我们在介绍决策树建模流程的时候也将主要介绍CART树的建模流程。"
   ]
  },
  {
   "cell_type": "markdown",
   "metadata": {},
   "source": [
    "此处我们也可以参考sklearn中对于ID3、C4.5和CART树的对比描述："
   ]
  },
  {
   "cell_type": "markdown",
   "metadata": {},
   "source": [
    "<center><img src=\"https://tva1.sinaimg.cn/large/008i3skNly1gsjz6p0r8tj31ci0u0n5v.jpg\" alt=\"1\" style=\"zoom:30%;\" /></center>"
   ]
  },
  {
   "cell_type": "markdown",
   "metadata": {},
   "source": [
    "> 需要注意的是，sklearn中也并非实现的是完全的CART树，通过相关评估器参数的调整，sklearn中也能实现“CART树的建模流程+C4.5的决策树生长指标”这种混合模型。"
   ]
  },
  {
   "cell_type": "markdown",
   "metadata": {},
   "source": [
    "> 此外，与其说CART树是一个非常“机器学习”的算法，不如说CART树是一个更加适合使用机器学习的方法来进行建模的模型，机器学习或者统计学建模方法更大程度上是一种建模思路，很多模型（像逻辑回归、包括树模型在内）其实都有机器学习实现的方式和统计学模型实现的方法。"
   ]
  },
  {
   "cell_type": "markdown",
   "metadata": {},
   "source": [
    "- CHAID树"
   ]
  },
  {
   "cell_type": "markdown",
   "metadata": {},
   "source": [
    "&emsp;&emsp;CHAID是Chi-square automatic interaction detection的简称，由Kass在1975年提出，如果说CART树是一个典型的机器学习算法，那么CHAID树就是一个典型的统计学算法。从该算法的名字就能看出，整个决策树其实是基于卡方检验（Chi-square）的结果来构建的，并且整个决策树的建模流程（树的生长过程）及控制过拟合的方法（剪枝过程）都和C4.5、CART有根本性的区别，例如CART都只能构建二叉树，而CHAID可以构建多分枝的树（注：C4.5也可以构建多分枝的树）；例如C4.5和CART的剪枝都是自下而上（Bottom-up）进行剪枝，也被称为修剪法（Pruning Technique），而CHAID树则是自上而下（Top-Down）进行剪枝，也被称为盆栽法（Bonsai Technique）。当然，该决策树算法目前并非主流树模型，因此我们此处仅作简单介绍，并不做更加深入的探讨。"
   ]
  },
  {
   "cell_type": "markdown",
   "metadata": {},
   "source": [
    "> 上述讨论所涉及到的关键概念，如剪枝、划分规则提取方式、划分规则评估指标等内容，我们都将在下一小节进行详细介绍。"
   ]
  },
  {
   "cell_type": "markdown",
   "metadata": {},
   "source": [
    "&emsp;&emsp;在课程接下来的部分，我们将重点讨论关于CART树的建模流程，以及在Scikit-Learn中的实现方法。同时，ID3、C4.5决策树作为经典模型，尽管我们无法在sklearn中实现相关模型的建模，但对这些算法的了解仍然会非常有助于我们理解树模型的建模思想，因此我们后续也会以加餐形式介绍ID3、C4.5的基本建模流程。"
   ]
  }
 ],
 "metadata": {
  "kernelspec": {
   "display_name": "Python 3",
   "language": "python",
   "name": "python3"
  },
  "language_info": {
   "codemirror_mode": {
    "name": "ipython",
    "version": 3
   },
   "file_extension": ".py",
   "mimetype": "text/x-python",
   "name": "python",
   "nbconvert_exporter": "python",
   "pygments_lexer": "ipython3",
   "version": "3.8.5"
  }
 },
 "nbformat": 4,
 "nbformat_minor": 4
}
